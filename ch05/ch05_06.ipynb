{
 "cells": [
  {
   "cell_type": "markdown",
   "id": "5c9f800a-4fe1-4872-9c35-c206cbdfeb84",
   "metadata": {},
   "source": [
    "# 組み込み型としてのファイル"
   ]
  },
  {
   "cell_type": "markdown",
   "id": "c7842a49-978d-4dfd-abff-23cc451f314e",
   "metadata": {},
   "source": [
    "## ファイルを開く"
   ]
  },
  {
   "cell_type": "code",
   "execution_count": null,
   "id": "69f58817-de39-4696-8b5c-6676ce669554",
   "metadata": {},
   "outputs": [],
   "source": [
    "# 5・6・1\n",
    "text_file = open(\"test.txt\", \"w\", encoding=\"utf8\")"
   ]
  },
  {
   "cell_type": "code",
   "execution_count": null,
   "id": "5034ac33-6f08-495d-afd3-9d8064197fb4",
   "metadata": {},
   "outputs": [],
   "source": [
    "# 5・6・2\n",
    "text_file.write(\"みんPy\")"
   ]
  },
  {
   "cell_type": "code",
   "execution_count": null,
   "id": "8ed84c88-607e-4151-b535-456efed00be8",
   "metadata": {},
   "outputs": [],
   "source": [
    "# 5・6・3\n",
    "text_file.close()"
   ]
  },
  {
   "cell_type": "code",
   "execution_count": null,
   "id": "d35eccb2-b560-4df8-8dc8-f4cf60108bef",
   "metadata": {},
   "outputs": [],
   "source": [
    "# 5・6・4\n",
    "bin_file = open(\"test.txt\", \"rb+\")"
   ]
  },
  {
   "cell_type": "code",
   "execution_count": null,
   "id": "b9996303-7b06-4662-9c02-a84daa33765c",
   "metadata": {},
   "outputs": [],
   "source": [
    "# 5・6・5\n",
    "bstr = bin_file.read()\n",
    "bstr   # 結果を確認"
   ]
  },
  {
   "cell_type": "code",
   "execution_count": null,
   "id": "b882da4b-e78b-4589-96cf-c06ba50db84c",
   "metadata": {},
   "outputs": [],
   "source": [
    "# 5・6・6\n",
    "new_tfile = open(\"test.txt\", \"r+\", encoding=\"utf8\")\n",
    "new_str = new_tfile.read()\n",
    "new_str  # 結果を表示"
   ]
  },
  {
   "cell_type": "code",
   "execution_count": null,
   "id": "9b57f292-bf4e-4d89-8b33-0017e96cfb5f",
   "metadata": {},
   "outputs": [],
   "source": []
  }
 ],
 "metadata": {
  "kernelspec": {
   "display_name": "Python 3 (ipykernel)",
   "language": "python",
   "name": "python3"
  },
  "language_info": {
   "codemirror_mode": {
    "name": "ipython",
    "version": 3
   },
   "file_extension": ".py",
   "mimetype": "text/x-python",
   "name": "python",
   "nbconvert_exporter": "python",
   "pygments_lexer": "ipython3",
   "version": "3.12.4"
  }
 },
 "nbformat": 4,
 "nbformat_minor": 5
}
