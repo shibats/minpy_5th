{
 "cells": [
  {
   "cell_type": "markdown",
   "id": "4886ccc6-c201-49c3-b5a0-998a333d2530",
   "metadata": {},
   "source": [
    "# その他の組み込み型"
   ]
  },
  {
   "cell_type": "markdown",
   "id": "f052e025-9c1f-452f-aa36-36f54a24c4f5",
   "metadata": {},
   "source": [
    "## bytes型"
   ]
  },
  {
   "cell_type": "code",
   "execution_count": null,
   "id": "aa5290ea-edd2-43c6-a57f-b7722cc6182d",
   "metadata": {},
   "outputs": [],
   "source": [
    "# 5・5・1\n",
    "byte_str = b\"This is bytes string.\"\n",
    "print(byte_str)   # print()で表示"
   ]
  },
  {
   "cell_type": "code",
   "execution_count": null,
   "id": "d74a2c20-46aa-4235-9fbb-8f624668106f",
   "metadata": {},
   "outputs": [],
   "source": [
    "# 5・5・2\n",
    "multibyte_bytes = b\"これはbytes型の文字列です\"\n",
    "print(multibyte_bytes)"
   ]
  },
  {
   "cell_type": "code",
   "execution_count": null,
   "id": "69488674-11b0-4451-946b-461e83a49614",
   "metadata": {},
   "outputs": [],
   "source": [
    "# 5・5・3\n",
    "from urllib.request import urlopen\n",
    "url = \"https://www.jma.go.jp/bosai/amedas/const/amedastable.json\"\n",
    "json_str = urlopen(url).read()   # ネットからデータを取得\n",
    "print(json_str)   # 確認のために表示"
   ]
  },
  {
   "attachments": {},
   "cell_type": "markdown",
   "id": "93525144-f248-4d71-b339-be1b2fe06e9c",
   "metadata": {},
   "source": [
    "## 文字のエンコード変換"
   ]
  },
  {
   "cell_type": "code",
   "execution_count": null,
   "id": "fbe9874d-0ddc-4269-b9d5-8a7489ad95d5",
   "metadata": {},
   "outputs": [],
   "source": [
    "# 5・5・4\n",
    "kj_first_u = b\"\\xe5\\xae\\x97\""
   ]
  },
  {
   "cell_type": "code",
   "execution_count": null,
   "id": "7f8d355d-411f-4da2-969e-837ea8512bf4",
   "metadata": {},
   "outputs": [],
   "source": [
    "# 5・5・5\n",
    "kj_first_str = kj_first_u.decode(\"utf8\")\n",
    "kj_first_str   # 文字列を確認"
   ]
  },
  {
   "cell_type": "code",
   "execution_count": null,
   "id": "6710ee97-c18a-4add-96fd-d91ef1287be9",
   "metadata": {},
   "outputs": [],
   "source": [
    "# 5・5・6\n",
    "kj_first_e = b\"\\xbd\\xa1\""
   ]
  },
  {
   "cell_type": "code",
   "execution_count": null,
   "id": "393d765c-ede2-4c2f-9fa7-fcfbb32dc464",
   "metadata": {},
   "outputs": [],
   "source": [
    "# 5・5・7\n",
    "kj_first_str2 = kj_first_e.decode(\"euc-jp\")\n",
    "kj_first_str2   # 文字列を確認"
   ]
  },
  {
   "cell_type": "markdown",
   "id": "831fa3e9-a796-4e16-aa58-88372be9403d",
   "metadata": {},
   "source": [
    "## 文字列とbytes型の使い分け"
   ]
  },
  {
   "cell_type": "code",
   "execution_count": null,
   "id": "d0485947-edac-47e8-ac0d-764e7ca6a9c3",
   "metadata": {},
   "outputs": [],
   "source": [
    "# 5・5・8\n",
    "souya = \"宗谷岬\"\n",
    "souya[1]  # 0から数えて1文字目を取り出す"
   ]
  },
  {
   "cell_type": "code",
   "execution_count": null,
   "id": "bd4c26c7-bf25-4bc4-9ae9-c1dc71bb81b6",
   "metadata": {},
   "outputs": [],
   "source": [
    "# 5・5・9\n",
    "b_souya = souya.encode(\"utf8\")\n",
    "b_souya[1]"
   ]
  },
  {
   "cell_type": "markdown",
   "id": "fafa8256-40b3-4c2d-9a39-cfc66161c683",
   "metadata": {},
   "source": [
    "## bytearray型"
   ]
  },
  {
   "cell_type": "code",
   "execution_count": null,
   "id": "2986c26f-c547-4267-8153-e0b34c3929a3",
   "metadata": {},
   "outputs": [],
   "source": [
    "# 5・5・10\n",
    "b_str = b\"PYtHON\"\n",
    "new_b_str = b_str[:2] + b\"T\"+b_str[3:]\n",
    "new_b_str   # 結果を確認"
   ]
  },
  {
   "cell_type": "code",
   "execution_count": null,
   "id": "7b4738d2-044a-4d5f-bb7a-18bd0b591c3a",
   "metadata": {},
   "outputs": [],
   "source": [
    "# 5・5・11\n",
    "barray_str = bytearray(b\"PYtHON\")"
   ]
  },
  {
   "cell_type": "code",
   "execution_count": null,
   "id": "d58b9684-9bed-4e9b-9547-021d66005214",
   "metadata": {},
   "outputs": [],
   "source": [
    "# 5・5・12\n",
    "barray_str[2] = ord(\"T\")\n",
    "barray_str   # 結果を確認"
   ]
  },
  {
   "cell_type": "markdown",
   "id": "83961ddd-a2d3-45b7-84c5-edd7213ff894",
   "metadata": {},
   "source": [
    "## bytes型，bytearray型のメソッド"
   ]
  },
  {
   "cell_type": "code",
   "execution_count": null,
   "id": "5fbc1019-8574-4700-9a99-f23b3f4e22bd",
   "metadata": {},
   "outputs": [],
   "source": [
    "# 5・5・13\n",
    "bytes.fromhex('686578')"
   ]
  },
  {
   "cell_type": "markdown",
   "id": "87234256-86b3-4d47-814d-a0277936e109",
   "metadata": {},
   "source": [
    "## frozenset型"
   ]
  },
  {
   "cell_type": "code",
   "execution_count": null,
   "id": "177f5751-faa3-425f-820c-c9dcfeeb62f0",
   "metadata": {},
   "outputs": [],
   "source": [
    "# 5・5・14\n",
    "curry = frozenset([\"ジャガイモ\", \"玉ねぎ\", \"ニンジン\"])\n",
    "stew = frozenset([\"ジャガイモ\", \"ニンジン\", \"玉ねぎ\"])\n",
    "nikujaga = frozenset([\"ニンジン\", \"玉ねぎ\", \"ジャガイモ\"])\n",
    "ingredients = {curry, stew, nikujaga}\n",
    "ingredients   # 確認のために表示"
   ]
  },
  {
   "cell_type": "code",
   "execution_count": null,
   "id": "cf3fe1de-457a-4a25-a59b-0915b73c7cfc",
   "metadata": {},
   "outputs": [],
   "source": []
  }
 ],
 "metadata": {
  "kernelspec": {
   "display_name": "Python 3 (ipykernel)",
   "language": "python",
   "name": "python3"
  },
  "language_info": {
   "codemirror_mode": {
    "name": "ipython",
    "version": 3
   },
   "file_extension": ".py",
   "mimetype": "text/x-python",
   "name": "python",
   "nbconvert_exporter": "python",
   "pygments_lexer": "ipython3",
   "version": "3.12.4"
  }
 },
 "nbformat": 4,
 "nbformat_minor": 5
}
