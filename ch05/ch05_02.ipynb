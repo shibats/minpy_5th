{
 "cells": [
  {
   "cell_type": "markdown",
   "id": "cac8ede7-e0ca-401e-bace-76c7750e7165",
   "metadata": {},
   "source": [
    "# 複雑なデータ構造"
   ]
  },
  {
   "cell_type": "markdown",
   "id": "f3019271-bee0-44bc-9a41-e02d943cb96e",
   "metadata": {},
   "source": [
    "## インターネットからデータ構造を取得する"
   ]
  },
  {
   "cell_type": "code",
   "execution_count": null,
   "id": "d22f4fac-4410-430f-992a-bd9a487fcf24",
   "metadata": {},
   "outputs": [],
   "source": [
    "# 5・2・1\n",
    "from urllib.request import urlopen\n",
    "url = \"https://www.jma.go.jp/bosai/amedas/const/amedastable.json\"\n",
    "json_str = urlopen(url).read()"
   ]
  },
  {
   "cell_type": "code",
   "execution_count": null,
   "id": "ccbc0558-6ff8-41fb-9c2c-0fb531a83e12",
   "metadata": {},
   "outputs": [],
   "source": [
    "# 5・2・2\n",
    "amedas = eval(json_str)"
   ]
  },
  {
   "cell_type": "code",
   "execution_count": null,
   "id": "d89cbc87-79a9-4cfb-90c7-955a2d3e4132",
   "metadata": {
    "scrolled": true
   },
   "outputs": [],
   "source": [
    "# 5・2・3\n",
    "amedas.keys()"
   ]
  },
  {
   "cell_type": "code",
   "execution_count": null,
   "id": "da3d7980-1da4-4ad3-92b8-64b65d413932",
   "metadata": {},
   "outputs": [],
   "source": [
    "# 5・2・3\n",
    "amedas[\"11001\"]"
   ]
  },
  {
   "cell_type": "code",
   "execution_count": null,
   "id": "24474cf8-ddd1-42bd-8886-0a457c9414db",
   "metadata": {},
   "outputs": [],
   "source": [
    "# 5・2・4\n",
    "names = []   # 漢字名を追加するリストを初期化\n",
    "for point_id in amedas.keys():\n",
    "    name = amedas[point_id][\"kjName\"]\n",
    "    names.append(name)\n",
    "names    # 結果を表示"
   ]
  },
  {
   "cell_type": "code",
   "execution_count": null,
   "id": "78ebccd4-e0e6-4cfa-9417-72ebc176392c",
   "metadata": {},
   "outputs": [],
   "source": [
    "# 5・2・5\n",
    "lats = []   # 緯度を追加するリストを初期化\n",
    "lons = []   # 経度を追加するリストを初期化\n",
    "for point_id in amedas.keys():\n",
    "    # 緯度と経度の度と分を取り出す\n",
    "    lat_d = amedas[point_id][\"lat\"][0]\n",
    "    lat_m = amedas[point_id][\"lat\"][1]\n",
    "    lon_d = amedas[point_id][\"lon\"][0]\n",
    "    lon_m = amedas[point_id][\"lon\"][1]\n",
    "    # 分を度に追加\n",
    "    lat = lat_d+lat_m/60\n",
    "    lon = lon_d+lon_m/60\n",
    "    # 緯度と経度をリストに追加\n",
    "    lats.append(lat)\n",
    "    lons.append(lon)"
   ]
  },
  {
   "cell_type": "code",
   "execution_count": null,
   "id": "94fb34e0-7d19-485f-892b-90d1f656feb9",
   "metadata": {},
   "outputs": [],
   "source": [
    "# 5・2・6\n",
    "import matplotlib.pyplot as plt\n",
    "plt.scatter(lons, lats, s=1)"
   ]
  },
  {
   "cell_type": "code",
   "execution_count": null,
   "id": "83429762-eb97-4499-8320-7807b351373e",
   "metadata": {},
   "outputs": [],
   "source": []
  }
 ],
 "metadata": {
  "kernelspec": {
   "display_name": "Python 3 (ipykernel)",
   "language": "python",
   "name": "python3"
  },
  "language_info": {
   "codemirror_mode": {
    "name": "ipython",
    "version": 3
   },
   "file_extension": ".py",
   "mimetype": "text/x-python",
   "name": "python",
   "nbconvert_exporter": "python",
   "pygments_lexer": "ipython3",
   "version": "3.12.4"
  }
 },
 "nbformat": 4,
 "nbformat_minor": 5
}
