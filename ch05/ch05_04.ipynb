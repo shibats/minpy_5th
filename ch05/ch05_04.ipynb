{
 "cells": [
  {
   "cell_type": "markdown",
   "id": "afc73235-8986-4ea1-b9f1-c0fe56f5a906",
   "metadata": {},
   "source": [
    "# for文を使いこなす"
   ]
  },
  {
   "cell_type": "markdown",
   "id": "46031154-882c-4711-bbef-394b7405ff4f",
   "metadata": {},
   "source": [
    "## range()を使いこなす"
   ]
  },
  {
   "cell_type": "code",
   "execution_count": null,
   "id": "2dc0394f-6838-4bc0-9ac2-99ed0638efbc",
   "metadata": {},
   "outputs": [],
   "source": [
    "# 5・4・1\n",
    "todo_list = [\"部屋の掃除\", \"Pythonの勉強\", \"読書\"]"
   ]
  },
  {
   "cell_type": "code",
   "execution_count": null,
   "id": "6483cfb7-e070-4fc1-a616-6acf08ed41c7",
   "metadata": {},
   "outputs": [],
   "source": [
    "# 5・4・2\n",
    "index = 1 # インデックスの変数を初期化\n",
    "for todo_item in todo_list:\n",
    "    print(f\"{index}: {todo_item}\")\n",
    "    index += 1 # インデックスを1増やす"
   ]
  },
  {
   "cell_type": "code",
   "execution_count": null,
   "id": "854a0117-20be-405b-b732-027c9baa4018",
   "metadata": {},
   "outputs": [],
   "source": [
    "# 5・4・3\n",
    "for index in range(len(todo_list)):\n",
    "    print(f\"{index+1}: {todo_list[index]}\")"
   ]
  },
  {
   "cell_type": "code",
   "execution_count": null,
   "id": "7529aed3-1f37-4547-b72c-611cef016235",
   "metadata": {},
   "outputs": [],
   "source": [
    "# 5・4・4\n",
    "for index, todo_item in enumerate(todo_list):\n",
    "    print(f\"{index+1}: {todo_item}\")"
   ]
  },
  {
   "cell_type": "markdown",
   "id": "1f27cb85-121b-4f50-95f0-27e32a97bc7c",
   "metadata": {},
   "source": [
    "## for文のelse"
   ]
  },
  {
   "cell_type": "code",
   "execution_count": null,
   "id": "06608e11-bb31-4a28-8502-abad9ece4bfa",
   "metadata": {},
   "outputs": [],
   "source": [
    "# 5・4・5\n",
    "items = [3, 5, 7]\n",
    "target = 10\n",
    "found = False # 見つかったかどうかを記録するフラグ\n",
    "\n",
    "for index, item in enumerate(items):\n",
    "    if item == target:\n",
    "        print(index)\n",
    "        found = True\n",
    "        break\n",
    "\n",
    "if not found:\n",
    "    print(\"見つかりませんでした\")"
   ]
  },
  {
   "cell_type": "code",
   "execution_count": null,
   "id": "f135a8b6-5c2b-4956-a554-5a23b624ec03",
   "metadata": {},
   "outputs": [],
   "source": [
    "# 5・4・6\n",
    "items = [3, 5, 7]\n",
    "target = 10\n",
    "\n",
    "for index, item in enumerate(items):\n",
    "    if item == target:\n",
    "        print(index)\n",
    "        break\n",
    "else:\n",
    "    print(\"見つかりませんでした\")"
   ]
  },
  {
   "cell_type": "code",
   "execution_count": null,
   "id": "9cbc4960-4841-4315-b303-e21ff5a91f6b",
   "metadata": {},
   "outputs": [],
   "source": []
  }
 ],
 "metadata": {
  "kernelspec": {
   "display_name": "Python 3 (ipykernel)",
   "language": "python",
   "name": "python3"
  },
  "language_info": {
   "codemirror_mode": {
    "name": "ipython",
    "version": 3
   },
   "file_extension": ".py",
   "mimetype": "text/x-python",
   "name": "python",
   "nbconvert_exporter": "python",
   "pygments_lexer": "ipython3",
   "version": "3.12.4"
  }
 },
 "nbformat": 4,
 "nbformat_minor": 5
}
