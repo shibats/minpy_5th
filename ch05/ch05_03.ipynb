{
 "cells": [
  {
   "cell_type": "markdown",
   "id": "6f468066-21b4-4d26-8849-959c874f3e9d",
   "metadata": {},
   "source": [
    "# set型を使いこなす"
   ]
  },
  {
   "cell_type": "code",
   "execution_count": null,
   "id": "5bfeafd3-d7b1-4c6c-aca9-07d57b1d696d",
   "metadata": {},
   "outputs": [],
   "source": [
    "# 5・3・1  # ※URLからJSONを読み込み辞書にするコードに変更する\n",
    "import json\n",
    "import urllib.request\n",
    "\n",
    "# URLからJSONを読み込み、dictに変換\n",
    "url = \"http://bit.ly/40DUnNc\"\n",
    "with urllib.request.urlopen(url) as response:\n",
    "    methods_dict = json.load(response)"
   ]
  },
  {
   "cell_type": "code",
   "execution_count": null,
   "id": "61774996-80e7-4849-b13a-c7f6038b45c7",
   "metadata": {},
   "outputs": [],
   "source": [
    "# 5・3・2\n",
    "methods_dict[\"tuple\"]"
   ]
  },
  {
   "cell_type": "markdown",
   "id": "b30ca81a-c9b1-4684-a7fe-82a347991f41",
   "metadata": {},
   "source": [
    "## set型を作る – リストとリテラル"
   ]
  },
  {
   "cell_type": "code",
   "execution_count": null,
   "id": "8f0545a4-3145-4870-b038-bbcae2707838",
   "metadata": {},
   "outputs": [],
   "source": [
    "# 5・3・3\n",
    "tuple_methods = set(methods_dict[\"tuple\"])"
   ]
  },
  {
   "cell_type": "code",
   "execution_count": null,
   "id": "cb464bce-8010-4ef6-a61c-c9a221200ef4",
   "metadata": {},
   "outputs": [],
   "source": [
    "# 5・3・4\n",
    "tuple_methods = {\"count\"}"
   ]
  },
  {
   "cell_type": "code",
   "execution_count": null,
   "id": "89eb2d8c-9e34-4cd4-b02b-a5a3a21dee58",
   "metadata": {},
   "outputs": [],
   "source": [
    "# 5・3・5\n",
    "tuple_methods.add(\"index\")\n",
    "tuple_methods   # 結果を確認"
   ]
  },
  {
   "cell_type": "code",
   "execution_count": null,
   "id": "ee1cc482-5da1-430a-8ed8-eadf2e727d35",
   "metadata": {},
   "outputs": [],
   "source": [
    "# 5・3・6\n",
    "tuple_methods.add(\"index\")\n",
    "tuple_methods   # 結果を確認"
   ]
  },
  {
   "cell_type": "code",
   "execution_count": null,
   "id": "c2a30baf-3973-4d92-8234-98ebcb310f67",
   "metadata": {},
   "outputs": [],
   "source": [
    "# 5・3・7\n",
    "str_methods = set(methods_dict[\"str\"])\n",
    "list_methods = set(methods_dict[\"list\"])\n",
    "dict_methods = set(methods_dict[\"dict\"])\n",
    "set_methods = set(methods_dict[\"set\"])"
   ]
  },
  {
   "cell_type": "code",
   "execution_count": null,
   "id": "7fdaf744-5d9b-4c68-a743-5a1841ee030f",
   "metadata": {},
   "outputs": [],
   "source": [
    "# 5・3・8\n",
    "list_tuple_u = list_methods.union(tuple_methods)\n",
    "list_tuple_u   # 結果を表示"
   ]
  },
  {
   "cell_type": "code",
   "execution_count": null,
   "id": "e017c712-1d96-449d-8e3b-9acff1d84cce",
   "metadata": {},
   "outputs": [],
   "source": [
    "# 5・3・9\n",
    "list_tuple_u == list_methods"
   ]
  },
  {
   "cell_type": "code",
   "execution_count": null,
   "id": "ddfd18a7-dbfc-482f-b13c-b1efb01f3863",
   "metadata": {},
   "outputs": [],
   "source": [
    "# 5・3・10\n",
    "list_tuple_d = tuple_methods.difference(list_methods)\n",
    "list_tuple_d   # 結果を表示"
   ]
  },
  {
   "cell_type": "code",
   "execution_count": null,
   "id": "2f71da03-1bca-4160-b234-54970b319a55",
   "metadata": {},
   "outputs": [],
   "source": [
    "# 5・3・11\n",
    "dict_list_d = dict_methods.difference(list_methods)\n",
    "dict_list_d    # 結果を表示"
   ]
  },
  {
   "cell_type": "code",
   "execution_count": null,
   "id": "93792c14-4246-4a09-b1a9-db5c7bfd1a32",
   "metadata": {},
   "outputs": [],
   "source": [
    "# 5・3・12\n",
    "dict_list_is = dict_methods.intersection(list_methods)\n",
    "dict_list_is    # 結果を表示"
   ]
  },
  {
   "cell_type": "markdown",
   "id": "d39af1f7-de53-47b9-a07e-f21ddeaacbe9",
   "metadata": {},
   "source": [
    "## set型の要素として登録できる組み込み型"
   ]
  },
  {
   "cell_type": "code",
   "execution_count": null,
   "id": "f1a58363-f81a-481b-b748-e87e0c2919af",
   "metadata": {},
   "outputs": [],
   "source": [
    "# 5・3・13\n",
    "primes = {2, 3, 5, 7, 11, 13, 17, 19}"
   ]
  },
  {
   "cell_type": "markdown",
   "id": "7560ae96-f74f-47ed-9bb5-9795896ce517",
   "metadata": {},
   "source": [
    "## set型と算術・比較演算子"
   ]
  },
  {
   "cell_type": "code",
   "execution_count": null,
   "id": "e24a1371-9176-47f2-9094-169499976d43",
   "metadata": {},
   "outputs": [],
   "source": [
    "# 5・3・14\n",
    "str_list_is = str_methods & list_methods\n",
    "str_list_is    # 結果を確認"
   ]
  },
  {
   "cell_type": "code",
   "execution_count": null,
   "id": "68bd5b70-8a06-4a19-9509-369263ca4594",
   "metadata": {},
   "outputs": [],
   "source": []
  }
 ],
 "metadata": {
  "kernelspec": {
   "display_name": "base",
   "language": "python",
   "name": "python3"
  },
  "language_info": {
   "codemirror_mode": {
    "name": "ipython",
    "version": 3
   },
   "file_extension": ".py",
   "mimetype": "text/x-python",
   "name": "python",
   "nbconvert_exporter": "python",
   "pygments_lexer": "ipython3",
   "version": "3.12.4"
  }
 },
 "nbformat": 4,
 "nbformat_minor": 5
}
