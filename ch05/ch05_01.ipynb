{
 "cells": [
  {
   "cell_type": "markdown",
   "id": "d124eae0-406a-4475-8818-45ae2567f8d7",
   "metadata": {},
   "source": [
    "# 辞書型を使いこなす"
   ]
  },
  {
   "cell_type": "markdown",
   "id": "3940cef4-b87d-4290-879f-e430eae228b3",
   "metadata": {},
   "source": [
    "## 辞書の「値」"
   ]
  },
  {
   "cell_type": "code",
   "execution_count": null,
   "id": "f12867d2-3e4d-40b4-baa1-edfa050a12bc",
   "metadata": {},
   "outputs": [],
   "source": [
    "# 5・1・1\n",
    "lat = 35.86\n",
    "lon = 139.65"
   ]
  },
  {
   "cell_type": "code",
   "execution_count": null,
   "id": "d8a52202-81b7-42dd-a09c-8602598684ae",
   "metadata": {},
   "outputs": [],
   "source": [
    "# 5・1・2\n",
    "saitama = {\"lat\": 35.86, \"lon\": 139.65}"
   ]
  },
  {
   "cell_type": "code",
   "execution_count": null,
   "id": "115f57aa-b524-49b7-9d21-e8d065241784",
   "metadata": {},
   "outputs": [],
   "source": [
    "# 5・1・3\n",
    "a_capital = {\"name\": \"金沢\", \"lat\": 36.56, \"lon\": 136.66}"
   ]
  },
  {
   "cell_type": "code",
   "execution_count": null,
   "id": "f9348a64-4160-4cd8-82f7-3a27f4b37e0e",
   "metadata": {},
   "outputs": [],
   "source": [
    "# 5・1・4\n",
    "capital_temps = {\"name\": \"札幌\", \"latlon\": (43.06, 141.35),\n",
    "                 \"temperatures\": [-3.6, -3.1, 0.3, 7.1, 12.6]}"
   ]
  },
  {
   "cell_type": "markdown",
   "id": "b47ab0b3-1196-48a1-9d1c-0f9925114b0d",
   "metadata": {},
   "source": [
    "## 辞書の「キー」"
   ]
  },
  {
   "cell_type": "code",
   "execution_count": null,
   "id": "5742a84c-6762-4f0a-b477-54747e95c6f2",
   "metadata": {},
   "outputs": [],
   "source": [
    "# 5・1・5\n",
    "roman_numbers = {1: \"I\", 2: \"II\", 3: \"III\", 4: \"IV\",\n",
    "                 5: \"V\", 6: \"VI\", 7: \"VII\", 8: \"VIII\"}                 "
   ]
  },
  {
   "cell_type": "code",
   "execution_count": null,
   "id": "cbeae36c-ced9-42ef-a1b7-0bfb45677999",
   "metadata": {},
   "outputs": [],
   "source": [
    "# 5・1・6\n",
    "roman_numbers[4]"
   ]
  },
  {
   "cell_type": "code",
   "execution_count": null,
   "id": "161ff9bb-bc1f-4e23-b996-cabcec2ff475",
   "metadata": {},
   "outputs": [],
   "source": [
    "# 5・1・7\n",
    "num = 1\n",
    "roman_str = \"\"  # ローマ数字用の変数を初期化\n",
    "if num == 1:\n",
    "    roman_str = \"I\"\n",
    "elif num == 2:\n",
    "    roman_str = \"II\""
   ]
  },
  {
   "cell_type": "code",
   "execution_count": null,
   "id": "ee76fd03-ca21-437d-a676-9e0b612273b5",
   "metadata": {},
   "outputs": [],
   "source": [
    "# 5・1・8\n",
    "roman_numbers[0]"
   ]
  },
  {
   "cell_type": "code",
   "execution_count": null,
   "id": "1efea144-302d-487d-9001-a54f13cd554b",
   "metadata": {},
   "outputs": [],
   "source": [
    "# 5・1・9\n",
    "num = 0\n",
    "if num in roman_numbers:\n",
    "    roman_str = roman_numbers[num]\n",
    "else:\n",
    "    roman_str = \"ローマ数字に0はありません\""
   ]
  },
  {
   "cell_type": "markdown",
   "id": "f92b4560-ac6b-4472-995f-de81c0a3ce4e",
   "metadata": {},
   "source": [
    "## 辞書型のメソッド"
   ]
  },
  {
   "cell_type": "code",
   "execution_count": null,
   "id": "5f74a956-2717-4246-a264-a8f026e82abb",
   "metadata": {},
   "outputs": [],
   "source": [
    "# 5・1・10\n",
    "roman_numbers.get(0, \"ローマ数字に0はありません\")"
   ]
  },
  {
   "cell_type": "code",
   "execution_count": null,
   "id": "ee0dc8bf-cdb2-4928-9e7f-c99c11113d2b",
   "metadata": {},
   "outputs": [],
   "source": [
    "# 5・1・11\n",
    "roman_numbers.setdefault(8, \"IV\")"
   ]
  },
  {
   "cell_type": "code",
   "execution_count": null,
   "id": "434ed6dd-32fb-4951-9cbd-bf649f0b85bf",
   "metadata": {},
   "outputs": [],
   "source": [
    "# 5・1・12\n",
    "roman_numbers.setdefault(9, \"IX\")"
   ]
  },
  {
   "cell_type": "code",
   "execution_count": null,
   "id": "18d17b96-97d9-4c88-8a62-3e9a34226ace",
   "metadata": {},
   "outputs": [],
   "source": [
    "# 5・1・13\n",
    "roman_numbers[9]"
   ]
  },
  {
   "cell_type": "markdown",
   "id": "2a2ab71a-e411-4921-9b8a-6535e1dc1b64",
   "metadata": {},
   "source": [
    "## 辞書の初期化"
   ]
  },
  {
   "cell_type": "code",
   "execution_count": null,
   "id": "b272f1a5-a925-431c-afc7-13cd7818cd18",
   "metadata": {},
   "outputs": [],
   "source": [
    "# 5・1・14\n",
    "kochi = dict(name=\"高知\", lat=33.56, lon=133.53)\n",
    "kochi  # 辞書の内容を確認"
   ]
  },
  {
   "cell_type": "code",
   "execution_count": null,
   "id": "6bee2bd5-1c66-45f0-9c98-137ce6047dcd",
   "metadata": {},
   "outputs": [],
   "source": [
    "# 5・1・15\n",
    "nara = dict([(\"name\", \"奈良\"), (\"lat\", 34.69), (\"lon\", 135.80)])\n",
    "nara   # 辞書の内容を確認"
   ]
  },
  {
   "cell_type": "code",
   "execution_count": null,
   "id": "aa3008fd-cca9-49cf-ae92-72e7d982c796",
   "metadata": {},
   "outputs": [],
   "source": [
    "# 5・1・16 : オマケ\n",
    "matsuyama = dict.fromkeys((\"name\", \"lat\", \"lon\"), (\"松山\", 33.84, 132.77))\n",
    "matsuyama   # 辞書の内容を確認"
   ]
  },
  {
   "cell_type": "code",
   "execution_count": null,
   "id": "2e833cb0-f8d9-4f77-af82-c8988d40788a",
   "metadata": {},
   "outputs": [],
   "source": []
  }
 ],
 "metadata": {
  "kernelspec": {
   "display_name": "Python 3 (ipykernel)",
   "language": "python",
   "name": "python3"
  },
  "language_info": {
   "codemirror_mode": {
    "name": "ipython",
    "version": 3
   },
   "file_extension": ".py",
   "mimetype": "text/x-python",
   "name": "python",
   "nbconvert_exporter": "python",
   "pygments_lexer": "ipython3",
   "version": "3.12.4"
  }
 },
 "nbformat": 4,
 "nbformat_minor": 5
}
