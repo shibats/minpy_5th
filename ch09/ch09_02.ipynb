{
 "cells": [
  {
   "cell_type": "markdown",
   "id": "8e5b7960-fdca-46c4-a934-b1f04786ba10",
   "metadata": {},
   "source": [
    "# モジュール\n",
    "## .pyファイル"
   ]
  },
  {
   "cell_type": "code",
   "execution_count": null,
   "id": "351e5e6e",
   "metadata": {},
   "outputs": [],
   "source": [
    "%%writefile test1.py\n",
    "# 9・2・1\n",
    "\n",
    "print(\"これはPythonのプログラムです。\")"
   ]
  },
  {
   "cell_type": "code",
   "execution_count": null,
   "id": "be7315d0-ff9e-4e62-bee5-d80af3ec7fda",
   "metadata": {},
   "outputs": [],
   "source": [
    "# 9・2・2\n",
    "!python test1.py"
   ]
  },
  {
   "cell_type": "code",
   "execution_count": null,
   "id": "558c4eee",
   "metadata": {},
   "outputs": [],
   "source": [
    "%%writefile test2.py\n",
    "# 9・2・3\n",
    "def test_func(number):\n",
    "    for count in range(number):\n",
    "        print(count)\n",
    "\n",
    "a = 3\n",
    "b = \"Python\""
   ]
  },
  {
   "cell_type": "code",
   "execution_count": null,
   "id": "49c7ad00-bdc2-43e3-b15a-7d884756f88a",
   "metadata": {},
   "outputs": [],
   "source": [
    "# 9・2・4\n",
    "!python test2.py"
   ]
  },
  {
   "cell_type": "code",
   "execution_count": null,
   "id": "a91b9889-bd8d-4609-be88-a069573af615",
   "metadata": {},
   "outputs": [],
   "source": [
    "# 9・2・5\n",
    "import test2\n",
    "test2.test_func(5)"
   ]
  },
  {
   "cell_type": "code",
   "execution_count": null,
   "id": "e91ec32c-a87f-4dae-8d4a-63ee966b32b4",
   "metadata": {},
   "outputs": [],
   "source": [
    "# 9・2・6\n",
    "from test2 import a, b\n",
    "a, b # 二つの変数を確認"
   ]
  },
  {
   "cell_type": "code",
   "execution_count": null,
   "id": "6b35406f",
   "metadata": {},
   "outputs": [],
   "source": [
    "%%writefile test3.py\n",
    "# 9・2・7\n",
    "from test2 import test_func, a\n",
    "test_func(a)"
   ]
  },
  {
   "cell_type": "code",
   "execution_count": null,
   "id": "011818bd-be24-4b5b-b579-a974b1bd9468",
   "metadata": {},
   "outputs": [],
   "source": [
    "# 9・2・8\n",
    "!python test3.py"
   ]
  },
  {
   "cell_type": "code",
   "execution_count": null,
   "id": "6b4715a1-ee73-43e7-ae2e-f15d24a271a3",
   "metadata": {},
   "outputs": [],
   "source": []
  }
 ],
 "metadata": {
  "kernelspec": {
   "display_name": "base",
   "language": "python",
   "name": "python3"
  },
  "language_info": {
   "codemirror_mode": {
    "name": "ipython",
    "version": 3
   },
   "file_extension": ".py",
   "mimetype": "text/x-python",
   "name": "python",
   "nbconvert_exporter": "python",
   "pygments_lexer": "ipython3",
   "version": "3.12.4"
  }
 },
 "nbformat": 4,
 "nbformat_minor": 5
}
