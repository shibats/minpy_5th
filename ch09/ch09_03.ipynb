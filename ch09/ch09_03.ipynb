{
 "cells": [
  {
   "cell_type": "markdown",
   "id": "69ebd523-9031-42ef-a789-46984d0eea2c",
   "metadata": {},
   "source": [
    "# モジュールの階層構造(パッケージ)\n",
    "## パッケージ = ディレクトリ(フォルダ)"
   ]
  },
  {
   "cell_type": "code",
   "execution_count": null,
   "id": "60f612db-3225-4ca6-9dad-0d02c8e6175e",
   "metadata": {},
   "outputs": [],
   "source": [
    "import matplotlib.pyplot as plt\n",
    "import pandas as pd\n",
    "\n",
    "# データ（2.5を除外）\n",
    "data = {\n",
    "    'Version': ['2.7', '3.0', '3.1', '3.2', '3.3', '3.4', '3.6', '3.7', '3.8', '3.9', '3.10', '3.11', '3.12'],\n",
    "    'Libraries': [210, 220, 220, 222, 225, 227, 230, 232, 235, 238, 240, 245, 250]\n",
    "}\n",
    "\n",
    "df = pd.DataFrame(data)\n",
    "df['Version'] = pd.Categorical(df['Version'], categories=sorted(df['Version'], key=lambda x: list(map(int, x.split('.')))))\n",
    "df = df.sort_values('Version')\n",
    "\n",
    "plt.figure(figsize=(10, 6))\n",
    "plt.plot(df['Version'], df['Libraries'], marker='o', linestyle='-', linewidth=2)\n",
    "plt.xlabel('version')\n",
    "plt.ylabel('libraries')\n",
    "plt.grid(True)\n",
    "plt.tight_layout()\n",
    "plt.xticks(rotation=45)\n",
    "\n",
    "plt.show()"
   ]
  },
  {
   "cell_type": "code",
   "execution_count": null,
   "id": "b585bb43-3f4c-45a6-b09b-cc55217db7bf",
   "metadata": {},
   "outputs": [],
   "source": [
    "# このセルを実行してください\n",
    "\n",
    "import requests\n",
    "import zipfile\n",
    "import io\n",
    "\n",
    "url = \"https://github.com/shibats/minpy_5th/raw/refs/heads/main/ch09/test_package2.zip\"\n",
    "\n",
    "response = requests.get(url)\n",
    "response.raise_for_status()\n",
    "\n",
    "with zipfile.ZipFile(io.BytesIO(response.content)) as zf:\n",
    "    zf.extractall()"
   ]
  },
  {
   "cell_type": "code",
   "execution_count": null,
   "id": "27e7b9af-d704-474f-b010-5c0f88e87ba7",
   "metadata": {},
   "outputs": [],
   "source": [
    "# 9・3・1\n",
    "from test_package2.sub_module import test_func\n",
    "test_func(2)"
   ]
  },
  {
   "cell_type": "markdown",
   "id": "a2712c4a-1638-4514-914d-9059680004d4",
   "metadata": {},
   "source": [
    "# パッケージ内の__init__.py"
   ]
  },
  {
   "cell_type": "code",
   "execution_count": null,
   "id": "2af0ddc7-1722-4b98-b17e-0160f98cc3e8",
   "metadata": {},
   "outputs": [],
   "source": [
    "# 9・3・2\n",
    "from test_package2 import test_func, a, b\n",
    "test_func(a)\n",
    "print(b)"
   ]
  }
 ],
 "metadata": {
  "kernelspec": {
   "display_name": "Python 3 (ipykernel)",
   "language": "python",
   "name": "python3"
  },
  "language_info": {
   "codemirror_mode": {
    "name": "ipython",
    "version": 3
   },
   "file_extension": ".py",
   "mimetype": "text/x-python",
   "name": "python",
   "nbconvert_exporter": "python",
   "pygments_lexer": "ipython3",
   "version": "3.12.4"
  }
 },
 "nbformat": 4,
 "nbformat_minor": 5
}
