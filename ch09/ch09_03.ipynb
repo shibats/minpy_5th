{
 "cells": [
  {
   "cell_type": "markdown",
   "id": "e526e8bb-9724-488c-8fe0-ec447ecd49a7",
   "metadata": {},
   "source": [
    "# 名前空間でPythonを振り返る\n",
    "## 魔法の関数dir()"
   ]
  },
  {
   "cell_type": "code",
   "execution_count": null,
   "id": "98b27022-aa9e-45f3-bf03-68d00aae9e88",
   "metadata": {},
   "outputs": [],
   "source": [
    "# 9・2・1\n",
    "dir(1)"
   ]
  },
  {
   "cell_type": "code",
   "execution_count": null,
   "id": "cfe8ed84-1db2-4a69-92f7-63ec57bad1ee",
   "metadata": {},
   "outputs": [],
   "source": [
    "# 9・2・2\n",
    "a = 1\n",
    "a.__add__"
   ]
  },
  {
   "cell_type": "code",
   "execution_count": null,
   "id": "4461382e-c412-4de8-9d5f-553142447dc9",
   "metadata": {},
   "outputs": [],
   "source": [
    "# 9・2・3\n",
    "def a_func():\n",
    "    print(\"これはa_func関数です\")\n",
    "repr(a_func)"
   ]
  },
  {
   "cell_type": "code",
   "execution_count": null,
   "id": "d3ad7c48-debd-459e-8c4d-e3774d007b5d",
   "metadata": {},
   "outputs": [],
   "source": [
    "# 9・2・4\n",
    "dir(a_func)"
   ]
  },
  {
   "cell_type": "code",
   "execution_count": null,
   "id": "35aff23f-0451-4e92-a419-8384b7af7d33",
   "metadata": {},
   "outputs": [],
   "source": [
    "# 9・2・5\n",
    "a_func.__call__()"
   ]
  },
  {
   "cell_type": "markdown",
   "id": "bc2ea158-35c0-4cff-8b7d-9fb7fb924468",
   "metadata": {},
   "source": [
    "## ローカル(ネステッド)名前空間"
   ]
  },
  {
   "cell_type": "code",
   "execution_count": null,
   "id": "275d315e-e168-456c-8f49-1327b7d8e4b4",
   "metadata": {},
   "outputs": [],
   "source": [
    "# 9・2・6\n",
    "def extend_lists(lista=[], listb=[]):\n",
    "    lista.extend(listb)\n",
    "    return lista"
   ]
  },
  {
   "cell_type": "code",
   "execution_count": null,
   "id": "f4c637fa-4667-4e7f-93c4-fcba087266a5",
   "metadata": {},
   "outputs": [],
   "source": [
    "# 9・2・7\n",
    "extend_lists(listb=[1, 2])"
   ]
  },
  {
   "cell_type": "code",
   "execution_count": null,
   "id": "cb61a801-f1aa-49f2-bef3-77c2bdb256c5",
   "metadata": {},
   "outputs": [],
   "source": [
    "# 9・2・8\n",
    "extend_lists.__defaults__"
   ]
  },
  {
   "cell_type": "code",
   "execution_count": null,
   "id": "4be186f2-58c0-4229-ab25-906fac3cf173",
   "metadata": {},
   "outputs": [],
   "source": []
  }
 ],
 "metadata": {
  "kernelspec": {
   "display_name": "Python 3 (ipykernel)",
   "language": "python",
   "name": "python3"
  },
  "language_info": {
   "codemirror_mode": {
    "name": "ipython",
    "version": 3
   },
   "file_extension": ".py",
   "mimetype": "text/x-python",
   "name": "python",
   "nbconvert_exporter": "python",
   "pygments_lexer": "ipython3",
   "version": "3.12.4"
  }
 },
 "nbformat": 4,
 "nbformat_minor": 5
}
