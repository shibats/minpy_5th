{
 "cells": [
  {
   "cell_type": "markdown",
   "id": "4512f152-3cc8-40c2-ae35-b4dadc870ff6",
   "metadata": {},
   "source": [
    "# 名前空間とスコープ\n",
    "# 名前空間\n",
    "## プロセス"
   ]
  },
  {
   "cell_type": "code",
   "execution_count": null,
   "id": "21ba2be5-66e1-402e-9dec-a619e3354e67",
   "metadata": {},
   "outputs": [],
   "source": [
    "# 9・1・1\n",
    "a_number = 1"
   ]
  },
  {
   "cell_type": "code",
   "execution_count": null,
   "id": "0dfee847-c092-4f2e-b5af-f2f607fbf3b3",
   "metadata": {},
   "outputs": [],
   "source": [
    "# 9・1・2\n",
    "a_list = [1, 2, 3, 4]"
   ]
  },
  {
   "cell_type": "markdown",
   "id": "1381db48-1f4d-4157-a199-f31752320a01",
   "metadata": {},
   "source": [
    "## 「名前」，「値」と「オブジェクト」"
   ]
  },
  {
   "cell_type": "code",
   "execution_count": null,
   "id": "f998d682-922e-4644-b798-0901674674b3",
   "metadata": {},
   "outputs": [],
   "source": [
    "# 9・1・3\n",
    "def some_name():\n",
    "    print(\"これはsome_name()関数です\")\n",
    "some_name() # 関数を呼び出す"
   ]
  },
  {
   "cell_type": "code",
   "execution_count": null,
   "id": "b10daaeb-9308-44c1-9021-d6e34e4be8b5",
   "metadata": {},
   "outputs": [],
   "source": [
    "# 9・1・4\n",
    "some_name = 1\n",
    "some_name()"
   ]
  },
  {
   "cell_type": "code",
   "execution_count": null,
   "id": "bdd4d370-7d13-4c8a-b68b-a8c8180771fd",
   "metadata": {},
   "outputs": [],
   "source": []
  }
 ],
 "metadata": {
  "kernelspec": {
   "display_name": "Python 3 (ipykernel)",
   "language": "python",
   "name": "python3"
  },
  "language_info": {
   "codemirror_mode": {
    "name": "ipython",
    "version": 3
   },
   "file_extension": ".py",
   "mimetype": "text/x-python",
   "name": "python",
   "nbconvert_exporter": "python",
   "pygments_lexer": "ipython3",
   "version": "3.12.4"
  }
 },
 "nbformat": 4,
 "nbformat_minor": 5
}
