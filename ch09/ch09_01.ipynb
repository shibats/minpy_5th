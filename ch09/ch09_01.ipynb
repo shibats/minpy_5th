{
 "cells": [
  {
   "cell_type": "markdown",
   "id": "2938d168-e744-4873-a047-b75928a3e3c6",
   "metadata": {},
   "source": [
    "# モジュールとパッケージ\n",
    "# モジュールとライブラリ\n",
    "## import文でモジュールやパッケージを読み込む"
   ]
  },
  {
   "cell_type": "code",
   "execution_count": null,
   "id": "2a70ec2a-2b4f-4288-a721-9136f38db620",
   "metadata": {},
   "outputs": [],
   "source": [
    "# 9・1・1\n",
    "import random"
   ]
  },
  {
   "cell_type": "code",
   "execution_count": null,
   "id": "5df4ab27-0bfc-4a0e-a45e-ef9250a4fd98",
   "metadata": {},
   "outputs": [],
   "source": [
    "# 9・1・2\n",
    "random.randint(1, 6) # さいころをふる"
   ]
  },
  {
   "cell_type": "markdown",
   "id": "63693851-c543-4001-bc2b-fbef9442bc3f",
   "metadata": {},
   "source": [
    "## from句とimport文を組み合わせる"
   ]
  },
  {
   "cell_type": "code",
   "execution_count": null,
   "id": "fba85c95-f50e-4518-b51d-d3d25efdb426",
   "metadata": {},
   "outputs": [],
   "source": [
    "# 9・1・3\n",
    "from random import choice\n",
    "primes = [2, 3, 5, 7, 9, 11] # 11までの素数をリストに\n",
    "choice(primes) # 素数リストから一つ選ぶ"
   ]
  },
  {
   "cell_type": "code",
   "execution_count": null,
   "id": "34ca4959-2599-4f13-8d9b-013910dc926d",
   "metadata": {},
   "outputs": [],
   "source": [
    "# 9・1・4\n",
    "import datetime\n",
    "datetime.datetime.now()"
   ]
  },
  {
   "cell_type": "code",
   "execution_count": null,
   "id": "560b4e82-2e01-42f7-ac2a-bfed60a0cb5e",
   "metadata": {},
   "outputs": [],
   "source": [
    "# 9・1・5\n",
    "from datetime import datetime\n",
    "datetime.now()"
   ]
  },
  {
   "cell_type": "code",
   "execution_count": null,
   "id": "c1e5b986-e6b5-4b36-8017-88536bdc2a2e",
   "metadata": {},
   "outputs": [],
   "source": []
  }
 ],
 "metadata": {
  "kernelspec": {
   "display_name": "Python 3 (ipykernel)",
   "language": "python",
   "name": "python3"
  },
  "language_info": {
   "codemirror_mode": {
    "name": "ipython",
    "version": 3
   },
   "file_extension": ".py",
   "mimetype": "text/x-python",
   "name": "python",
   "nbconvert_exporter": "python",
   "pygments_lexer": "ipython3",
   "version": "3.12.4"
  }
 },
 "nbformat": 4,
 "nbformat_minor": 5
}
