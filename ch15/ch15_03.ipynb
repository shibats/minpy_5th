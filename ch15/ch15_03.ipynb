{
 "cells": [
  {
   "cell_type": "markdown",
   "id": "1b8c6655",
   "metadata": {},
   "source": [
    "# 機械学習とPython"
   ]
  },
  {
   "cell_type": "code",
   "execution_count": null,
   "id": "f31fed09",
   "metadata": {},
   "outputs": [],
   "source": [
    "# 15・3・1\n",
    "def judge_jankenES(player, computer):\n",
    "    if player == computer:\n",
    "        return 0  # あいこ\n",
    "    elif (player == 0 and computer == 1) or \\\n",
    "         (player == 1 and computer == 2) or \\\n",
    "         (player == 2 and computer == 0):\n",
    "        return -1  # 勝ち\n",
    "    else:\n",
    "        return 1   # 負け\n",
    "\n",
    "print(judge_jankenES(0, 2))  # グー vs チョキ = 負け\n",
    "print(judge_jankenES(2, 0))  # チョキ vs グー = 勝ち"
   ]
  },
  {
   "cell_type": "code",
   "execution_count": null,
   "id": "508b3566",
   "metadata": {},
   "outputs": [],
   "source": [
    "# 15・3・2\n",
    "def judge_jankenTS(player, computer):\n",
    "    result_mod = (player - computer + 3) % 3\n",
    "    return (result_mod + 1) % 3 - 1  # 勝敗(-1,0,1)\n",
    "\n",
    "print(judge_jankenTS(0, 2))  # グー vs チョキ = 負け\n",
    "print(judge_jankenTS(2, 0))  # チョキ vs グー = 勝ち"
   ]
  },
  {
   "cell_type": "code",
   "execution_count": null,
   "id": "8ef536d2",
   "metadata": {},
   "outputs": [],
   "source": [
    "# 15・3・3\n",
    "import numpy as np\n",
    "from sklearn.tree import DecisionTreeClassifier\n",
    "\n",
    "# データ作成\n",
    "data = []\n",
    "labels = []\n",
    "for player in range(3):\n",
    "    for computer in range(3):\n",
    "        result_mod = (player - computer + 3) % 3\n",
    "        result = (result_mod + 1) % 3 - 1  # 勝敗(-1,0,1)\n",
    "        data.append([player, computer])\n",
    "        labels.append(result)\n",
    "\n",
    "data = np.array(data)\n",
    "labels = np.array(labels)\n",
    "\n",
    "# 決定木モデル\n",
    "clf = DecisionTreeClassifier()\n",
    "clf.fit(data, labels)\n",
    "\n",
    "# テスト\n",
    "print(clf.predict([[0, 2]]))  # グー vs チョキ = 負け\n",
    "print(clf.predict([[2, 0]]))  # チョキ vs グー = 勝ち"
   ]
  },
  {
   "cell_type": "code",
   "execution_count": null,
   "id": "e65eb75c",
   "metadata": {},
   "outputs": [],
   "source": []
  },
  {
   "cell_type": "markdown",
   "id": "53458666",
   "metadata": {},
   "source": []
  }
 ],
 "metadata": {
  "kernelspec": {
   "display_name": "base",
   "language": "python",
   "name": "python3"
  },
  "language_info": {
   "codemirror_mode": {
    "name": "ipython",
    "version": 3
   },
   "file_extension": ".py",
   "mimetype": "text/x-python",
   "name": "python",
   "nbconvert_exporter": "python",
   "pygments_lexer": "ipython3",
   "version": "3.12.4"
  }
 },
 "nbformat": 4,
 "nbformat_minor": 5
}
