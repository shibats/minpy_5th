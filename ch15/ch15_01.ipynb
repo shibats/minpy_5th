{
 "cells": [
  {
   "cell_type": "markdown",
   "id": "d96b77c8",
   "metadata": {},
   "source": [
    "# プログラムでモデルを作る"
   ]
  },
  {
   "cell_type": "markdown",
   "id": "a44261e9",
   "metadata": {},
   "source": [
    "## 異世界で動く振り子"
   ]
  },
  {
   "cell_type": "code",
   "execution_count": null,
   "id": "89c65721",
   "metadata": {},
   "outputs": [],
   "source": [
    "# 15・1・1\n",
    "# 50センチ刻みで2メールまでふりこの長さを変えたときの周期\n",
    "periods = [0, 2.0, 3.0, 3.5, 4.0]"
   ]
  },
  {
   "cell_type": "markdown",
   "id": "0ebcde20",
   "metadata": {},
   "source": [
    "## モデルを検証する"
   ]
  },
  {
   "cell_type": "code",
   "execution_count": null,
   "id": "fc9dbbfd",
   "metadata": {},
   "outputs": [],
   "source": [
    "# 15・1・2\n",
    "import numpy as np\n",
    "import matplotlib.pyplot as plt\n",
    "\n",
    "# データ(説明変数)\n",
    "lengths = np.array([0, 0.5, 1.0, 1.5, 2.0])\n",
    "# データ(従属変数)\n",
    "periods = np.array([0, 2.0, 3.0, 3.5, 4.0])\n",
    "\n",
    "# 傾き候補\n",
    "slopes = [1.7, 2.0, 2.3, 2.6, 2.9]\n",
    "\n",
    "# グラフ描画\n",
    "plt.scatter(lengths, periods, color=\"blue\")\n",
    "for m in slopes:\n",
    "    plt.plot(lengths, m * lengths, label=f\"slope={m}\")\n",
    "plt.legend()\n",
    "plt.grid(True)\n",
    "plt.show()"
   ]
  },
  {
   "cell_type": "code",
   "execution_count": null,
   "id": "18eba3cb",
   "metadata": {},
   "outputs": [],
   "source": [
    "# 15・1・3\n",
    "from sklearn.metrics import r2_score  # 決定係数を計算する関数\n",
    "\n",
    "r2_results = {}\n",
    "for m in slopes:\n",
    "    y_pred = m * lengths\n",
    "    r2 = r2_score(periods, y_pred)\n",
    "    r2_results[m] = r2\n",
    "\n",
    "print(\"各傾きの決定係数:\")\n",
    "for m, r2 in r2_results.items():\n",
    "    print(f\"slope={m}: R^2={r2:.3f}\")"
   ]
  },
  {
   "cell_type": "code",
   "execution_count": null,
   "id": "d7b7c9b6",
   "metadata": {},
   "outputs": [],
   "source": [
    "# 15・1・4\n",
    "from sklearn.linear_model import LinearRegression\n",
    "\n",
    "# データ\n",
    "lengths = np.array([0, 0.5, 1.0, 1.5, 2.0])\n",
    "periods = np.array([0, 2.0, 3.0, 3.5, 4.0])\n",
    "\n",
    "# 線形回帰（切片を0に固定）\n",
    "X = lengths.reshape(-1, 1)\n",
    "model = LinearRegression(fit_intercept=False)\n",
    "model.fit(X, periods)\n",
    "\n",
    "# 最適傾き\n",
    "m_opt = model.coef_[0]\n",
    "\n",
    "# 予測と R^2\n",
    "y_pred = model.predict(X)\n",
    "r2 = r2_score(periods, y_pred)\n",
    "\n",
    "print(f\"最適傾き m = {m_opt}\")\n",
    "print(f\"決定係数 R^2 = {r2:.3f}\")"
   ]
  },
  {
   "cell_type": "markdown",
   "id": "1c3aa172",
   "metadata": {},
   "source": [
    "## パラメータとしての累乗数"
   ]
  },
  {
   "cell_type": "code",
   "execution_count": null,
   "id": "595b79dc",
   "metadata": {},
   "outputs": [],
   "source": [
    "# 15・1・5\n",
    "from sklearn.preprocessing import PolynomialFeatures\n",
    "\n",
    "# データ\n",
    "lengths = np.array([0, 0.5, 1.0, 1.5, 2.0])\n",
    "periods = np.array([0, 2.0, 3.0, 3.5, 4.0])\n",
    "\n",
    "L_plot = np.linspace(0, 2.0, 100)\n",
    "\n",
    "plt.scatter(lengths, periods, color=\"blue\")\n",
    "\n",
    "# 0.5次（平方根近似）\n",
    "model_sqrt = LinearRegression(fit_intercept=False)\n",
    "model_sqrt.fit(np.sqrt(lengths).reshape(-1, 1), periods)\n",
    "plt.plot(L_plot, model_sqrt.predict(np.sqrt(L_plot).reshape(-1, 1)), label=\"0.5\")\n",
    "print(model_sqrt.coef_[0])\n",
    "\n",
    "# 1〜3次\n",
    "for deg in [1, 2, 3]:\n",
    "    poly = PolynomialFeatures(degree=deg, include_bias=False)\n",
    "    X_poly = poly.fit_transform(lengths.reshape(-1, 1))\n",
    "    model_poly = LinearRegression(fit_intercept=False)\n",
    "    model_poly.fit(X_poly, periods)\n",
    "    plt.plot(L_plot, model_poly.predict(poly.transform(L_plot.reshape(-1, 1))), label=f\"{deg}\")\n",
    "\n",
    "plt.legend()\n",
    "plt.grid(True)\n",
    "plt.show()"
   ]
  },
  {
   "cell_type": "code",
   "execution_count": null,
   "id": "99a98e9c",
   "metadata": {},
   "outputs": [],
   "source": [
    "# 15・1・6\n",
    "from sklearn.metrics import r2_score\n",
    "\n",
    "r2_scores = {}\n",
    "\n",
    "# 0.5次\n",
    "y_pred_sqrt = model_sqrt.predict(np.sqrt(lengths).reshape(-1, 1))\n",
    "r2_scores[0.5] = r2_score(periods, y_pred_sqrt)\n",
    "\n",
    "# 1〜3次\n",
    "for deg in [1, 2, 3]:\n",
    "    poly = PolynomialFeatures(degree=deg, include_bias=False)\n",
    "    X_poly = poly.fit_transform(lengths.reshape(-1, 1))\n",
    "    model_poly = LinearRegression(fit_intercept=False)\n",
    "    model_poly.fit(X_poly, periods)\n",
    "    y_pred_poly = model_poly.predict(X_poly)\n",
    "    r2_scores[deg] = r2_score(periods, y_pred_poly)\n",
    "\n",
    "print(r2_scores)"
   ]
  },
  {
   "cell_type": "code",
   "execution_count": null,
   "id": "c3702535",
   "metadata": {},
   "outputs": [],
   "source": [
    "# 15・1・7\n",
    "m = model_sqrt.coef_[0]\n",
    "\n",
    "# g を推定\n",
    "g_est = (2 * np.pi / m) ** 2\n",
    "\n",
    "print(f\"0.5次モデルの傾き m = {m:.3f}\")\n",
    "print(f\"推定重力加速度 g = {g_est:.3f}m/s^2\")"
   ]
  },
  {
   "cell_type": "code",
   "execution_count": null,
   "id": "d0a16124",
   "metadata": {},
   "outputs": [],
   "source": []
  }
 ],
 "metadata": {
  "kernelspec": {
   "display_name": "base",
   "language": "python",
   "name": "python3"
  },
  "language_info": {
   "codemirror_mode": {
    "name": "ipython",
    "version": 3
   },
   "file_extension": ".py",
   "mimetype": "text/x-python",
   "name": "python",
   "nbconvert_exporter": "python",
   "pygments_lexer": "ipython3",
   "version": "3.12.4"
  }
 },
 "nbformat": 4,
 "nbformat_minor": 5
}
