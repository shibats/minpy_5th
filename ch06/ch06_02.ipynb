{
 "cells": [
  {
   "cell_type": "markdown",
   "id": "601e96f4-5fb8-4b17-a35f-f7c62b5a55c8",
   "metadata": {},
   "source": [
    "# 代入文を使いこなす"
   ]
  },
  {
   "cell_type": "markdown",
   "id": "a45bee6e-4c5b-47cb-b29d-418c8e36fc90",
   "metadata": {},
   "source": [
    "## アンパック代入"
   ]
  },
  {
   "cell_type": "code",
   "execution_count": null,
   "id": "f7106db5-da9a-4a22-81f3-0133b1814e29",
   "metadata": {},
   "outputs": [],
   "source": [
    "# 6・2・1\n",
    "a = 10\n",
    "b = 20\n",
    "# aとbに代入された値を交換(スワップ)する\n",
    "a, b = b, a\n",
    "print(a, b)   # 結果を確認"
   ]
  },
  {
   "cell_type": "code",
   "execution_count": null,
   "id": "83b67f62-7588-44c4-a0d3-c76168d9b5a4",
   "metadata": {},
   "outputs": [],
   "source": [
    "# 6・2・2\n",
    "c = b, a\n",
    "c   # 結果を確認"
   ]
  },
  {
   "cell_type": "markdown",
   "id": "8d20b1b2-9b5b-46ef-94e4-2eb3deea5eb7",
   "metadata": {},
   "source": [
    "## 式の評価順と複合演算子"
   ]
  },
  {
   "cell_type": "code",
   "execution_count": null,
   "id": "40a9cf12-e088-458b-a635-99a450e7a1ac",
   "metadata": {},
   "outputs": [],
   "source": [
    "# 6・2・3\n",
    "temperature -= 5"
   ]
  },
  {
   "cell_type": "code",
   "execution_count": null,
   "id": "f70294ad-be26-4485-8750-a3bdead29383",
   "metadata": {},
   "outputs": [],
   "source": []
  }
 ],
 "metadata": {
  "kernelspec": {
   "display_name": "Python 3 (ipykernel)",
   "language": "python",
   "name": "python3"
  },
  "language_info": {
   "codemirror_mode": {
    "name": "ipython",
    "version": 3
   },
   "file_extension": ".py",
   "mimetype": "text/x-python",
   "name": "python",
   "nbconvert_exporter": "python",
   "pygments_lexer": "ipython3",
   "version": "3.12.4"
  }
 },
 "nbformat": 4,
 "nbformat_minor": 5
}
