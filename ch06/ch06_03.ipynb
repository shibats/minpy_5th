{
 "cells": [
  {
   "cell_type": "markdown",
   "id": "04fa2ccd-350e-487a-8739-ffefb3617471",
   "metadata": {},
   "source": [
    "# if文を使いこなす"
   ]
  },
  {
   "cell_type": "code",
   "execution_count": null,
   "id": "3e37114e-8b5b-4968-8b47-7fc2ec519569",
   "metadata": {},
   "outputs": [],
   "source": [
    "# 6・3・1\n",
    "if (1, 2) == [1, 2]:\n",
    "    print(\"(1, 2) == [1, 2]は等しい\")\n",
    "if \"abc\" == b\"abc\":\n",
    "    print('\"abc\"とb\"abc\"は等しい')"
   ]
  },
  {
   "cell_type": "code",
   "execution_count": null,
   "id": "decf5297-852a-4f99-8b63-f13e763ea4a5",
   "metadata": {},
   "outputs": [],
   "source": [
    "# 6・3・2\n",
    "roman_numbers = {1: \"I\", 2: \"II\", 3: \"III\", 4: \"IV\",\n",
    "                 5: \"V\", 6: \"VI\", 7: \"VII\", 8: \"VIII\"}\n",
    "if \"III\" in roman_numbers.values():\n",
    "    print(f\"ローマ数字のIIIは値に含まれます\")"
   ]
  },
  {
   "cell_type": "markdown",
   "id": "ac8d1223-ea72-47f4-a389-599e7af7548e",
   "metadata": {},
   "source": [
    "## 式とTrue・False"
   ]
  },
  {
   "cell_type": "code",
   "execution_count": null,
   "id": "adbd7555-3333-44bc-a793-c61bb0520a49",
   "metadata": {},
   "outputs": [],
   "source": [
    "# 6・3・3\n",
    "message = \"Pythonの勉強は楽しいですか？\"\n",
    "if message:\n",
    "    print(message)"
   ]
  },
  {
   "cell_type": "code",
   "execution_count": null,
   "id": "bfe4530b-137f-43de-a648-a4ec0d06d769",
   "metadata": {},
   "outputs": [],
   "source": []
  },
  {
   "cell_type": "code",
   "execution_count": null,
   "id": "d25213e7-be35-4b9b-a611-53edc78f1e6e",
   "metadata": {},
   "outputs": [],
   "source": []
  }
 ],
 "metadata": {
  "kernelspec": {
   "display_name": "Python 3 (ipykernel)",
   "language": "python",
   "name": "python3"
  },
  "language_info": {
   "codemirror_mode": {
    "name": "ipython",
    "version": 3
   },
   "file_extension": ".py",
   "mimetype": "text/x-python",
   "name": "python",
   "nbconvert_exporter": "python",
   "pygments_lexer": "ipython3",
   "version": "3.12.4"
  }
 },
 "nbformat": 4,
 "nbformat_minor": 5
}
