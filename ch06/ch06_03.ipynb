{
 "cells": [
  {
   "cell_type": "markdown",
   "id": "9a39a2bb-cf93-41e1-a81f-2f70f3c63296",
   "metadata": {},
   "source": [
    "# Pythonでクラスを使う\n",
    "## 日付のクラス「date」を使う"
   ]
  },
  {
   "cell_type": "code",
   "execution_count": null,
   "id": "dec8e624-74e7-4a6e-a096-1486b3edebd9",
   "metadata": {},
   "outputs": [],
   "source": [
    "# 6・3・1\n",
    "from datetime import date\n",
    "leap_day = date(2020, 2, 29)"
   ]
  },
  {
   "cell_type": "code",
   "execution_count": null,
   "id": "10e25a1a-527a-4a7d-b349-245d24dd70bb",
   "metadata": {},
   "outputs": [],
   "source": [
    "# 6・3・2\n",
    "print(f\"{leap_day.year}年{leap_day.month}月{leap_day.day}日\")"
   ]
  },
  {
   "cell_type": "markdown",
   "id": "cf7352a0-513d-4092-a6c9-de29a9ce0ee7",
   "metadata": {},
   "source": [
    "## dateクラスの振る舞いを見る"
   ]
  },
  {
   "cell_type": "code",
   "execution_count": null,
   "id": "c86316d0-92ae-4047-a2a0-1e96e8fa5c0f",
   "metadata": {},
   "outputs": [],
   "source": [
    "# 6・3・3\n",
    "afool = date(2020, 4, 1)\n",
    "afool-leap_day"
   ]
  },
  {
   "cell_type": "code",
   "execution_count": null,
   "id": "842651d8-39eb-45fd-96e4-524888c18a59",
   "metadata": {},
   "outputs": [],
   "source": [
    "# 6・3・4\n",
    "ddays = afool-leap_day # 日付の差を変数に代入\n",
    "afool+ddays # 日付と差を足す"
   ]
  },
  {
   "cell_type": "code",
   "execution_count": null,
   "id": "810edc1b-ce72-417b-9c5c-5a48b5e7868e",
   "metadata": {},
   "outputs": [],
   "source": [
    "# 6・3・5\n",
    "leap_day2 = day(2100, 2, 29)"
   ]
  },
  {
   "cell_type": "markdown",
   "id": "867c8108-85cf-4a43-b5e3-6c619c67a36f",
   "metadata": {},
   "source": [
    "## 10進数演算に「decimal」クラスを使う"
   ]
  },
  {
   "cell_type": "code",
   "execution_count": null,
   "id": "1d112e45-cc9a-4ea9-8b87-883c08e05ce9",
   "metadata": {},
   "outputs": [],
   "source": [
    "# 6・3・6\n",
    "0.1+0.2"
   ]
  },
  {
   "cell_type": "code",
   "execution_count": null,
   "id": "b6c2e6e2-8a9a-469c-a854-d3ec41f0d829",
   "metadata": {},
   "outputs": [],
   "source": [
    "# 6・3・7\n",
    "from decimal import Decimal, ROUND_HALF_UP\n",
    "Decimal(\"0.1\")+Decimal(\"0.2\")"
   ]
  },
  {
   "cell_type": "code",
   "execution_count": null,
   "id": "9809bf32-09a0-48d2-9a57-388443396cc0",
   "metadata": {},
   "outputs": [],
   "source": [
    "# 6・3・8\n",
    "pow(Decimal(\"0.2\"), 2)"
   ]
  },
  {
   "cell_type": "markdown",
   "id": "9b512305-a8a6-4d3f-b830-7ac7d031757f",
   "metadata": {},
   "source": [
    "## Decimalクラスで四捨五入を行う"
   ]
  },
  {
   "cell_type": "code",
   "execution_count": null,
   "id": "a615e730-a828-4512-841b-1d9a075d24a1",
   "metadata": {},
   "outputs": [],
   "source": [
    "# 6・3・9\n",
    "round(2.5)"
   ]
  },
  {
   "cell_type": "code",
   "execution_count": null,
   "id": "bbe83564-c102-4ce2-b274-682415aee4df",
   "metadata": {},
   "outputs": [],
   "source": [
    "# 6・3・10\n",
    "from decimal import ROUND_HALF_UP\n",
    "Decimal(\"2.5\").quantize(Decimal(\"0\"), ROUND_HALF_UP)"
   ]
  },
  {
   "cell_type": "code",
   "execution_count": null,
   "id": "bcdaca67-48de-4b29-8425-5f4990bc5dc4",
   "metadata": {},
   "outputs": [],
   "source": []
  }
 ],
 "metadata": {
  "kernelspec": {
   "display_name": "Python 3 (ipykernel)",
   "language": "python",
   "name": "python3"
  },
  "language_info": {
   "codemirror_mode": {
    "name": "ipython",
    "version": 3
   },
   "file_extension": ".py",
   "mimetype": "text/x-python",
   "name": "python",
   "nbconvert_exporter": "python",
   "pygments_lexer": "ipython3",
   "version": "3.12.4"
  }
 },
 "nbformat": 4,
 "nbformat_minor": 5
}
