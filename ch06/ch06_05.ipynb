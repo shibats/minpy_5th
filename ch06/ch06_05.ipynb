{
 "cells": [
  {
   "cell_type": "markdown",
   "id": "715c3494-c29d-410f-899c-9388c53e19e0",
   "metadata": {},
   "source": [
    "# while文を使いこなす"
   ]
  },
  {
   "cell_type": "markdown",
   "id": "113867b4-a679-418c-af4b-b1fdef0716f2",
   "metadata": {},
   "source": [
    "## 条件によって繰り返すループ"
   ]
  },
  {
   "cell_type": "code",
   "execution_count": null,
   "id": "4db69f0d-46ae-4528-87f8-45f3a5b4d6a2",
   "metadata": {},
   "outputs": [],
   "source": [
    "# 6・5・1\n",
    "message = \"数値を入力してください(終了は0)\"\n",
    "total = 0 # 加算を行う変数\n",
    "\n",
    "while True:\n",
    "    num_str = input(message)\n",
    "    if num_str == \"0\":\n",
    "        break\n",
    "    total += int(num_str)\n",
    "\n",
    "print(total)"
   ]
  },
  {
   "cell_type": "code",
   "execution_count": null,
   "id": "75c352a2-4b1b-4632-905c-8c9ac29e659a",
   "metadata": {},
   "outputs": [],
   "source": [
    "# 6・5・2\n",
    "message = \"数値を入力してください(終了は0)\"\n",
    "total = 0 # 加算を行う変数\n",
    "\n",
    "while (num_str := input(message)) != \"0\":\n",
    "    print(num_str, total)\n",
    "    total += int(num_str)\n",
    "\n",
    "print(total)"
   ]
  },
  {
   "cell_type": "code",
   "execution_count": null,
   "id": "09f7b4a2-80bb-4a0f-b787-0d7378ae33b2",
   "metadata": {},
   "outputs": [],
   "source": []
  }
 ],
 "metadata": {
  "kernelspec": {
   "display_name": "Python 3 (ipykernel)",
   "language": "python",
   "name": "python3"
  },
  "language_info": {
   "codemirror_mode": {
    "name": "ipython",
    "version": 3
   },
   "file_extension": ".py",
   "mimetype": "text/x-python",
   "name": "python",
   "nbconvert_exporter": "python",
   "pygments_lexer": "ipython3",
   "version": "3.12.4"
  }
 },
 "nbformat": 4,
 "nbformat_minor": 5
}
