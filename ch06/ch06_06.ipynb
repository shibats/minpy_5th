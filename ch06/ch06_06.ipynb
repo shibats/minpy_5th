{
 "cells": [
  {
   "cell_type": "markdown",
   "id": "1f561121-0f17-4783-9a1e-8a3900622281",
   "metadata": {},
   "source": [
    "# 内包表記(コンプリヘンション)を使いこなす"
   ]
  },
  {
   "cell_type": "code",
   "execution_count": null,
   "id": "7924de95-84c4-43ce-bb8f-c60d198c8563",
   "metadata": {},
   "outputs": [],
   "source": [
    "# 6・6・1\n",
    "str_list = [\"100\", \"abc\", \"200\", \"300\"]\n",
    "numstr_list = []\n",
    "for item in str_list:\n",
    "    if item.isnumeric():\n",
    "        numstr_list.append(item)\n",
    "\n",
    "numstr_list # 結果を表示"
   ]
  },
  {
   "cell_type": "code",
   "execution_count": null,
   "id": "081bce70-6192-4efa-8166-aedc46d0af63",
   "metadata": {},
   "outputs": [],
   "source": [
    "# 6・6・2\n",
    "str_list = [\"100\", \"abc\", \"200\", \"300\"]\n",
    "numstr_list = [item for item in str_list if item.isnumeric()]\n",
    "numstr_list # 結果を表示"
   ]
  },
  {
   "cell_type": "markdown",
   "id": "ced3f952-8ecb-4f68-bf31-609ccbf895e2",
   "metadata": {},
   "source": [
    "## リスト内包表記"
   ]
  },
  {
   "cell_type": "code",
   "execution_count": null,
   "id": "3db3a494-fbcd-488e-850f-453c82e969ca",
   "metadata": {},
   "outputs": [],
   "source": [
    "# 6・6・3\n",
    "str_list = [\"100\", \"200\", \"300\"]\n",
    "num_list = [int(item) for item in str_list]\n",
    "num_list # 結果を表示"
   ]
  },
  {
   "cell_type": "markdown",
   "id": "9692b966-7be7-440c-8f29-76e65a845a01",
   "metadata": {},
   "source": [
    "## 内包表記のif"
   ]
  },
  {
   "cell_type": "code",
   "execution_count": null,
   "id": "7aac7e34-be18-4b72-8ddf-04d310d852c1",
   "metadata": {},
   "outputs": [],
   "source": [
    "# 6・6・4\n",
    "str_list = [\"100\", \"abc\", \"200\", \"300\"]\n",
    "num_list = [int(item) for item in str_list if item.isnumeric()]\n",
    "num_list # 結果を表示"
   ]
  },
  {
   "cell_type": "markdown",
   "id": "cefbcdc9-0ebd-4a24-b425-96c4e9af0305",
   "metadata": {},
   "source": [
    "## 入れ子の内包表記"
   ]
  },
  {
   "cell_type": "code",
   "execution_count": null,
   "id": "20fee250-8260-4779-9140-bc4158fb015a",
   "metadata": {},
   "outputs": [],
   "source": [
    "# 6・6・5\n",
    "departments = [\n",
    "[\"山田\", \"佐藤\"],\n",
    "[\"田中\"],\n",
    "[\"高橋\", \"加藤\"]\n",
    "]\n",
    "all_members = [name for team in departments for name in team]\n",
    "all_members # 内容を確認"
   ]
  },
  {
   "cell_type": "code",
   "execution_count": null,
   "id": "076eb7e0-61d8-4a7e-bb07-e3662c6ba2e0",
   "metadata": {},
   "outputs": [],
   "source": [
    "# 6・6・6\n",
    "all_members = []\n",
    "for team in departments:\n",
    "    for name in team:\n",
    "        all_members.append(name)\n",
    "all_members # 内容を確認"
   ]
  },
  {
   "cell_type": "markdown",
   "id": "ed237f5f-bbca-4230-b622-1ea2999507c4",
   "metadata": {},
   "source": [
    "## set内包表記と辞書内包表記"
   ]
  },
  {
   "cell_type": "code",
   "execution_count": null,
   "id": "f9608199-725e-4241-a613-b4a7d4abf583",
   "metadata": {},
   "outputs": [],
   "source": [
    "# 6・6・7\n",
    "maqbeth = \"\"\"Tomorrow, and tomorrow, and tomorrow,\n",
    "Creeps in this petty pace from day to day,\n",
    "To the last syllable of recorded time\"\"\"\n",
    "\n",
    "words = {word.lower().strip(\".,\")\n",
    "         for word in maqbeth.split()}\n",
    "words # 内容を確認"
   ]
  },
  {
   "cell_type": "code",
   "execution_count": null,
   "id": "bcb2a608-d657-42b1-badb-c58b2031979e",
   "metadata": {},
   "outputs": [],
   "source": [
    "# 6・6・8\n",
    "keys = [\"りんご\", \"バナナ\", \"みかん\"]\n",
    "values = [200, 100, 150]\n",
    "fruit_dict = {key: value for (key, value) in zip(keys, values)}\n",
    "fruit_dict   # 内容を確認"
   ]
  },
  {
   "cell_type": "code",
   "execution_count": null,
   "id": "3ddd5b78-a8cd-40fc-bdb5-300e4339c6d3",
   "metadata": {},
   "outputs": [],
   "source": []
  }
 ],
 "metadata": {
  "kernelspec": {
   "display_name": "Python 3 (ipykernel)",
   "language": "python",
   "name": "python3"
  },
  "language_info": {
   "codemirror_mode": {
    "name": "ipython",
    "version": 3
   },
   "file_extension": ".py",
   "mimetype": "text/x-python",
   "name": "python",
   "nbconvert_exporter": "python",
   "pygments_lexer": "ipython3",
   "version": "3.12.4"
  }
 },
 "nbformat": 4,
 "nbformat_minor": 5
}
