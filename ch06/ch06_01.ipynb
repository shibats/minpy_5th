{
 "cells": [
  {
   "cell_type": "markdown",
   "id": "59713b36-fec5-4c14-86c5-7060ff69bb2f",
   "metadata": {},
   "source": [
    "# 式と文"
   ]
  },
  {
   "attachments": {},
   "cell_type": "markdown",
   "id": "bf5a483a-b472-4ee9-892a-6d458fe9a623",
   "metadata": {},
   "source": [
    "## 式 - 値を持つもの"
   ]
  },
  {
   "cell_type": "code",
   "execution_count": null,
   "id": "0ed6d71d-51a9-4fad-ab7f-c3ea695d87de",
   "metadata": {},
   "outputs": [],
   "source": [
    "# 6・1・1\n",
    "# 東京-大阪を新幹線(平均時速200キロ)で\n",
    "# 移動したときにかかる時間\n",
    "500/200"
   ]
  },
  {
   "cell_type": "code",
   "execution_count": null,
   "id": "5e8372cd-e0d2-4eee-ab09-8192858531dd",
   "metadata": {},
   "outputs": [],
   "source": [
    "# 6・1・2\n",
    "input(\"距離を入力してください\")"
   ]
  },
  {
   "cell_type": "code",
   "execution_count": null,
   "id": "009fdf58-f193-4ff5-a255-b05d92033382",
   "metadata": {},
   "outputs": [],
   "source": [
    "# 6・1・3\n",
    "int(input(\"距離を入力してください\"))/200"
   ]
  },
  {
   "attachments": {},
   "cell_type": "markdown",
   "id": "653eef04-6bde-4951-9dd3-3b65119a6e75",
   "metadata": {},
   "source": [
    "## 文 – 命令を指示するもの"
   ]
  },
  {
   "cell_type": "code",
   "execution_count": null,
   "id": "ba41e313-25e9-4ffc-aa48-d30587aca473",
   "metadata": {},
   "outputs": [],
   "source": [
    "# 6・1・4\n",
    "speed = 200  # 新幹線の平均速度"
   ]
  },
  {
   "cell_type": "code",
   "execution_count": null,
   "id": "408780af-9770-4c49-aa09-6a2d76266be4",
   "metadata": {},
   "outputs": [],
   "source": [
    "# 6・1・5\n",
    "distance = int(input(\"距離を入力してください\"))\n",
    "hours = distance/speed\n",
    "hours"
   ]
  },
  {
   "cell_type": "code",
   "execution_count": null,
   "id": "6eb5cf74-90d0-41cb-bcc9-ef386bbeafbe",
   "metadata": {},
   "outputs": [],
   "source": [
    "# 6・1・6\n",
    "speed = 200\n",
    "distance = int(input(\"距離を入力してください\"))\n",
    "hours = distance/speed\n",
    "print(f\"新幹線で{hours}時間かかります。\")\n",
    "if hours > 3:\n",
    "    print(\"飛行機で移動することをお勧めします。\")\n",
    "else:\n",
    "    print(\"快適な旅を楽しんでください。\")"
   ]
  },
  {
   "attachments": {},
   "cell_type": "markdown",
   "id": "1f502f8b-c6cc-4f97-89fe-eea5a66e80d2",
   "metadata": {},
   "source": [
    "## 式と文から見た「文法」"
   ]
  },
  {
   "cell_type": "code",
   "execution_count": null,
   "id": "2bf647e5-3566-417f-92e1-e60687842f76",
   "metadata": {},
   "outputs": [],
   "source": [
    "# 6・1・7\n",
    "for index in range(5):\n",
    "    print(index)"
   ]
  },
  {
   "cell_type": "code",
   "execution_count": null,
   "id": "c11e4d95-3b9f-4d32-91a4-15386d1e757c",
   "metadata": {},
   "outputs": [],
   "source": []
  }
 ],
 "metadata": {
  "kernelspec": {
   "display_name": "Python 3 (ipykernel)",
   "language": "python",
   "name": "python3"
  },
  "language_info": {
   "codemirror_mode": {
    "name": "ipython",
    "version": 3
   },
   "file_extension": ".py",
   "mimetype": "text/x-python",
   "name": "python",
   "nbconvert_exporter": "python",
   "pygments_lexer": "ipython3",
   "version": "3.12.4"
  }
 },
 "nbformat": 4,
 "nbformat_minor": 5
}
