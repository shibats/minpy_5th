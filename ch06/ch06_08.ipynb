{
 "cells": [
  {
   "cell_type": "markdown",
   "id": "5d5fede4-3fcb-48d1-be5f-2536d97f6abd",
   "metadata": {},
   "source": [
    "# ドックストリングとアノテーション"
   ]
  },
  {
   "cell_type": "markdown",
   "id": "451201f5-d144-4d33-8c14-697937f71916",
   "metadata": {},
   "source": [
    "## ドックストリング(Doc String)"
   ]
  },
  {
   "cell_type": "markdown",
   "id": "ed7871eb",
   "metadata": {},
   "source": []
  },
  {
   "cell_type": "code",
   "execution_count": 4,
   "id": "a021998e-7677-495d-8f9b-6dc3835756f1",
   "metadata": {},
   "outputs": [],
   "source": [
    "# 6・8・1\n",
    "def add(a, b):\n",
    "    \"\"\"\n",
    "    2 つの数値を足し合わせて返す関数。\n",
    "    Parameters:\n",
    "        a (int or float): 足したい 1 つ目の値\n",
    "        b (int or float): 足したい 2 つ目の値\n",
    "    Returns:\n",
    "        int or float: a と b を足した結果\n",
    "    \"\"\"\n",
    "    return a + b"
   ]
  },
  {
   "cell_type": "markdown",
   "id": "a654eec4-b956-4d7f-8323-504b26926020",
   "metadata": {},
   "source": [
    "## アノテーションと型ヒント"
   ]
  },
  {
   "cell_type": "code",
   "execution_count": 6,
   "id": "8ba0aa45-baa5-4882-a533-99f237195075",
   "metadata": {},
   "outputs": [],
   "source": [
    "# 6・8・2\n",
    "def add(a:\"int型\", b:\"int型\") -> \"int型\":\n",
    "    return a + b"
   ]
  },
  {
   "cell_type": "code",
   "execution_count": 7,
   "id": "04864263-8d2c-4e80-a805-0abcf6bad69a",
   "metadata": {},
   "outputs": [],
   "source": [
    "# 6・8・3\n",
    "def add(a:int, b:int) -> int:\n",
    "    return a + b"
   ]
  },
  {
   "cell_type": "code",
   "execution_count": null,
   "id": "baa996d2-5ae1-4120-9185-a098c5e172cd",
   "metadata": {},
   "outputs": [],
   "source": []
  }
 ],
 "metadata": {
  "kernelspec": {
   "display_name": "Python 3 (ipykernel)",
   "language": "python",
   "name": "python3"
  },
  "language_info": {
   "codemirror_mode": {
    "name": "ipython",
    "version": 3
   },
   "file_extension": ".py",
   "mimetype": "text/x-python",
   "name": "python",
   "nbconvert_exporter": "python",
   "pygments_lexer": "ipython3",
   "version": "3.12.4"
  }
 },
 "nbformat": 4,
 "nbformat_minor": 5
}
