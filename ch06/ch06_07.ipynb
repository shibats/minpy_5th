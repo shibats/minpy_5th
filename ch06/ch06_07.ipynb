{
 "cells": [
  {
   "cell_type": "markdown",
   "id": "30747e0c-5f42-44f0-8065-31c7debd5355",
   "metadata": {},
   "source": [
    "# 関数を使いこなす"
   ]
  },
  {
   "cell_type": "markdown",
   "id": "501f20dd-d6d9-4432-bffb-311eb6fedcea",
   "metadata": {},
   "source": [
    "## ローカル変数"
   ]
  },
  {
   "cell_type": "code",
   "execution_count": null,
   "id": "92743791-e813-4668-8823-c38aeeb332cd",
   "metadata": {},
   "outputs": [],
   "source": [
    "# 6・7・1\n",
    "def square_area():\n",
    "    return length*length"
   ]
  },
  {
   "cell_type": "code",
   "execution_count": null,
   "id": "8dc522ca-d968-442d-b274-03733e64286a",
   "metadata": {},
   "outputs": [],
   "source": [
    "# 6・7・2\n",
    "length = 10\n",
    "square_area()"
   ]
  },
  {
   "cell_type": "code",
   "execution_count": null,
   "id": "998b1c26-d0fd-4624-bc08-f7ed3fc939e0",
   "metadata": {},
   "outputs": [],
   "source": [
    "# 6・7・3\n",
    "def square_area2(length):\n",
    "    return length*length"
   ]
  },
  {
   "cell_type": "code",
   "execution_count": null,
   "id": "4d165164-d6b0-4d21-a841-124ce54360df",
   "metadata": {},
   "outputs": [],
   "source": [
    "# 6・7・4\n",
    "length = 100\n",
    "square_area2(10)"
   ]
  },
  {
   "cell_type": "markdown",
   "id": "6be31467-0041-4033-a888-6779188943dc",
   "metadata": {},
   "source": [
    "## 関数の戻り値"
   ]
  },
  {
   "cell_type": "code",
   "execution_count": null,
   "id": "6791587b-3bc1-4462-839a-2f923d96d75c",
   "metadata": {},
   "outputs": [],
   "source": [
    "# 6・7・5\n",
    "def my_divmod(a, b):\n",
    "    quotient = a // b # 商\n",
    "    remainder = a % b # 余り\n",
    "    return quotient, remainder"
   ]
  },
  {
   "cell_type": "code",
   "execution_count": null,
   "id": "542c10e7-091d-477a-b0b2-65c8003ee18b",
   "metadata": {},
   "outputs": [],
   "source": [
    "# 6・7・6\n",
    "q, r = my_divmod(10, 3) # 関数を呼び出して商と余りを得る\n",
    "q, r # 結果を確認"
   ]
  },
  {
   "cell_type": "markdown",
   "id": "3888040b-e7c0-4f17-af80-9c5cff6a0eee",
   "metadata": {},
   "source": [
    "## いろいろな引数\n",
    "### オプションの引数"
   ]
  },
  {
   "cell_type": "code",
   "execution_count": null,
   "id": "2e223b80-902c-440b-8980-e026dedcd2ba",
   "metadata": {},
   "outputs": [],
   "source": [
    "# 6・7・7\n",
    "def calc_price_with_tax(price, tax_rate=0.1):\n",
    "    total = price*(1+tax_rate)\n",
    "    return round(total)"
   ]
  },
  {
   "cell_type": "code",
   "execution_count": null,
   "id": "e76c24c7-2b11-4cc4-b654-b7ddbcb589d7",
   "metadata": {},
   "outputs": [],
   "source": [
    "# 6・7・8\n",
    "calc_price_with_tax(1000)"
   ]
  },
  {
   "cell_type": "code",
   "execution_count": null,
   "id": "4dc7a7b9-f9b3-4834-b0b5-2d2ad6bd7f3b",
   "metadata": {},
   "outputs": [],
   "source": [
    "# 6・7・9\n",
    "calc_price_with_tax(1000, 0.08)"
   ]
  },
  {
   "cell_type": "code",
   "execution_count": null,
   "id": "9082b35c-a56c-4ba0-ae95-072d009bafa9",
   "metadata": {},
   "outputs": [],
   "source": [
    "# 6・7・10\n",
    "calc_price_with_tax(tax_rate=0.06, price=1000)"
   ]
  },
  {
   "cell_type": "markdown",
   "id": "81b61da8-e776-4b35-b03c-a9a09b7d213c",
   "metadata": {},
   "source": [
    "### 可変長の位置引数"
   ]
  },
  {
   "cell_type": "code",
   "execution_count": null,
   "id": "7f1c730a-c052-40d2-9a5b-a84bc3900ad1",
   "metadata": {},
   "outputs": [],
   "source": [
    "# 6・7・11\n",
    "def my_max(*args):\n",
    "    # 先頭の要素を「現在の最大値」として初期化\n",
    "    best = args[0]\n",
    "    # 残りの要素と比較しながら最大値を更新\n",
    "    for x in args[1:]:\n",
    "        if x > best:\n",
    "            best = x\n",
    "    return best"
   ]
  },
  {
   "cell_type": "code",
   "execution_count": null,
   "id": "c3eb6001-891d-40ea-87a2-806a306dd60b",
   "metadata": {},
   "outputs": [],
   "source": [
    "# 6・7・12\n",
    "my_max(1, 2, 30, 4)"
   ]
  },
  {
   "cell_type": "markdown",
   "id": "d8c9f8be-7142-431e-bada-f832dac4597a",
   "metadata": {},
   "source": [
    "### 可変長のキーワード引数"
   ]
  },
  {
   "cell_type": "code",
   "execution_count": null,
   "id": "6cbc686d-6a52-44ea-b0fc-81a5d33586c5",
   "metadata": {},
   "outputs": [],
   "source": [
    "# 6・7・13\n",
    "def test_func(**kwargs):\n",
    "    print(kwargs)"
   ]
  },
  {
   "cell_type": "code",
   "execution_count": null,
   "id": "c5f397b3-8cf8-4851-801e-d1903556af9d",
   "metadata": {},
   "outputs": [],
   "source": [
    "# 6・7・14\n",
    "test_func(arg1=1, arg2=2)"
   ]
  },
  {
   "cell_type": "code",
   "execution_count": null,
   "id": "248a04d6-92c7-4f3e-a15e-731b4463be91",
   "metadata": {},
   "outputs": [],
   "source": []
  }
 ],
 "metadata": {
  "kernelspec": {
   "display_name": "Python 3 (ipykernel)",
   "language": "python",
   "name": "python3"
  },
  "language_info": {
   "codemirror_mode": {
    "name": "ipython",
    "version": 3
   },
   "file_extension": ".py",
   "mimetype": "text/x-python",
   "name": "python",
   "nbconvert_exporter": "python",
   "pygments_lexer": "ipython3",
   "version": "3.12.4"
  }
 },
 "nbformat": 4,
 "nbformat_minor": 5
}
