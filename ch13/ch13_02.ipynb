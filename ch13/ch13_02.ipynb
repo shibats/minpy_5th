{
 "cells": [
  {
   "cell_type": "markdown",
   "id": "1c4226b5-a496-4951-baa1-66bcaec07cd8",
   "metadata": {},
   "source": [
    "# 数値演算"
   ]
  },
  {
   "cell_type": "markdown",
   "id": "36fe5539-940f-49b9-8782-3168e8273434",
   "metadata": {},
   "source": [
    "## randomで乱数を扱う"
   ]
  },
  {
   "cell_type": "code",
   "execution_count": null,
   "id": "6cd17a4c-bd04-4d62-8e10-4bd1e764d786",
   "metadata": {},
   "outputs": [],
   "source": [
    "# 13・2・1\n",
    "from random import random\n",
    "\n",
    "if random() < 0.5:\n",
    "    print(\"表\")\n",
    "else:\n",
    "    print(\"裏\")"
   ]
  },
  {
   "cell_type": "code",
   "execution_count": null,
   "id": "c73ce38a-67f0-4746-9741-e07ede322e12",
   "metadata": {},
   "outputs": [],
   "source": [
    "# 13・2・2\n",
    "from random import randint\n",
    "\n",
    "coins = [\"表\" ,\"裏\"]\n",
    "coins[randint(0, 1)]"
   ]
  },
  {
   "cell_type": "code",
   "execution_count": null,
   "id": "af868fe9-cea2-4ab8-bda5-1da6b1f59ce1",
   "metadata": {},
   "outputs": [],
   "source": [
    "# 13・2・3\n",
    "from random import choice\n",
    "\n",
    "choice(coins)"
   ]
  },
  {
   "cell_type": "code",
   "execution_count": null,
   "id": "8834f66f-60d7-4499-837b-e2c1fad8c2a4",
   "metadata": {},
   "outputs": [],
   "source": [
    "# 13・2・4\n",
    "from random import sample\n",
    "\n",
    "# トランプのカードを作る\n",
    "cards = ['A']+[str(n) for n in range(2, 11)]+['J', 'Q', 'K']\n",
    "sample(cards, 5)"
   ]
  },
  {
   "cell_type": "code",
   "execution_count": null,
   "id": "d7111ffd-cdba-4e73-8215-b93551f4f2c8",
   "metadata": {},
   "outputs": [],
   "source": [
    "# 13・2・5\n",
    "from random import shuffle\n",
    "shuffle(cards)\n",
    "cards[:5]  # 先頭から5枚表示"
   ]
  },
  {
   "cell_type": "code",
   "execution_count": null,
   "id": "29a0d084-3bb0-4870-a394-ea9a56a14f3f",
   "metadata": {},
   "outputs": [],
   "source": [
    "# 13・2・6\n",
    "from string import ascii_letters, digits\n",
    "\n",
    "# 使用する文字のセット（大文字，小文字，数字，記号）\n",
    "chars = list(ascii_letters + digits)\n",
    "\n",
    "# シャッフルして，先頭から12文字を使用\n",
    "shuffle(chars)\n",
    "''.join(chars[:12])"
   ]
  },
  {
   "cell_type": "code",
   "execution_count": null,
   "id": "7495a808-baf8-4d6c-a747-a8d9bbb5d393",
   "metadata": {},
   "outputs": [],
   "source": [
    "# 13・2・7\n",
    "from random import seed\n",
    "\n",
    "seed(0)\n",
    "randint(1, 6)"
   ]
  },
  {
   "cell_type": "markdown",
   "id": "8253a99a-47c6-4e50-b8e8-9c4e2c65657e",
   "metadata": {},
   "source": [
    "## mathで数値演算をする"
   ]
  },
  {
   "cell_type": "code",
   "execution_count": null,
   "id": "cfdf7b8a-e851-4094-8c49-e7d3e0f567e6",
   "metadata": {},
   "outputs": [],
   "source": [
    "# 13・2・8\n",
    "from math import pi\n",
    "r = 5\n",
    "area = pi * r ** 2\n",
    "print(f\"半径 {r} の円の面積は {area:.2f}\")"
   ]
  },
  {
   "cell_type": "code",
   "execution_count": null,
   "id": "a3f01b42-1020-4d41-84f0-2d2889cb5d58",
   "metadata": {},
   "outputs": [],
   "source": [
    "# 13・2・9\n",
    "from math import sin, radians\n",
    "\n",
    "sin_values = []\n",
    "for deg in range(0, 361):\n",
    "    rad = radians(deg)\n",
    "    sin_values.append(sin(rad))"
   ]
  },
  {
   "cell_type": "code",
   "execution_count": null,
   "id": "9fe57afb-8242-40ff-b704-415e1f0461a9",
   "metadata": {},
   "outputs": [],
   "source": [
    "# 13・2・10\n",
    "import matplotlib.pyplot as plt\n",
    "plt.plot(sin_values)"
   ]
  },
  {
   "cell_type": "code",
   "execution_count": null,
   "id": "0ab0c73a-43fd-44d4-98c4-258d7c165a50",
   "metadata": {},
   "outputs": [],
   "source": [
    "# 13・2・11\n",
    "from math import cos\n",
    "\n",
    "# パラメータ\n",
    "a = 5      # x方向の周波数\n",
    "b = 4      # y方向の周波数\n",
    "delta = pi / 2  # 位相差（90度）\n",
    "\n",
    "# 座標計算\n",
    "points = 1000\n",
    "ts = [2*pi*i/points for i in range(points)]\n",
    "xs = [sin(a*t+delta) for t in ts]\n",
    "ys = [sin(b*t) for t in ts]\n",
    "\n",
    "plt.plot(xs, ys, color='mediumvioletred', linewidth=2)\n",
    "plt.show()"
   ]
  },
  {
   "cell_type": "markdown",
   "id": "6b0caa96-81de-4d51-8a46-7bae182dd3ec",
   "metadata": {},
   "source": [
    "## statisticsで統計演算をする"
   ]
  },
  {
   "cell_type": "code",
   "execution_count": null,
   "id": "75662c57-5e6b-4825-a86f-2d547db42795",
   "metadata": {},
   "outputs": [],
   "source": [
    "# 13・2・12\n",
    "from statistics import mean, median\n",
    "\n",
    "salaries = [280, 300, 310, 295, 1000]  # 年収(万円)\n",
    "mea = mean(salaries)\n",
    "med = median(salaries)\n",
    "print(f\"平均:{mea}, 平均値:{med}\")"
   ]
  },
  {
   "cell_type": "code",
   "execution_count": null,
   "id": "1271d498-8370-4183-b0ba-0d3ec47deb2b",
   "metadata": {},
   "outputs": [],
   "source": [
    "# 13・2・13\n",
    "from statistics import variance, stdev\n",
    "\n",
    "var = variance(salaries)\n",
    "stdev = stdev(salaries)\n",
    "print(f\"分散: {var:.2f}, 標準偏差: {stdev:.2f}\")"
   ]
  },
  {
   "cell_type": "code",
   "execution_count": null,
   "id": "d55d3207-a8f8-41f6-a87b-c2b28ef36973",
   "metadata": {},
   "outputs": [],
   "source": []
  }
 ],
 "metadata": {
  "kernelspec": {
   "display_name": "Python 3 (ipykernel)",
   "language": "python",
   "name": "python3"
  },
  "language_info": {
   "codemirror_mode": {
    "name": "ipython",
    "version": 3
   },
   "file_extension": ".py",
   "mimetype": "text/x-python",
   "name": "python",
   "nbconvert_exporter": "python",
   "pygments_lexer": "ipython3",
   "version": "3.12.4"
  }
 },
 "nbformat": 4,
 "nbformat_minor": 5
}
