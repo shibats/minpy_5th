{
 "cells": [
  {
   "cell_type": "markdown",
   "id": "0cfeb9e9-67f7-4581-a0a4-0cc1f541f349",
   "metadata": {},
   "source": [
    "# ファイルの操作"
   ]
  },
  {
   "cell_type": "markdown",
   "id": "9a1cae08-052e-4209-bf62-13707c21747d",
   "metadata": {},
   "source": [
    "## pathlibでファイルの「パス」を扱う"
   ]
  },
  {
   "cell_type": "code",
   "execution_count": null,
   "id": "100cb1ad",
   "metadata": {},
   "outputs": [],
   "source": [
    "# 13・5・0\n",
    "# Colaboratory内にディレクトリを書き出す\n",
    "\n",
    "import requests\n",
    "import zipfile\n",
    "import io\n",
    "import os\n",
    "\n",
    "url = \"https://github.com/shibats/minpy_5th/raw/refs/heads/main/ch13/a_folder.zip\"\n",
    "response = requests.get(url)\n",
    "with zipfile.ZipFile(io.BytesIO(response.content)) as zip_file:\n",
    "    zip_file.extractall(path=\"./\")"
   ]
  },
  {
   "cell_type": "code",
   "execution_count": null,
   "id": "cf45cb1d-7ee5-4f1d-9f43-1da0914c3614",
   "metadata": {},
   "outputs": [],
   "source": [
    "# 13・5・1\n",
    "f = open(\"file1.txt\", \"w\")"
   ]
  },
  {
   "cell_type": "code",
   "execution_count": null,
   "id": "bdf78d8f-16e5-4996-bec8-2b1144548bba",
   "metadata": {},
   "outputs": [],
   "source": [
    "# 13・5・2\n",
    "f = open(\"a_folder/file2.txt\", \"r\")"
   ]
  },
  {
   "cell_type": "code",
   "execution_count": null,
   "id": "cf2f2bb2-2786-41d8-aab6-b06e72bc5e36",
   "metadata": {},
   "outputs": [],
   "source": [
    "# 13・5・3\n",
    "from pathlib import Path\n",
    "\n",
    "p = Path(\"a_folder/file2.txt\")     # 文字列でパスを渡す\n",
    "p = Path(\"a_folder\", \"file2.txt\")  # フォルダ名とファイル名に分ける\n",
    "p = Path(\"a_folder\") / \"file2.txt\" # /演算子を使って繋げる(推奨)\n",
    "p  # Pathオブジェクトを表示"
   ]
  },
  {
   "cell_type": "code",
   "execution_count": null,
   "id": "b6468e0d-f6ef-4b32-9408-85dffa8fd161",
   "metadata": {},
   "outputs": [],
   "source": [
    "# 13・5・4\n",
    "f = p.open(\"r\")"
   ]
  },
  {
   "cell_type": "markdown",
   "id": "0165c1bc-34be-4668-adca-0f058c498f78",
   "metadata": {},
   "source": [
    "### ディレクトリにあるファイルを取得する - iterdir(), glob()"
   ]
  },
  {
   "cell_type": "code",
   "execution_count": null,
   "id": "5cb27eb9-f717-4604-870f-d33daf4fe92b",
   "metadata": {},
   "outputs": [],
   "source": [
    "# 13・5・5\n",
    "for p in Path(\"a_folder\").iterdir():\n",
    "    print(p.name, end=\", \")"
   ]
  },
  {
   "cell_type": "code",
   "execution_count": null,
   "id": "e92e8780-b59d-42cc-b33d-cc27f2fea755",
   "metadata": {},
   "outputs": [],
   "source": [
    "# 13・5・6\n",
    "for p in Path(\"a_folder\").glob(\"*.txt\"):\n",
    "    print(p.name, end=\", \")"
   ]
  },
  {
   "cell_type": "code",
   "execution_count": null,
   "id": "2bd37b14-87cf-4ec9-bd3e-ab4829106841",
   "metadata": {},
   "outputs": [],
   "source": [
    "# 13・5・7\n",
    "for p in Path(\"a_folder\").rglob(\"*\"):\n",
    "    print(p)"
   ]
  },
  {
   "cell_type": "markdown",
   "id": "028faea4-f135-48a6-92c6-11539f0ca424",
   "metadata": {},
   "source": [
    "## csvモジュールでcsvファイルを読み込む"
   ]
  },
  {
   "cell_type": "code",
   "execution_count": null,
   "id": "38c01321-9467-415b-9ea8-1367821b2307",
   "metadata": {},
   "outputs": [],
   "source": [
    "# 13・5・8\n",
    "name_list = [\"bob\", \"reiko\", \"yoichiro\"]\n",
    "name_str = \",\".join(name_list)\n",
    "name_str   # ,で連結した文字列を確認する"
   ]
  },
  {
   "cell_type": "code",
   "execution_count": null,
   "id": "66c88d3e-9cd4-42cb-8719-fbdef5ad4698",
   "metadata": {},
   "outputs": [],
   "source": [
    "# 13・5・9\n",
    "new_list = name_str.split(\",\")\n",
    "new_list   # 復元した結果を確認する"
   ]
  },
  {
   "cell_type": "code",
   "execution_count": null,
   "id": "1b70bd43-328c-41fe-94ad-4165644bf7c7",
   "metadata": {},
   "outputs": [],
   "source": [
    "# 13・5・10\n",
    "from csv import reader\n",
    "\n",
    "csv_path = Path(\"a_folder\")/\"file1_1.csv\"\n",
    "with csv_path.open(encoding='utf-8') as f:\n",
    "    reader = reader(f)\n",
    "    for row in reader:\n",
    "        print(row)"
   ]
  },
  {
   "cell_type": "code",
   "execution_count": null,
   "id": "fa231403-22ec-46ea-8c6f-215234245458",
   "metadata": {},
   "outputs": [],
   "source": [
    "# 13・5・10\n",
    "from csv import writer\n",
    "\n",
    "output_file = Path('output.csv')\n",
    "rows = [[\"名前\", \"年齢\", \"出身地\"],\n",
    "        [\"Alice\", \"30\", \"東京\"],\n",
    "        [\"Bob\", \"25\", \"大阪\"],]\n",
    "\n",
    "# 書き込み処理\n",
    "with output_file.open('w', encoding='utf-8') as f:\n",
    "    writer = writer(f)\n",
    "    writer.writerows(rows)"
   ]
  },
  {
   "cell_type": "code",
   "execution_count": null,
   "id": "5e8ad227-5527-4ee9-89ed-ed4e0c603b7c",
   "metadata": {},
   "outputs": [],
   "source": []
  }
 ],
 "metadata": {
  "kernelspec": {
   "display_name": "base",
   "language": "python",
   "name": "python3"
  },
  "language_info": {
   "codemirror_mode": {
    "name": "ipython",
    "version": 3
   },
   "file_extension": ".py",
   "mimetype": "text/x-python",
   "name": "python",
   "nbconvert_exporter": "python",
   "pygments_lexer": "ipython3",
   "version": "3.12.4"
  }
 },
 "nbformat": 4,
 "nbformat_minor": 5
}
