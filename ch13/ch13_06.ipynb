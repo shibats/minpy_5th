{
 "cells": [
  {
   "cell_type": "markdown",
   "id": "da02d3da-e3f6-4ef6-81f1-afb64f25dbd9",
   "metadata": {},
   "source": [
    "# JSONデータを扱う"
   ]
  },
  {
   "cell_type": "markdown",
   "id": "ccc5fb18-c7c3-4361-a17d-d7b9168868a8",
   "metadata": {},
   "source": [
    "## JSONデータをPythonに取り込む"
   ]
  },
  {
   "cell_type": "code",
   "execution_count": 5,
   "id": "7675e525-9966-4d24-90c2-1dc81cc1fc8b",
   "metadata": {},
   "outputs": [],
   "source": [
    "# 13・6・1\n",
    "json_str = \"\"\"{\"name\": \"金沢\", \"lat\": 36.56, \"lon\": 136.66}\"\"\""
   ]
  },
  {
   "cell_type": "code",
   "execution_count": 6,
   "id": "7c33430b-6dc4-4a9c-9fdb-44893f38c1f8",
   "metadata": {},
   "outputs": [
    {
     "data": {
      "text/plain": [
       "{'name': '金沢', 'lat': 36.56, 'lon': 136.66}"
      ]
     },
     "execution_count": 6,
     "metadata": {},
     "output_type": "execute_result"
    }
   ],
   "source": [
    "# 13・6・2\n",
    "from json import loads\n",
    "kanazawa = loads(json_str)\n",
    "kanazawa # 読み込んだデータを確認"
   ]
  },
  {
   "cell_type": "markdown",
   "id": "9ecee757-3ad0-4b15-805e-c93ec24506b5",
   "metadata": {},
   "source": [
    "## PythonのデータをJSONに変換する"
   ]
  },
  {
   "cell_type": "code",
   "execution_count": 16,
   "id": "cc3bf127-88d9-4e7e-bf5e-a4cc633cc599",
   "metadata": {},
   "outputs": [
    {
     "data": {
      "text/plain": [
       "'{\"name\": \"札幌\", \"lat\": 43.06, \"lon\": 141.35}'"
      ]
     },
     "execution_count": 16,
     "metadata": {},
     "output_type": "execute_result"
    }
   ],
   "source": [
    "# 13・6・3\n",
    "from json import dumps\n",
    "sapporo = {\"name\": \"札幌\", \"lat\": 43.06, \"lon\": 141.35}\n",
    "dumps(sapporo, ensure_ascii=False)"
   ]
  },
  {
   "cell_type": "code",
   "execution_count": null,
   "id": "b79f49db-690f-4755-b388-9c0201a21fe1",
   "metadata": {},
   "outputs": [],
   "source": []
  }
 ],
 "metadata": {
  "kernelspec": {
   "display_name": "Python 3 (ipykernel)",
   "language": "python",
   "name": "python3"
  },
  "language_info": {
   "codemirror_mode": {
    "name": "ipython",
    "version": 3
   },
   "file_extension": ".py",
   "mimetype": "text/x-python",
   "name": "python",
   "nbconvert_exporter": "python",
   "pygments_lexer": "ipython3",
   "version": "3.12.4"
  }
 },
 "nbformat": 4,
 "nbformat_minor": 5
}
