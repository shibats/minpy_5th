{
 "cells": [
  {
   "cell_type": "markdown",
   "id": "8e20ea66-4602-4237-9bee-95cbad88452e",
   "metadata": {},
   "source": [
    "# Webサイトへのアクセスとスクレイピング"
   ]
  },
  {
   "cell_type": "markdown",
   "id": "99edf880-ead0-46a0-a3ff-7f54df9c8c1b",
   "metadata": {},
   "source": [
    "## Webサイトの生データをPythonで読み込む"
   ]
  },
  {
   "cell_type": "code",
   "execution_count": null,
   "id": "3ce351d8-f9cd-4a4c-8b9b-0a2dc26d5de6",
   "metadata": {},
   "outputs": [],
   "source": [
    "# 13・1・1\n",
    "import requests\n",
    "url = 'https://tenki.jp/'  # tenki.jpのURL\n",
    "response = requests.get(url)\n",
    "response.text[:200]  # 結果の先頭200文字を表示"
   ]
  },
  {
   "cell_type": "code",
   "execution_count": null,
   "id": "253fa0a2-1117-40b6-8edb-3886461b473a",
   "metadata": {},
   "outputs": [],
   "source": [
    "# 13・1・2\n",
    "from bs4 import BeautifulSoup\n",
    "from IPython.display import display, HTML\n",
    "# soupオブジェクトを得る\n",
    "soup = BeautifulSoup(response.text, \"html.parser\")\n",
    "section = soup.select_one((\"body > div#main-column >\"\n",
    "                           \"section > div > div#forecast-map\"\n",
    "                           \"> a#forecast-map-entry-13101\"))\n",
    "section.text  # 内容を確認"
   ]
  },
  {
   "cell_type": "markdown",
   "id": "985a3d3a-1c93-4cdc-a45f-51a7301c9c9b",
   "metadata": {},
   "source": [
    "## HTMLを必要な部分だけ理解する"
   ]
  },
  {
   "cell_type": "code",
   "execution_count": null,
   "id": "492bda9c-3ef7-45ab-b26f-e9800d867831",
   "metadata": {},
   "outputs": [],
   "source": [
    "# 13・1・3\n",
    "a_elem = soup.find(id=\"forecast-map-entry-13101\")\n",
    "a_elem.text"
   ]
  },
  {
   "cell_type": "code",
   "execution_count": null,
   "id": "00de7d5a-ae47-41bb-a41f-50f2f5bb61c5",
   "metadata": {},
   "outputs": [],
   "source": [
    "# 13・1・4\n",
    "for elem in soup.find_all(class_=\"forecast-map-entry\"):\n",
    "    print(elem.text)"
   ]
  },
  {
   "cell_type": "markdown",
   "id": "4f5b8288-ee1a-4800-8dd0-6cd00e1f9bee",
   "metadata": {},
   "source": [
    "## BeautifulSoupについて知る"
   ]
  },
  {
   "cell_type": "code",
   "execution_count": null,
   "id": "8716f029-7547-4b4e-96c3-eb21f2d17036",
   "metadata": {},
   "outputs": [],
   "source": [
    "# 13・1・5\n",
    "a_elem = soup.find(id=\"forecast-map-entry-13101\")\n",
    "a_elem.contents[0]"
   ]
  },
  {
   "cell_type": "code",
   "execution_count": null,
   "id": "63c44df4-ceb3-4e75-a9d5-5387bc884a1d",
   "metadata": {},
   "outputs": [],
   "source": [
    "# 13・1・6\n",
    "w_list = []\n",
    "for elem in soup.find_all(class_=\"forecast-map-entry\"):\n",
    "    w_dic = {\"city\": elem.contents[0],\n",
    "             \"weather\": elem.find(\"img\").attrs[\"alt\"],\n",
    "             \"max-temp\": int(elem.find(class_=\"max-temp\").text),\n",
    "             \"min-temp\": int(elem.find(class_=\"min-temp\").text)}\n",
    "    w_list.append(w_dic)\n",
    "w_list[0]   # 札幌の天気を表示"
   ]
  },
  {
   "cell_type": "code",
   "execution_count": null,
   "id": "be5e8d16-4d70-4548-861d-2544e2f5e24b",
   "metadata": {},
   "outputs": [],
   "source": []
  }
 ],
 "metadata": {
  "kernelspec": {
   "display_name": "Python 3 (ipykernel)",
   "language": "python",
   "name": "python3"
  },
  "language_info": {
   "codemirror_mode": {
    "name": "ipython",
    "version": 3
   },
   "file_extension": ".py",
   "mimetype": "text/x-python",
   "name": "python",
   "nbconvert_exporter": "python",
   "pygments_lexer": "ipython3",
   "version": "3.12.4"
  }
 },
 "nbformat": 4,
 "nbformat_minor": 5
}
