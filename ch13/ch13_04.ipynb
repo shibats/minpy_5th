{
 "cells": [
  {
   "cell_type": "markdown",
   "id": "52999f68-e8d9-4658-bfd1-bcfab5a8e7a9",
   "metadata": {},
   "source": [
    "# 日付や日時データの扱い"
   ]
  },
  {
   "cell_type": "markdown",
   "id": "1ccdd774-9611-4374-ad65-f48a0a45b8e6",
   "metadata": {},
   "source": [
    "## dateで日付を扱う"
   ]
  },
  {
   "cell_type": "code",
   "execution_count": null,
   "id": "798df75b-b33a-44ae-a52e-ed44e272ac3c",
   "metadata": {},
   "outputs": [],
   "source": [
    "# 13・4・1\n",
    "from datetime import date\n",
    "a_day = date(1884, 10, 13)  # 国際子午線会議開催日"
   ]
  },
  {
   "cell_type": "code",
   "execution_count": null,
   "id": "94b2ceaf-5b25-400e-a2c7-e1b69697ca88",
   "metadata": {},
   "outputs": [],
   "source": [
    "# 13・4・2\n",
    "a_day.year, a_day.month, a_day.day, a_day.weekday()"
   ]
  },
  {
   "cell_type": "code",
   "execution_count": null,
   "id": "28fe791c-f500-437d-956e-3e57d443db6c",
   "metadata": {},
   "outputs": [],
   "source": [
    "# 13・4・3\n",
    "today = date.today()  # 今日のオブジェクトを得る\n",
    "# ISOフォーマットの日付文字列から日付オブジェクトを得る\n",
    "another_day = date.fromisoformat(\"1967-10-13\")"
   ]
  },
  {
   "cell_type": "markdown",
   "id": "cf01436d-9615-4fff-8139-40d19b99603a",
   "metadata": {},
   "source": [
    "### 日付の計算と比較"
   ]
  },
  {
   "cell_type": "code",
   "execution_count": null,
   "id": "feb4a57a-ffe6-462d-83e7-b17d95ba849d",
   "metadata": {},
   "outputs": [],
   "source": [
    "# 13・4・4\n",
    "another_day - a_day"
   ]
  },
  {
   "cell_type": "code",
   "execution_count": null,
   "id": "f096b0f0-83b1-4477-a26c-42a9a900d79f",
   "metadata": {},
   "outputs": [],
   "source": [
    "# 13・4・5\n",
    "from datetime import timedelta\n",
    "a_year = timedelta(days=356)  # 1年の日付差\n",
    "another_day + a_year  # 1秒制定1周年記念日"
   ]
  },
  {
   "cell_type": "code",
   "execution_count": null,
   "id": "39d9e0e5-d8c0-4041-a8cd-b35a6a655436",
   "metadata": {},
   "outputs": [],
   "source": [
    "# 13・4・6\n",
    "march_1st = date(2026, 2, 28) + timedelta(days=1)\n",
    "leap_day = date(2028, 2, 28) + timedelta(days=1)\n",
    "march_1st, leap_day"
   ]
  },
  {
   "cell_type": "code",
   "execution_count": null,
   "id": "74792aca-29e9-4804-a03e-e13f7eb91678",
   "metadata": {},
   "outputs": [],
   "source": [
    "# 13・4・7\n",
    "bday = date(2025, 2, 1)\n",
    "if date(bday.year, 1, 20) < bday < date(bday.year, 2, 18):\n",
    "    print(f\"{bday.month}月{bday.day}日生まれの人は水瓶座です\")"
   ]
  },
  {
   "cell_type": "markdown",
   "id": "be9ab3eb-62f7-4ff0-a7b6-a52600d4513d",
   "metadata": {},
   "source": [
    "## timeとdatetimeで時間，日時を扱う"
   ]
  },
  {
   "cell_type": "code",
   "execution_count": 2,
   "id": "9abb9f07-9fe0-451b-8230-5b5a6839a2f1",
   "metadata": {},
   "outputs": [],
   "source": [
    "# 13・4・8\n",
    "from datetime import time, datetime\n",
    "\n",
    "t1 = time(14, 30, 0)  # 14時30分0秒\n",
    "t2 = time(23, 59, 59, 999999)  # マイクロ秒まで与える\n",
    "t3 = time.fromisoformat(\"14:45:00.123456\") #ISOフォーマット文字列から"
   ]
  },
  {
   "cell_type": "markdown",
   "id": "e43c4b3f-cbcb-48b5-afba-981e250c37ab",
   "metadata": {},
   "source": [
    "### time型で時刻を扱う"
   ]
  },
  {
   "cell_type": "code",
   "execution_count": 3,
   "id": "6a281f4d-c044-48da-b7b0-a376ba3ebcfc",
   "metadata": {},
   "outputs": [
    {
     "data": {
      "text/plain": [
       "(14, 30, 0, 0)"
      ]
     },
     "execution_count": 3,
     "metadata": {},
     "output_type": "execute_result"
    }
   ],
   "source": [
    "# 13・4・9\n",
    "t1.hour, t1.minute, t1.second, t1.microsecond"
   ]
  },
  {
   "cell_type": "code",
   "execution_count": 4,
   "id": "ee5bdb12-5af6-46bf-b2a4-b069f77a5c97",
   "metadata": {},
   "outputs": [
    {
     "data": {
      "text/plain": [
       "True"
      ]
     },
     "execution_count": 4,
     "metadata": {},
     "output_type": "execute_result"
    }
   ],
   "source": [
    "# 13・4・10\n",
    "t1 < t3"
   ]
  },
  {
   "cell_type": "markdown",
   "id": "e5869731-3a83-4c4e-8f77-9e0813b3b69d",
   "metadata": {},
   "source": [
    "### datetime型で日時を扱う"
   ]
  },
  {
   "cell_type": "code",
   "execution_count": null,
   "id": "fbbb2883-a75b-40ac-9a00-eec016d18e09",
   "metadata": {},
   "outputs": [],
   "source": [
    "# 13・4・11\n",
    "# 2021年3月21日15時30分の日付をいろいろな方法で作る\n",
    "dt1 = datetime(2021, 5, 21, 15, 30, 0)\n",
    "dt2 = datetime.fromisoformat(\"2021-05-21T15:30:00\")"
   ]
  },
  {
   "cell_type": "markdown",
   "id": "07eac88b-39a4-4ccb-a3ec-20c54a9393c4",
   "metadata": {},
   "source": [
    "### 文字列とdatetime型を相互変換する"
   ]
  },
  {
   "cell_type": "code",
   "execution_count": null,
   "id": "3fd5b57b-51ab-403a-b3d3-d5c0c4c8af88",
   "metadata": {},
   "outputs": [],
   "source": [
    "# 13・4・12\n",
    "dt3 = datetime.strptime(\"2021/05/21 15:30\", \"%Y/%m/%d %H:%M\")"
   ]
  },
  {
   "cell_type": "code",
   "execution_count": null,
   "id": "448d951c-d530-4472-add0-0e8334d4b787",
   "metadata": {},
   "outputs": [],
   "source": [
    "# 13・4・13\n",
    "dt3.strftime(\"%y/%m/%d %H:%M %a\")"
   ]
  },
  {
   "cell_type": "markdown",
   "id": "229a7b4f-481d-4ce2-804e-9f0d7943f800",
   "metadata": {},
   "source": [
    "## datetime型とdate型，time型を組み合わせて使う"
   ]
  },
  {
   "cell_type": "code",
   "execution_count": null,
   "id": "56c55c9b-c451-44b1-a918-320c2d9a1d80",
   "metadata": {},
   "outputs": [],
   "source": [
    "# 13・4・14\n",
    "dt = datetime(2021, 5, 22, 14, 30, 0)\n",
    "d = dt.date()    # 日付(2021年5月22日)を取り出す\n",
    "t = dt.time()    # 時刻(14時30分)を取り出す"
   ]
  },
  {
   "cell_type": "code",
   "execution_count": null,
   "id": "db75a79e-c38c-49b6-8331-44dab098bf4d",
   "metadata": {},
   "outputs": [],
   "source": [
    "# 13・4・15\n",
    "d2 = date(2021, 12, 25)\n",
    "t2 = time(9, 15)\n",
    "dt2 = datetime.combine(d2, t2)"
   ]
  },
  {
   "cell_type": "code",
   "execution_count": null,
   "id": "e8b9a0e4-94b5-49b4-89ff-d9675a89c4b4",
   "metadata": {},
   "outputs": [],
   "source": [
    "# 13・4・16\n",
    "date(2021, 12, 31) + timedelta(hours=25)"
   ]
  },
  {
   "cell_type": "code",
   "execution_count": null,
   "id": "d9fe0661-e4f5-41d6-8a85-49f22c5f8d4c",
   "metadata": {},
   "outputs": [],
   "source": [
    "# 13・4・17\n",
    "jst_d = datetime.fromisoformat(\"2021-03-06T17:00:00+09:00\")"
   ]
  },
  {
   "cell_type": "code",
   "execution_count": null,
   "id": "177d5307-2d34-40f4-b7dd-e872c01a5150",
   "metadata": {},
   "outputs": [],
   "source": [
    "# 13・4・18\n",
    "jst_d > datetime(2021, 3, 5)"
   ]
  },
  {
   "cell_type": "code",
   "execution_count": null,
   "id": "c0192140-5462-4381-ba32-3e04f290737d",
   "metadata": {},
   "outputs": [],
   "source": [
    "# 13・4・19\n",
    "from datetime import timezone\n",
    "\n",
    "JST = timezone(timedelta(hours=9)) # UTC+9（日本時間）\n",
    "jst_d > datetime(2021, 3, 5, tzinfo=JST)"
   ]
  },
  {
   "cell_type": "code",
   "execution_count": null,
   "id": "34d8ee9c-0993-4a1d-a64f-2164005ddf8f",
   "metadata": {},
   "outputs": [],
   "source": [
    "# 13・4・20\n",
    "from zoneinfo import ZoneInfo\n",
    "\n",
    "jst_d > datetime(2021, 3, 5, tzinfo=ZoneInfo(\"Asia/Tokyo\"))"
   ]
  }
 ],
 "metadata": {
  "kernelspec": {
   "display_name": "base",
   "language": "python",
   "name": "python3"
  },
  "language_info": {
   "codemirror_mode": {
    "name": "ipython",
    "version": 3
   },
   "file_extension": ".py",
   "mimetype": "text/x-python",
   "name": "python",
   "nbconvert_exporter": "python",
   "pygments_lexer": "ipython3",
   "version": "3.12.4"
  }
 },
 "nbformat": 4,
 "nbformat_minor": 5
}
