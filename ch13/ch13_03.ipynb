{
 "cells": [
  {
   "cell_type": "markdown",
   "id": "ee2a5042-956b-44c6-b4bd-4d88df54aa09",
   "metadata": {},
   "source": [
    "# 便利なデータ構造"
   ]
  },
  {
   "cell_type": "markdown",
   "id": "93f08042-24ce-43f0-bcd4-8fb9d023b776",
   "metadata": {},
   "source": [
    "## Enum - 列挙型"
   ]
  },
  {
   "cell_type": "code",
   "execution_count": null,
   "id": "2dda5eba-9758-4465-b424-a44432ce05c7",
   "metadata": {},
   "outputs": [],
   "source": [
    "# 13・3・1\n",
    "ROCK = 1     # グー\n",
    "SCISSORS = 2 # チョキ\n",
    "PAPER = 3    # パー\n",
    "\n",
    "input_hand = input(\"グー(1)，チョキ(2)，パー(3)を入力してください\")\n",
    "\n",
    "if int(input_hand) not in [ROCK, SCISSORS, PAPER]:\n",
    "    raise ValueError(\"1,2,3のどれかを入力してください\")"
   ]
  },
  {
   "cell_type": "code",
   "execution_count": null,
   "id": "aa31f67e-7975-4b85-9fc3-9539fb9620f4",
   "metadata": {},
   "outputs": [],
   "source": [
    "# 13・3・2\n",
    "from enum import IntEnum\n",
    "\n",
    "class Hand(IntEnum):\n",
    "    ROCK = 1\n",
    "    SCISSORS = 2\n",
    "    PAPER = 3\n",
    "\n",
    "input_hand = input(\"グー(1)，チョキ(2)，パー(3)を入力してください\")\n",
    "player_hand = Hand(int(input_hand))\n",
    "player_hand  # 手を表示する"
   ]
  },
  {
   "cell_type": "code",
   "execution_count": null,
   "id": "2129c441-ff47-487a-910f-4d1f5d5fa31f",
   "metadata": {},
   "outputs": [],
   "source": [
    "# 13・3・3\n",
    "from enum import auto\n",
    "\n",
    "class Result(IntEnum):\n",
    "    DRAW = auto()         # あいこ\n",
    "    COMP_WIN = auto()   # 人間の勝ち\n",
    "    PLAYER_WIN = auto() # コンピュータの勝ち"
   ]
  },
  {
   "cell_type": "code",
   "execution_count": null,
   "id": "6dd76584-a5fd-4d04-a5d2-9be347c8cc2f",
   "metadata": {},
   "outputs": [],
   "source": [
    "# 13・3・4\n",
    "from random import choice\n",
    "\n",
    "# Hand型の値から一つをchoice()で選ぶ\n",
    "comp_hand = choice(list(Hand.__members__.values()))\n",
    "int_result = (player_hand - comp_hand) % 3\n",
    "result = Result(int_result+1)\n",
    "# 結果を表示\n",
    "player_hand, comp_hand, result"
   ]
  },
  {
   "cell_type": "markdown",
   "id": "33330846-4a8a-4410-b53c-77f0905b8936",
   "metadata": {},
   "source": [
    "## collections.namedtuple - 名前付きのタプル"
   ]
  },
  {
   "cell_type": "code",
   "execution_count": null,
   "id": "a22ecfab-727b-4a48-978d-381ac02650ba",
   "metadata": {},
   "outputs": [],
   "source": [
    "# 13・3・5\n",
    "a_word = (\"python\" , \"名詞\", \"ニシキヘビ，またはプログラミング言語の名称\")"
   ]
  },
  {
   "cell_type": "code",
   "execution_count": null,
   "id": "cd527e10-469c-4e89-9b70-442f922ba659",
   "metadata": {},
   "outputs": [],
   "source": [
    "# 13・3・6\n",
    "words = [\n",
    "    (\"apple\", \"名詞\", \"リンゴ，またはコンピュータ企業の名称\"),\n",
    "    (\"run\", \"動詞\", \"走る，またはプログラムを実行する\"),\n",
    "    (\"cloud\", \"名詞\", \"雲，またはインターネット上のデータサービス\"),\n",
    "    (\"mouse\", \"名詞\", \"ネズミ，またはコンピュータの入力装置\"),\n",
    "    (\"java\", \"名詞\", \"インドネシアの島，またはプログラミング言語の名称\")\n",
    "]"
   ]
  },
  {
   "cell_type": "code",
   "execution_count": null,
   "id": "907b5f32-f719-462b-b861-4a3ca677d59a",
   "metadata": {},
   "outputs": [],
   "source": [
    "# 13・3・7\n",
    "words[1][1]"
   ]
  },
  {
   "cell_type": "code",
   "execution_count": null,
   "id": "e50898c8-3649-415e-9b9e-59939a94e7ac",
   "metadata": {},
   "outputs": [],
   "source": [
    "# 13・3・8\n",
    "from collections import namedtuple\n",
    "\n",
    "# namedtupleの定義\n",
    "Word = namedtuple('Word', ['text', 'pos', 'meaning'])\n",
    "\n",
    "# データの定義（リスト）\n",
    "words = [\n",
    "    Word(\"python\" , \"名詞\", \"ニシキヘビ，またはプログラミング言語の名称\"),\n",
    "    Word(\"run\", \"動詞\", \"走る，またはプログラムを実行する\"),\n",
    "]"
   ]
  },
  {
   "cell_type": "code",
   "execution_count": null,
   "id": "4165fedb-f944-4919-8386-d1fcaf9a7103",
   "metadata": {},
   "outputs": [],
   "source": [
    "# 13・3・9\n",
    "words[1].pos"
   ]
  },
  {
   "cell_type": "markdown",
   "id": "e46f3662-fd84-4742-9906-f1af982ed3bf",
   "metadata": {},
   "source": [
    "## typing.TypedDict - 型の制約つきの辞書"
   ]
  },
  {
   "cell_type": "code",
   "execution_count": null,
   "id": "e1344367-edce-4c68-9a66-380f2d60a686",
   "metadata": {},
   "outputs": [],
   "source": [
    "# 13・3・10\n",
    "from enum import IntEnum, auto\n",
    "\n",
    "class POS(IntEnum):\n",
    "    NOUN = auto()        # 名詞\n",
    "    VERB = auto()        # 動詞\n",
    "    ADJECTIVE = auto()   # 形容詞\n",
    "    ADVERB = auto()      # 副詞"
   ]
  },
  {
   "cell_type": "code",
   "execution_count": null,
   "id": "8d333765-577b-4a00-a1a1-9fa605fdf038",
   "metadata": {},
   "outputs": [],
   "source": [
    "# 13・3・11\n",
    "words = [\n",
    "    Word(\"python\" , POS.NOUN, \"ニシキヘビ，またはプログラミング言語の名称\"),\n",
    "    Word(\"run\", POS.VERB, \"走る，またはプログラムを実行する\"),\n",
    "]"
   ]
  },
  {
   "cell_type": "code",
   "execution_count": null,
   "id": "12842542-6b39-4b97-a827-2963f971fb62",
   "metadata": {},
   "outputs": [],
   "source": [
    "# 13・3・12\n",
    "from dataclasses import dataclass\n",
    "\n",
    "@dataclass\n",
    "class Word:\n",
    "    text: str\n",
    "    pos: POS\n",
    "    meaning: str"
   ]
  },
  {
   "cell_type": "code",
   "execution_count": null,
   "id": "4d4a1fa2-7bcd-4356-9ddd-7095f747a2c0",
   "metadata": {},
   "outputs": [],
   "source": [
    "# 13・3・13\n",
    "a_word = Word(\"run\", POS.VERV, \"走る，またはプログラムを実行する\")"
   ]
  },
  {
   "cell_type": "code",
   "execution_count": null,
   "id": "3faa3fbf-6409-40db-b368-af82e0259015",
   "metadata": {},
   "outputs": [],
   "source": [
    "# 13・3・14\n",
    "a_word2 = Word(\"cloud\", \"名詞\", \"雲，またはインターネット上のデータサービス\")"
   ]
  },
  {
   "cell_type": "code",
   "execution_count": null,
   "id": "6829c460-20d6-4e28-9ff5-14ab2da0db7f",
   "metadata": {},
   "outputs": [],
   "source": []
  }
 ],
 "metadata": {
  "kernelspec": {
   "display_name": "Python 3 (ipykernel)",
   "language": "python",
   "name": "python3"
  },
  "language_info": {
   "codemirror_mode": {
    "name": "ipython",
    "version": 3
   },
   "file_extension": ".py",
   "mimetype": "text/x-python",
   "name": "python",
   "nbconvert_exporter": "python",
   "pygments_lexer": "ipython3",
   "version": "3.12.4"
  }
 },
 "nbformat": 4,
 "nbformat_minor": 5
}
