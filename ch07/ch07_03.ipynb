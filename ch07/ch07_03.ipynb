{
 "cells": [
  {
   "cell_type": "markdown",
   "id": "f3471d68-5c45-4675-a8a8-ec0e0535db44",
   "metadata": {},
   "source": [
    "# 組み込み型を継承する\n",
    "## 辞書型を継承する"
   ]
  },
  {
   "cell_type": "code",
   "execution_count": null,
   "id": "bddc7eca-d3c5-46df-8cee-b36e10089cb9",
   "metadata": {},
   "outputs": [],
   "source": [
    "# 7・3・1\n",
    "class StrKeyDict(dict):\n",
    "    def __setitem__(self, key, value):\n",
    "        # キーが文字列であることを確認します。\n",
    "        if not isinstance(key, str):\n",
    "            raise TypeError(\"キーは文字列型である必要があります\")\n",
    "        super().__setitem__(key, value)"
   ]
  },
  {
   "cell_type": "code",
   "execution_count": null,
   "id": "7be6d91f-820b-41a6-818f-6d3788379313",
   "metadata": {},
   "outputs": [],
   "source": [
    "# 7・3・2\n",
    "sdic = StrKeyDict(key1=1, key2=2)"
   ]
  },
  {
   "cell_type": "code",
   "execution_count": null,
   "id": "840fb77f-887a-4e92-aeff-cea93c722ae6",
   "metadata": {},
   "outputs": [],
   "source": [
    "# 7・3・3\n",
    "sdic[100] = 100"
   ]
  },
  {
   "cell_type": "code",
   "execution_count": null,
   "id": "00fa3979-c59c-48da-a1ea-3e874020e23a",
   "metadata": {},
   "outputs": [],
   "source": [
    "# 7・3・4\n",
    "sdic.setdefault(200, 200)"
   ]
  },
  {
   "cell_type": "code",
   "execution_count": null,
   "id": "13d95e6c-970b-4490-a342-15bf4cf4d1bd",
   "metadata": {},
   "outputs": [],
   "source": [
    "# 7・3・5\n",
    "class StrKeyDict(dict):\n",
    "    def __setitem__(self, key, value):\n",
    "        # キーが文字列であることを確認します。\n",
    "        if not isinstance(key, str):\n",
    "            raise TypeError(\"キーは文字列型である必要があります\")\n",
    "        super().__setitem__(key, value)\n",
    "\n",
    "    def setdefault(self, key, default=None):\n",
    "        if not isinstance(key, str):\n",
    "            raise TypeError(\"キーは文字列型である必要があります\")\n",
    "        return super().setdefault(key, default)"
   ]
  },
  {
   "cell_type": "code",
   "execution_count": null,
   "id": "938d983e-c90d-4eb0-b72d-0d8e125f386b",
   "metadata": {},
   "outputs": [],
   "source": [
    "# 7・3・6\n",
    "sdic = StrKeyDict(key1=1, key2=2)\n",
    "sdic.setdefault(200, 200)"
   ]
  },
  {
   "cell_type": "code",
   "execution_count": null,
   "id": "9913b5a0-097b-4e1e-a042-de01cadbc305",
   "metadata": {},
   "outputs": [],
   "source": []
  }
 ],
 "metadata": {
  "kernelspec": {
   "display_name": "Python 3 (ipykernel)",
   "language": "python",
   "name": "python3"
  },
  "language_info": {
   "codemirror_mode": {
    "name": "ipython",
    "version": 3
   },
   "file_extension": ".py",
   "mimetype": "text/x-python",
   "name": "python",
   "nbconvert_exporter": "python",
   "pygments_lexer": "ipython3",
   "version": "3.12.4"
  }
 },
 "nbformat": 4,
 "nbformat_minor": 5
}
