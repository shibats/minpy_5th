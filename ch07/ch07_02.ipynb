{
 "cells": [
  {
   "cell_type": "markdown",
   "id": "ce95962c-07b4-4285-afed-1d3d9c6b5f15",
   "metadata": {},
   "source": [
    "# 特殊メソッドを利用する\n",
    "## オブジェクトのハッシュ化"
   ]
  },
  {
   "cell_type": "code",
   "execution_count": null,
   "id": "a6352300-f373-42cd-ae42-b1707a2264a8",
   "metadata": {},
   "outputs": [],
   "source": [
    "# 7・2・1\n",
    "hash(\"Python\")"
   ]
  },
  {
   "cell_type": "code",
   "execution_count": null,
   "id": "bfb4ac10-8a9f-49cd-a3a5-936c2890ee2f",
   "metadata": {},
   "outputs": [],
   "source": [
    "# 7・2・2\n",
    "hash(\"python\")"
   ]
  },
  {
   "cell_type": "code",
   "execution_count": null,
   "id": "9eda3c85-8170-43e6-84bd-31d062dde3b2",
   "metadata": {},
   "outputs": [],
   "source": [
    "# 7・2・3\n",
    "str1 = \"python\"\n",
    "str2 = \"pythoN\"\n",
    "for ch1, ch2 in zip(str1, str2):\n",
    "    if ch1 != ch2:\n",
    "        print(\"二つの文字列は異なります\")"
   ]
  },
  {
   "cell_type": "code",
   "execution_count": null,
   "id": "4a774c8b-8107-4288-8291-6b4ba98202dc",
   "metadata": {},
   "outputs": [],
   "source": [
    "# 7・2・4\n",
    "\"python\".__hash__()"
   ]
  },
  {
   "cell_type": "code",
   "execution_count": null,
   "id": "6413d569-c841-456f-8f9f-7823f16978fd",
   "metadata": {},
   "outputs": [],
   "source": []
  }
 ],
 "metadata": {
  "kernelspec": {
   "display_name": "Python 3 (ipykernel)",
   "language": "python",
   "name": "python3"
  },
  "language_info": {
   "codemirror_mode": {
    "name": "ipython",
    "version": 3
   },
   "file_extension": ".py",
   "mimetype": "text/x-python",
   "name": "python",
   "nbconvert_exporter": "python",
   "pygments_lexer": "ipython3",
   "version": "3.12.4"
  }
 },
 "nbformat": 4,
 "nbformat_minor": 5
}
