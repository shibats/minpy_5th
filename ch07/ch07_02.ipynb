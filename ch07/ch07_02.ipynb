{
 "cells": [
  {
   "cell_type": "markdown",
   "id": "7adbbcbd-f456-4cdb-94af-67df6d85db0a",
   "metadata": {},
   "source": [
    "# Pythonでクラスを作る\n",
    "## クラス"
   ]
  },
  {
   "cell_type": "code",
   "execution_count": null,
   "id": "66495de9-d5c2-4242-a026-57244096b231",
   "metadata": {},
   "outputs": [],
   "source": [
    "# 7・2・1\n",
    "class Point:\n",
    "    pass"
   ]
  },
  {
   "cell_type": "markdown",
   "id": "acbce502-3a4f-4aa4-962d-bf8f9c68c076",
   "metadata": {},
   "source": [
    "## クラスの初期化と第一引数「self」"
   ]
  },
  {
   "cell_type": "code",
   "execution_count": null,
   "id": "e6f62319-b31b-4e43-9b53-520c809d56ca",
   "metadata": {},
   "outputs": [],
   "source": [
    "# 7・2・2\n",
    "tokyo = Point()"
   ]
  },
  {
   "cell_type": "code",
   "execution_count": null,
   "id": "4be421e7-fe0b-4233-8409-d37529e3bc67",
   "metadata": {},
   "outputs": [],
   "source": [
    "# 7・2・3\n",
    "class Point:\n",
    "    def __init__(self, name, latitude, longitude):\n",
    "        self.name = name # 名前\n",
    "        self.latitude = latitude # 緯度\n",
    "        self.longitude = longitude # 経度"
   ]
  },
  {
   "cell_type": "code",
   "execution_count": null,
   "id": "f42eb765-9a5b-4273-9a25-27aaed6d55e2",
   "metadata": {},
   "outputs": [],
   "source": [
    "# 7・2・4\n",
    "tokyo = Point(\"東京\", 35.64, 137.84)\n",
    "tokyo.name # 名前を確認する"
   ]
  },
  {
   "cell_type": "code",
   "execution_count": null,
   "id": "0efb5f7e-f8ff-4eae-b1c3-da46d1b95865",
   "metadata": {},
   "outputs": [],
   "source": [
    "# 7・2・5\n",
    "class Point:\n",
    "    def __init__(self, name, latitude, longitude):\n",
    "        self.name = name # 名前\n",
    "        self.latitude = latitude # 緯度\n",
    "        self.longitude = longitude # 経度\n",
    "\n",
    "    def show_info(self):\n",
    "        print(f\"{self.name}:{self.latitude}, {self.longitude}\")"
   ]
  },
  {
   "cell_type": "code",
   "execution_count": null,
   "id": "9181cde2-2f2a-4302-945b-b820570bfffb",
   "metadata": {},
   "outputs": [],
   "source": [
    "# 7・2・6\n",
    "sapporo= Point(\"札幌\", 43.06, 141.35)\n",
    "sapporo.show_info()"
   ]
  },
  {
   "cell_type": "code",
   "execution_count": null,
   "id": "40dab2ed-f4cc-4965-8a0e-a9da3a04a770",
   "metadata": {},
   "outputs": [],
   "source": []
  }
 ],
 "metadata": {
  "kernelspec": {
   "display_name": "Python 3 (ipykernel)",
   "language": "python",
   "name": "python3"
  },
  "language_info": {
   "codemirror_mode": {
    "name": "ipython",
    "version": 3
   },
   "file_extension": ".py",
   "mimetype": "text/x-python",
   "name": "python",
   "nbconvert_exporter": "python",
   "pygments_lexer": "ipython3",
   "version": "3.12.4"
  }
 },
 "nbformat": 4,
 "nbformat_minor": 5
}
