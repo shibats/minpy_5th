{
 "cells": [
  {
   "cell_type": "markdown",
   "id": "d46dd5c9-6ea4-4c10-93c6-50851e8e6a78",
   "metadata": {},
   "source": [
    "# 高度なオブジェクト指向機能\n",
    "## オブジェクトでPythonをおさらいする\n",
    "### 数値型のメソッドを呼び出す"
   ]
  },
  {
   "cell_type": "code",
   "execution_count": null,
   "id": "28232a4b-81bf-4fbc-8839-893e59ff96e5",
   "metadata": {},
   "outputs": [],
   "source": [
    "# 7・1・1\n",
    "a = 100\n",
    "a.__add__(10)"
   ]
  },
  {
   "cell_type": "code",
   "execution_count": null,
   "id": "b7b0b460-a82e-48f8-ae81-963af6b143ec",
   "metadata": {},
   "outputs": [],
   "source": [
    "# 7・1・2\n",
    "a.__eq__(100)"
   ]
  },
  {
   "cell_type": "markdown",
   "id": "7f7bc743-ec0b-423a-9689-e559bb12a36a",
   "metadata": {},
   "source": [
    "## 特殊メソッド"
   ]
  },
  {
   "cell_type": "code",
   "execution_count": null,
   "id": "f5fcd622-b2a5-4331-9319-328563127c6c",
   "metadata": {},
   "outputs": [],
   "source": [
    "# 7・1・3\n",
    "a_list = [10, 20, 30]\n",
    "a_list.__getitem__(1)"
   ]
  },
  {
   "cell_type": "code",
   "execution_count": null,
   "id": "625ab55f-f597-441e-bb0f-e82acbbc3607",
   "metadata": {},
   "outputs": [],
   "source": [
    "# 7・1・4\n",
    "a_list.__setitem__(1, 200)\n",
    "a_list"
   ]
  },
  {
   "cell_type": "markdown",
   "id": "6e2f8a48-78d8-4ca6-ab0c-cb0bd507c89e",
   "metadata": {},
   "source": [
    "## オブジェクトの分類と特殊メソッド"
   ]
  },
  {
   "cell_type": "code",
   "execution_count": null,
   "id": "75e4cd5a-b91c-4e24-a715-c8c6ce37017f",
   "metadata": {},
   "outputs": [],
   "source": [
    "# 7・1・5\n",
    "a_tuple = (10, 20, 30)\n",
    "a_tuple.__getitem__(1)"
   ]
  },
  {
   "cell_type": "code",
   "execution_count": null,
   "id": "0e3cff38-d961-4b36-9417-394fc5c00bd6",
   "metadata": {},
   "outputs": [],
   "source": [
    "# 7・1・6\n",
    "a_tuple.__setitem__(1, 200)"
   ]
  },
  {
   "cell_type": "code",
   "execution_count": null,
   "id": "96c6667d-8520-4a46-9470-c95a135877fc",
   "metadata": {},
   "outputs": [],
   "source": []
  }
 ],
 "metadata": {
  "kernelspec": {
   "display_name": "Python 3 (ipykernel)",
   "language": "python",
   "name": "python3"
  },
  "language_info": {
   "codemirror_mode": {
    "name": "ipython",
    "version": 3
   },
   "file_extension": ".py",
   "mimetype": "text/x-python",
   "name": "python",
   "nbconvert_exporter": "python",
   "pygments_lexer": "ipython3",
   "version": "3.12.4"
  }
 },
 "nbformat": 4,
 "nbformat_minor": 5
}
