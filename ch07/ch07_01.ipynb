{
 "cells": [
  {
   "cell_type": "markdown",
   "id": "315bf36d-bb3d-40ad-8388-5760c681b48d",
   "metadata": {},
   "source": [
    "# データ構造とオブジェクト指向"
   ]
  },
  {
   "cell_type": "markdown",
   "id": "fffb8ff7-2e7b-4c08-baa0-60954b36e62c",
   "metadata": {},
   "source": [
    "## データ構造"
   ]
  },
  {
   "cell_type": "code",
   "execution_count": null,
   "id": "3b19bcc2-6557-4cb3-af02-8ac9513a9eba",
   "metadata": {},
   "outputs": [],
   "source": [
    "# 7・1・1\n",
    "apple = 3"
   ]
  },
  {
   "cell_type": "code",
   "execution_count": null,
   "id": "57fdfcf9-aa9d-4070-83c9-51171dd04caf",
   "metadata": {},
   "outputs": [],
   "source": [
    "# 7・1・2\n",
    "name = \"東京\"\n",
    "latitude = 35.65\n",
    "longitude = 139.84"
   ]
  },
  {
   "cell_type": "code",
   "execution_count": null,
   "id": "2503a7f7-6c12-4acc-b2f3-fe9a0cb03f62",
   "metadata": {},
   "outputs": [],
   "source": [
    "# 7・1・3\n",
    "tokyo = {\"name\": \"東京\",\n",
    "         \"latitude\": 35.64,\n",
    "         \"longitude\": 137.64}"
   ]
  },
  {
   "cell_type": "code",
   "execution_count": null,
   "id": "a007b38d-b5cb-4e48-ba0a-1fdf9f665664",
   "metadata": {},
   "outputs": [],
   "source": [
    "# 7・1・4\n",
    "tokyo[\"longitude\"] = 139.84"
   ]
  },
  {
   "cell_type": "markdown",
   "id": "f6780ab6-3b87-4436-af67-2342aa3adde8",
   "metadata": {},
   "source": [
    "## オブジェクトとアトリビュート"
   ]
  },
  {
   "cell_type": "code",
   "execution_count": null,
   "id": "7c47c109-e56d-49d8-9569-4d2ae789d7b2",
   "metadata": {},
   "outputs": [],
   "source": [
    "# 7・1・5\n",
    "class Point:\n",
    "    pass"
   ]
  },
  {
   "cell_type": "code",
   "execution_count": null,
   "id": "ead2f030-b36e-4685-abd4-8e3af85065fa",
   "metadata": {},
   "outputs": [],
   "source": [
    "# 7・1・6\n",
    "tokyo = Point()"
   ]
  },
  {
   "cell_type": "code",
   "execution_count": null,
   "id": "143df69a-0a51-477d-b050-38bfb1715b5a",
   "metadata": {},
   "outputs": [],
   "source": [
    "# 7・1・7\n",
    "tokyo.name = \"東京\""
   ]
  },
  {
   "cell_type": "code",
   "execution_count": null,
   "id": "96b36a74-e086-4ecc-8c38-19bf4160b335",
   "metadata": {},
   "outputs": [],
   "source": [
    "# 7・1・8\n",
    "tokyo.latitude = 35.64\n",
    "tokyo.longitude = 135.84"
   ]
  },
  {
   "cell_type": "code",
   "execution_count": null,
   "id": "3285c08a-b50c-4510-9304-5da1fd17614a",
   "metadata": {},
   "outputs": [],
   "source": [
    "# 7・1・9\n",
    "tokyo.longitude"
   ]
  },
  {
   "cell_type": "code",
   "execution_count": null,
   "id": "9713af7f-44b3-461d-96d1-86ee4baa1d32",
   "metadata": {},
   "outputs": [],
   "source": [
    "# 7・1・10\n",
    "tokyo.longitude = 139.84\n",
    "tokyo.longitude"
   ]
  },
  {
   "cell_type": "code",
   "execution_count": null,
   "id": "053a204e-0936-4268-ac9a-fcd29e73a894",
   "metadata": {},
   "outputs": [],
   "source": []
  }
 ],
 "metadata": {
  "kernelspec": {
   "display_name": "Python 3 (ipykernel)",
   "language": "python",
   "name": "python3"
  },
  "language_info": {
   "codemirror_mode": {
    "name": "ipython",
    "version": 3
   },
   "file_extension": ".py",
   "mimetype": "text/x-python",
   "name": "python",
   "nbconvert_exporter": "python",
   "pygments_lexer": "ipython3",
   "version": "3.12.4"
  }
 },
 "nbformat": 4,
 "nbformat_minor": 5
}
