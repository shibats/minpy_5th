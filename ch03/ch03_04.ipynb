{
 "cells": [
  {
   "cell_type": "markdown",
   "id": "8b50da36-d08c-44d9-90ca-e7a1a25728a9",
   "metadata": {},
   "source": [
    "# 03-04タプルを使う"
   ]
  },
  {
   "cell_type": "markdown",
   "id": "8417b51a-a2c8-44ea-b9df-8c1e151efb6b",
   "metadata": {},
   "source": [
    "## タプル - 名前のないデータ構造"
   ]
  },
  {
   "cell_type": "code",
   "execution_count": null,
   "id": "f1738b0e-af69-4bb6-ae46-e02c7f4854cf",
   "metadata": {},
   "outputs": [],
   "source": [
    "# 3・4・1\n",
    "tokyo = (\"東京\", 35.64, 139.84)"
   ]
  },
  {
   "cell_type": "code",
   "execution_count": null,
   "id": "1234ad5f-11e9-49ce-a65d-ad00c574254a",
   "metadata": {},
   "outputs": [],
   "source": [
    "# 3・4・2\n",
    "name = tokyo[0]\n",
    "latitude = tokyo[1]\n",
    "longitude = tokyo[2]\n",
    "print(name, \"の緯度，経度は\",\n",
    "      latitude, longitude, \"です\") "
   ]
  },
  {
   "cell_type": "code",
   "execution_count": null,
   "id": "e728014d-7fe5-4952-b9f1-9d24c00a2f4b",
   "metadata": {},
   "outputs": [],
   "source": [
    "# 3・4・3\n",
    "latlon = (35.64, 139.84) # 東京の緯度経度"
   ]
  },
  {
   "cell_type": "markdown",
   "id": "7d4cd652-d1ad-4510-8131-e4ad3eef148f",
   "metadata": {},
   "source": [
    "## タプルとリストの違い"
   ]
  },
  {
   "cell_type": "code",
   "execution_count": null,
   "id": "14280ed6-daa2-435f-9c7f-6dc131f87d5d",
   "metadata": {},
   "outputs": [],
   "source": [
    "# 3・4・4\n",
    "latlons = [\n",
    " (43.06, 141.35), (40.82, 140.74), (39.72, 140.10),\n",
    " (39.70, 141.15), (38.27, 140.87), (38.24, 140.36),\n",
    " (37.90, 139.02), (37.76, 140.47), (36.70, 137.21),\n",
    " (36.65, 138.18), (36.56, 136.66), (36.56, 139.88),\n",
    " (36.39, 139.06), (36.37, 140.47), (36.06, 136.22)]"
   ]
  },
  {
   "cell_type": "code",
   "execution_count": null,
   "id": "011138c2-df86-42b8-a0d3-a061dfd82ebb",
   "metadata": {},
   "outputs": [],
   "source": []
  }
 ],
 "metadata": {
  "kernelspec": {
   "display_name": "Python 3 (ipykernel)",
   "language": "python",
   "name": "python3"
  },
  "language_info": {
   "codemirror_mode": {
    "name": "ipython",
    "version": 3
   },
   "file_extension": ".py",
   "mimetype": "text/x-python",
   "name": "python",
   "nbconvert_exporter": "python",
   "pygments_lexer": "ipython3",
   "version": "3.12.4"
  }
 },
 "nbformat": 4,
 "nbformat_minor": 5
}
