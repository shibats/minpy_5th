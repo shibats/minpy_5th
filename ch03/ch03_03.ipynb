{
 "cells": [
  {
   "cell_type": "markdown",
   "id": "25d31476-5dc0-4492-a161-5b2b0b98e450",
   "metadata": {},
   "source": [
    "# 03-03 辞書を使う"
   ]
  },
  {
   "cell_type": "markdown",
   "id": "bbb1a910-0c5c-4611-9e5a-6144f2ab44ba",
   "metadata": {},
   "source": [
    "## データ構造"
   ]
  },
  {
   "cell_type": "code",
   "execution_count": null,
   "id": "53b7f399-7c95-4f47-8858-216cfe1a1d3c",
   "metadata": {},
   "outputs": [],
   "source": [
    "# 3・3・1\n",
    "top = 6     # 上底\n",
    "bottom = 8  # 下底\n",
    "height = 4  # 高さ"
   ]
  },
  {
   "cell_type": "code",
   "execution_count": null,
   "id": "ab34d529-50f1-454b-928c-67f535e17630",
   "metadata": {},
   "outputs": [],
   "source": [
    "# 3・3・2\n",
    "name = \"東京\"\n",
    "latitude = 35.65\n",
    "longitude = 139.84"
   ]
  },
  {
   "cell_type": "code",
   "execution_count": null,
   "id": "4c4f8cce-8240-4760-bebe-1cc2c51a3c8d",
   "metadata": {},
   "outputs": [],
   "source": [
    "# 3・3・3\n",
    "name = \"大阪\"\n",
    "latitude = 34.68\n",
    "longitude = 135.52"
   ]
  },
  {
   "cell_type": "code",
   "execution_count": null,
   "id": "bc05677e-18f8-4de1-ac55-2bac181b596f",
   "metadata": {},
   "outputs": [],
   "source": [
    "# 3・3・4\n",
    "name_tokyo = \"東京”\n",
    "name_osaka = \"大阪\""
   ]
  },
  {
   "cell_type": "code",
   "execution_count": null,
   "id": "e9f5d12b-0432-426f-87e7-d84d23029ef2",
   "metadata": {},
   "outputs": [],
   "source": [
    "# 3・3・5\n",
    "{\"name\": \"東京\",\n",
    " \"latitude\": 35.64,\n",
    " \"longitude\": 137.84}"
   ]
  },
  {
   "cell_type": "code",
   "execution_count": null,
   "id": "d3c9cefc-1087-452f-879f-76c99cf61957",
   "metadata": {},
   "outputs": [],
   "source": [
    "# 3・3・6\n",
    "tokyo = {\"name\": \"東京\",\n",
    "         \"latitude\": 35.64,\n",
    "         \"longitude\": 137.84}"
   ]
  },
  {
   "cell_type": "code",
   "execution_count": null,
   "id": "6d2883e1-4fa7-482b-90d5-2810e46e4b2a",
   "metadata": {},
   "outputs": [],
   "source": [
    "# 3・3・7\n",
    "osaka = {\"name\": \"大阪\",\n",
    "         \"latitude\": 34.68,\n",
    "         \"longitude\": 135.52}"
   ]
  },
  {
   "cell_type": "code",
   "execution_count": null,
   "id": "3c588797-014f-4323-b9c6-6458356d0edf",
   "metadata": {},
   "outputs": [],
   "source": [
    "# 3・3・8\n",
    "tokyo[\"latitude\"]  # 東京の緯度を取り出す"
   ]
  },
  {
   "cell_type": "code",
   "execution_count": null,
   "id": "6319ae56-5ecf-4cc8-9fb5-4d60d0864e7b",
   "metadata": {},
   "outputs": [],
   "source": [
    "# 3・3・9\n",
    "tokyo[\"latitude\"]-osaka[\"latitude\"]"
   ]
  },
  {
   "cell_type": "code",
   "execution_count": null,
   "id": "69bfe5a7-20f5-4115-9ae2-181226646802",
   "metadata": {},
   "outputs": [],
   "source": [
    "# 3・3・10\n",
    "tokyo[\"longitude\"] = 139.84"
   ]
  },
  {
   "cell_type": "code",
   "execution_count": null,
   "id": "c5e0d3e6-1ecc-4d38-a96b-1aed2c8d1dc0",
   "metadata": {},
   "outputs": [],
   "source": [
    "# 3・3・11 ： 存在しないキーを使って参照(エラーになる)\n",
    "tokyo[\"temperature\"]"
   ]
  },
  {
   "cell_type": "code",
   "execution_count": null,
   "id": "6a7e46f8-dace-4445-8e69-9d8ee9f6b10a",
   "metadata": {},
   "outputs": [],
   "source": [
    "# 3・3・12 ： 存在しないキーを使って代入\n",
    "tokyo[\"temperature\"] = 23"
   ]
  },
  {
   "cell_type": "code",
   "execution_count": null,
   "id": "7cf659f3-2a75-448d-b083-5368a2c5b33b",
   "metadata": {},
   "outputs": [],
   "source": [
    "# 3・3・13\n",
    "cities = {\"tokyo\": tokyo,\n",
    "          \"osaka\": osaka}"
   ]
  },
  {
   "cell_type": "code",
   "execution_count": null,
   "id": "d1edee60-1fb2-4a64-8dfd-7d1d90aa20ac",
   "metadata": {},
   "outputs": [],
   "source": [
    "# 3・3・14\n",
    "cities[\"nagoya\"] = {\"name\": \"名古屋\",\n",
    "                    \"latitude\": 35.17,\n",
    "                    \"longitude\": 136.88}"
   ]
  },
  {
   "cell_type": "code",
   "execution_count": null,
   "id": "1a826b89-9335-4026-b290-a22bf95369c6",
   "metadata": {},
   "outputs": [],
   "source": [
    "# 3・3・15\n",
    "cities[\"tokyo\"][\"name\"]"
   ]
  },
  {
   "cell_type": "code",
   "execution_count": null,
   "id": "a046e90d-a815-48e0-88ec-de5e5e12ab59",
   "metadata": {},
   "outputs": [],
   "source": [
    "# 3・3・16\n",
    "for key in cities:\n",
    "    print(key)"
   ]
  },
  {
   "cell_type": "code",
   "execution_count": null,
   "id": "5434eae0-c72c-4483-97c2-86764f7d2179",
   "metadata": {},
   "outputs": [],
   "source": [
    "# 3・3・17\n",
    "for key in cities:\n",
    "    name = cities[key][\"name\"]\n",
    "    print(name)"
   ]
  },
  {
   "cell_type": "code",
   "execution_count": null,
   "id": "63b86334-8c7e-4f4e-ae6e-ea33cca39fc6",
   "metadata": {},
   "outputs": [],
   "source": [
    "cities = [\n",
    " {\"name\": \"東京\",   \"lat\": 35.64, \"lon\": 139.84},\n",
    " {\"name\": \"大阪\",   \"lat\": 34.68, \"lon\": 135.52},\n",
    " {\"name\": \"名古屋\", \"lat\": 35.17, \"lon\": 136.88}]"
   ]
  }
 ],
 "metadata": {
  "kernelspec": {
   "display_name": "Python 3 (ipykernel)",
   "language": "python",
   "name": "python3"
  },
  "language_info": {
   "codemirror_mode": {
    "name": "ipython",
    "version": 3
   },
   "file_extension": ".py",
   "mimetype": "text/x-python",
   "name": "python",
   "nbconvert_exporter": "python",
   "pygments_lexer": "ipython3",
   "version": "3.12.4"
  }
 },
 "nbformat": 4,
 "nbformat_minor": 5
}
