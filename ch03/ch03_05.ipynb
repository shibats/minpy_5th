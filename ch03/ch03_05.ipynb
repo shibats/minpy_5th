{
 "cells": [
  {
   "cell_type": "markdown",
   "id": "d1a8820d-12c8-49be-a7a3-386d4f68dce0",
   "metadata": {},
   "source": [
    "# 03-05モジュールを使う"
   ]
  },
  {
   "cell_type": "markdown",
   "id": "baf1bcbb-b168-4f7d-bac9-30c42f7471e1",
   "metadata": {},
   "source": [
    "## 関数を読み込んで使う"
   ]
  },
  {
   "cell_type": "code",
   "execution_count": null,
   "id": "6f54e8aa-3ecc-4d50-b3c0-b6b62180828f",
   "metadata": {},
   "outputs": [],
   "source": [
    "# 3・5・1\n",
    "from random import random  # ライブラリから関数を読み込む\n",
    "random()   # 乱数を表示"
   ]
  },
  {
   "cell_type": "code",
   "execution_count": null,
   "id": "340bf79d-242a-4e80-b351-e744625793bc",
   "metadata": {},
   "outputs": [],
   "source": [
    "# 3・5・2\n",
    "from random import randint"
   ]
  },
  {
   "cell_type": "code",
   "execution_count": null,
   "id": "a9c10581-cbd0-40b3-803c-bf92b13c9d6a",
   "metadata": {},
   "outputs": [],
   "source": [
    "# 3・5・3 ： じゃんけんの手を決める\n",
    "hand = randint(0, 2)"
   ]
  },
  {
   "cell_type": "code",
   "execution_count": null,
   "id": "6794142e-8472-4c66-9752-f7abc2a4c128",
   "metadata": {},
   "outputs": [],
   "source": [
    "# 3・5・4\n",
    "hand_names = [\"グー\", \"チョキ\", \"パー\"]\n",
    "hand_names[hand]  # じゃんけんの手を表示"
   ]
  },
  {
   "cell_type": "markdown",
   "id": "abd84820-a8fd-4f12-8873-d52b2554a8df",
   "metadata": {},
   "source": [
    "## ライブラリのインポート方法"
   ]
  },
  {
   "cell_type": "code",
   "execution_count": null,
   "id": "1afad95d-6f55-4a86-8e22-83a3ee8214c4",
   "metadata": {},
   "outputs": [],
   "source": [
    "# 3・5・5\n",
    "from matplotlib import pyplot as plt"
   ]
  },
  {
   "cell_type": "code",
   "execution_count": null,
   "id": "6f258175-14c5-4383-8597-3e870467593b",
   "metadata": {},
   "outputs": [],
   "source": [
    "# 3・5・6\n",
    "import matplotlib.pyplot as plt\n",
    "\n",
    "# 1週間の気温\n",
    "temperatures = [15, 17, 16, 18, 19, 21, 20]\n",
    "# グラフを描画\n",
    "plt.plot(temperatures, marker=\"o\")  # 点を○で表示"
   ]
  },
  {
   "cell_type": "markdown",
   "id": "311565b4-a0a1-447a-96b2-de3a6a4eb610",
   "metadata": {},
   "source": [
    "## 標準ライブラリと外部ライブラリ"
   ]
  },
  {
   "cell_type": "code",
   "execution_count": null,
   "id": "6d7b60d5-e191-4062-aa69-d30d3df33429",
   "metadata": {},
   "outputs": [],
   "source": [
    "# 3・5・7\n",
    "from random import choice\n",
    "choice(hand_names)"
   ]
  },
  {
   "cell_type": "code",
   "execution_count": null,
   "id": "e7d3415e-36da-46a3-98c1-2e3e172e018b",
   "metadata": {},
   "outputs": [],
   "source": []
  }
 ],
 "metadata": {
  "kernelspec": {
   "display_name": "Python 3 (ipykernel)",
   "language": "python",
   "name": "python3"
  },
  "language_info": {
   "codemirror_mode": {
    "name": "ipython",
    "version": 3
   },
   "file_extension": ".py",
   "mimetype": "text/x-python",
   "name": "python",
   "nbconvert_exporter": "python",
   "pygments_lexer": "ipython3",
   "version": "3.12.4"
  }
 },
 "nbformat": 4,
 "nbformat_minor": 5
}
