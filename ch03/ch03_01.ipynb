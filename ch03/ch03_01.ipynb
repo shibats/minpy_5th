{
 "cells": [
  {
   "cell_type": "markdown",
   "id": "e6e42bb1-e0e2-40ad-abe4-4f1f47120fd2",
   "metadata": {},
   "source": [
    "# 03-01 リストを使う"
   ]
  },
  {
   "attachments": {},
   "cell_type": "markdown",
   "id": "51dfc196-8e67-4cf8-a8e5-236f37fd44bd",
   "metadata": {},
   "source": [
    "## 時間経過に連れて変わる数値"
   ]
  },
  {
   "cell_type": "code",
   "execution_count": null,
   "id": "0b9e06e7-49f8-4d44-8cab-c8175d840177",
   "metadata": {},
   "outputs": [],
   "source": [
    "# 3・1・1\n",
    "years = 3        # 運用年数\n",
    "interest = 1.15  # 金利\n",
    "principal = 522  # 元金\n",
    "income = principal*interest**years\n",
    "income"
   ]
  },
  {
   "cell_type": "code",
   "execution_count": null,
   "id": "c3232673-3f32-4cb6-9e00-b0f82632e90d",
   "metadata": {},
   "outputs": [],
   "source": [
    "# 3・1・2\n",
    "# 金利15%で522万円をyears年運用した結果を計算する関数\n",
    "def calculate_income(years):\n",
    "    interest = 1.15  # 金利\n",
    "    principal = 522  # 元金\n",
    "    income = principal*interest**years\n",
    "    return income"
   ]
  },
  {
   "cell_type": "code",
   "execution_count": null,
   "id": "d24864ee-114c-47b9-aef8-6dc0f326ff88",
   "metadata": {},
   "outputs": [],
   "source": [
    "# 3・1・3\n",
    "calculate_income(2)"
   ]
  },
  {
   "cell_type": "markdown",
   "id": "91f171a6-3c64-430a-8956-63191dc01c28",
   "metadata": {},
   "source": [
    "## リストの定義"
   ]
  },
  {
   "cell_type": "code",
   "execution_count": null,
   "id": "e5f833a4-c158-420c-8dd6-5fc2741336f3",
   "metadata": {},
   "outputs": [],
   "source": [
    "# 3・1・4 ： 複利収入のリスト\n",
    "income_list = [522, 548, 576, 604, 630]"
   ]
  },
  {
   "cell_type": "code",
   "execution_count": null,
   "id": "29c726ca-6600-4552-86d2-6d9411cba7bc",
   "metadata": {},
   "outputs": [],
   "source": [
    "# 3・1・5 ： リストの0番目の要素を取り出す\n",
    "income_list[0]"
   ]
  },
  {
   "cell_type": "code",
   "execution_count": null,
   "id": "7e860688-b1d6-46f6-919a-b74805f64296",
   "metadata": {},
   "outputs": [],
   "source": [
    "# 3・1・6 ： 4年で元金がいくら増えたか\n",
    "income_list[4]-income_list[0]"
   ]
  },
  {
   "cell_type": "code",
   "execution_count": null,
   "id": "58c96bd1-14a5-4586-a1e7-a421b178e084",
   "metadata": {},
   "outputs": [],
   "source": [
    "# 3・1・7 ： 5年後の金額を計算\n",
    "calculate_income(5)"
   ]
  },
  {
   "cell_type": "code",
   "execution_count": null,
   "id": "d647df60-7f40-4273-9031-5403cc5cd973",
   "metadata": {},
   "outputs": [],
   "source": [
    "# 3・1・8 ： リストに要素を追加\n",
    "income_list+[666]"
   ]
  },
  {
   "cell_type": "code",
   "execution_count": null,
   "id": "423a8e57-02b7-49f9-a474-755b9682db2c",
   "metadata": {},
   "outputs": [],
   "source": [
    "# 3・1・9\n",
    "income_list"
   ]
  },
  {
   "cell_type": "code",
   "execution_count": null,
   "id": "34c60660-9dcb-4878-ba92-3a85ae4c1d1d",
   "metadata": {},
   "outputs": [],
   "source": [
    "# 3・1・10 ： 連結したリストを代入で受け取る\n",
    "new_income_list = income_list+[666]\n",
    "new_income_list  # 連結した結果を表示"
   ]
  },
  {
   "cell_type": "code",
   "execution_count": null,
   "id": "e4fe41f2-4ab9-42c1-b82c-9095e5bae882",
   "metadata": {},
   "outputs": [],
   "source": [
    "# 3・1・11 ： 同じ変数で連結リストを受け取る\n",
    "income_list = income_list+[666]\n",
    "income_list  # 連結した結果を表示"
   ]
  },
  {
   "cell_type": "markdown",
   "id": "80595761-8b69-4a63-b075-46e81e6ce13c",
   "metadata": {},
   "source": [
    "### 代入による要素の置き換え"
   ]
  },
  {
   "cell_type": "code",
   "execution_count": null,
   "id": "386078a1-67f9-4b03-ba23-b06dd3d7e77b",
   "metadata": {},
   "outputs": [],
   "source": [
    "# 3・1・12\n",
    "income_list[4]"
   ]
  },
  {
   "cell_type": "code",
   "execution_count": null,
   "id": "e83bde36-32a4-4754-bd0b-4f1a4c584a4b",
   "metadata": {},
   "outputs": [],
   "source": [
    "# 3・1・13\n",
    "calculate_income(4)"
   ]
  },
  {
   "cell_type": "code",
   "execution_count": null,
   "id": "a3e514dc-d489-4f7a-ba7a-3b9a9d87e282",
   "metadata": {},
   "outputs": [],
   "source": [
    "# 3・1・14 ： 代入による要素の置き換え\n",
    "income_list[4] = 634\n",
    "income_list[4]  # 結果を確認"
   ]
  },
  {
   "cell_type": "markdown",
   "id": "1995f930-70fe-470a-b243-e34b4bc62e30",
   "metadata": {},
   "source": [
    "### リストと関数"
   ]
  },
  {
   "cell_type": "code",
   "execution_count": null,
   "id": "f400231c-48aa-493b-8bff-a706a35ebdd0",
   "metadata": {},
   "outputs": [],
   "source": [
    "# 3・1・15 ： さらにリストを連結\n",
    "list_to_add = [700, 735, 771, 812, 850, 893, 937, 984]\n",
    "income_list = income_list+list_to_add"
   ]
  },
  {
   "cell_type": "code",
   "execution_count": null,
   "id": "0968bcbc-5c51-4416-a3ad-a2f7531b843d",
   "metadata": {},
   "outputs": [],
   "source": [
    "# 3・1・16 ： len()でリストの要素を調べる\n",
    "len(income_list)"
   ]
  },
  {
   "cell_type": "code",
   "execution_count": null,
   "id": "7e64b957-9dd4-4a45-b933-5b1151b7ee17",
   "metadata": {},
   "outputs": [],
   "source": [
    "# 3・1・17 ： リストをグラフに表示する\n",
    "from matplotlib import pyplot as plt\n",
    "plt.plot(income_list)"
   ]
  },
  {
   "cell_type": "code",
   "execution_count": null,
   "id": "07319511-3296-43ab-ac43-d05fc4c4eca1",
   "metadata": {},
   "outputs": [],
   "source": [
    "# 3・1・18\n",
    "income_list[14]-income_list[0]"
   ]
  },
  {
   "cell_type": "code",
   "execution_count": null,
   "id": "04d81536-f2db-4044-b5b5-4b3cc621bb1a",
   "metadata": {},
   "outputs": [],
   "source": [
    "# 3・1・19\n",
    "income_list[13]-income_list[0]"
   ]
  },
  {
   "cell_type": "code",
   "execution_count": null,
   "id": "d23ef761-e74d-4533-89e3-8b663b9f9f43",
   "metadata": {},
   "outputs": [],
   "source": [
    "# 2・7・19 ： オマケ -1で最後の要素を指定できる\n",
    "income_list[-1]-income_list[0]"
   ]
  },
  {
   "cell_type": "code",
   "execution_count": null,
   "id": "4b5e7270-5fa2-4914-b6ef-9972522e9f31",
   "metadata": {},
   "outputs": [],
   "source": []
  },
  {
   "cell_type": "code",
   "execution_count": null,
   "id": "e3d1e944-ee11-46f0-83df-a8953cd6d394",
   "metadata": {},
   "outputs": [],
   "source": []
  }
 ],
 "metadata": {
  "kernelspec": {
   "display_name": "Python 3 (ipykernel)",
   "language": "python",
   "name": "python3"
  },
  "language_info": {
   "codemirror_mode": {
    "name": "ipython",
    "version": 3
   },
   "file_extension": ".py",
   "mimetype": "text/x-python",
   "name": "python",
   "nbconvert_exporter": "python",
   "pygments_lexer": "ipython3",
   "version": "3.12.4"
  }
 },
 "nbformat": 4,
 "nbformat_minor": 5
}
