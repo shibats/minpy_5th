{
 "cells": [
  {
   "cell_type": "markdown",
   "id": "fe8bb796-ae26-4cce-bbd6-478ac9328d76",
   "metadata": {},
   "source": [
    "# 02-08 for文でループを使う"
   ]
  },
  {
   "attachments": {},
   "cell_type": "markdown",
   "id": "9d4c1af6-41f6-4efe-8416-e7647c4f9bc3",
   "metadata": {},
   "source": [
    "## リストの要素すべてに同じ計算を実行する"
   ]
  },
  {
   "cell_type": "code",
   "execution_count": null,
   "id": "de2ea2db-780d-406c-9c0e-e983ae5e8fef",
   "metadata": {},
   "outputs": [],
   "source": [
    "# 3・2・1\n",
    "stock_prices = [484, 478, 456, 462, 465, 466, 480,\n",
    "                499, 508, 511, 507, 503, 504, 506]"
   ]
  },
  {
   "cell_type": "code",
   "execution_count": null,
   "id": "95feee69-6dbf-41a4-8ac1-c59a9934da7e",
   "metadata": {},
   "outputs": [],
   "source": [
    "# 3・2・2\n",
    "from matplotlib import pyplot as plt\n",
    "plt.plot(stock_prices)"
   ]
  },
  {
   "cell_type": "markdown",
   "id": "c43fc6c7-cc5e-4670-8431-f52b11535324",
   "metadata": {},
   "source": [
    "## くり返し変数とループブロック"
   ]
  },
  {
   "cell_type": "code",
   "execution_count": null,
   "id": "f8162f34-ce46-4ea1-9d13-4cba8f60bb08",
   "metadata": {},
   "outputs": [],
   "source": [
    "# 3・2・2 : for文を使ってリストの要素を表示する\n",
    "for price in stock_prices:\n",
    "    input(\"リターンを押してください\")\n",
    "    print(price)"
   ]
  },
  {
   "cell_type": "code",
   "execution_count": null,
   "id": "e43565c2-47a8-4be8-8a71-d9092fa576da",
   "metadata": {},
   "outputs": [],
   "source": [
    "# 3・2・3 ： 合計を計算する\n",
    "total = 0  # 合計を足す変数\n",
    "for price in stock_prices:\n",
    "    total = total + price\n",
    "    input(\"リターンを押してください\")\n",
    "total  # 合計を確認"
   ]
  },
  {
   "cell_type": "code",
   "execution_count": null,
   "id": "00b3fda5-71a9-46ef-9c9e-2d6e734cbca5",
   "metadata": {},
   "outputs": [],
   "source": [
    "# 3・2・3 ： 平均を計算する\n",
    "total/14"
   ]
  },
  {
   "cell_type": "code",
   "execution_count": null,
   "id": "131c10c8-714a-4f4a-bec0-59b1e60921bc",
   "metadata": {},
   "outputs": [],
   "source": [
    "# 3・2・4 ： 最大値を調べる\n",
    "max_price = 0  # 最大値を保存するための変数を初期化\n",
    "for price in stock_prices:\n",
    "    if max_price < price:\n",
    "        max_price = price\n",
    "    input(\"リターンを押してください\")\n",
    "max_price   # 最大値を確認"
   ]
  },
  {
   "cell_type": "code",
   "execution_count": null,
   "id": "d41a9c33-0479-4dde-ac14-9505400b0562",
   "metadata": {},
   "outputs": [],
   "source": [
    "# 3・2・5 ： 最小値を調べる\n",
    "min_price = 1000  # 最小値を保存するための変数を初期化\n",
    "for price in stock_prices:\n",
    "    if min_price > price:\n",
    "        min_price = price\n",
    "min_price   # 最小値を確認"
   ]
  },
  {
   "cell_type": "markdown",
   "id": "0b4cef2f-8145-4808-98b0-dacaa890ebc6",
   "metadata": {},
   "source": [
    "### インデックスを使ったループ"
   ]
  },
  {
   "cell_type": "code",
   "execution_count": null,
   "id": "bfb6a5a1-d6ef-4379-a6de-c27617f61c39",
   "metadata": {},
   "outputs": [],
   "source": [
    "# 3・2・5 ： 最大値のインデックスを調べる\n",
    "idx = 0     # インデックスを数える変数を初期化\n",
    "max_idx = 0 # 最大値を保存する変数を初期化\n",
    "\n",
    "for price in stock_prices:\n",
    "    if price == max_price:\n",
    "        # 最大値が見つかった\n",
    "        max_idx = idx\n",
    "    idx = idx+1   # インデックスに1を足す\n",
    "    input(\"リターンを押してください\")\n",
    "\n",
    "max_idx  # 最大値のインデックスを確認"
   ]
  },
  {
   "cell_type": "code",
   "execution_count": null,
   "id": "fac2a522-2115-47d5-8ae8-7e5badbebc16",
   "metadata": {},
   "outputs": [],
   "source": [
    "# 3・2・6 : range()関数を使う\n",
    "for idx in range(5):\n",
    "    print(idx)"
   ]
  },
  {
   "cell_type": "code",
   "execution_count": null,
   "id": "1387f336-0692-4584-b361-bac8042f8a9c",
   "metadata": {},
   "outputs": [],
   "source": [
    "# 3・2・7 ： 最大値のインデックスを調べる(2)\n",
    "max_idx = 0 # 最大値を保存する変数を初期化\n",
    "\n",
    "for idx in range(14):\n",
    "    if stock_prices[idx] == min_price:\n",
    "        # 最大値が見つかった\n",
    "        max_idx = idx\n",
    "\n",
    "max_idx  # 最大値のインデックスを確認"
   ]
  },
  {
   "cell_type": "markdown",
   "id": "fb0ea41f-2741-48f1-b943-a81f8c699d5e",
   "metadata": {},
   "source": [
    "### range()に二つの引数を渡す"
   ]
  },
  {
   "cell_type": "code",
   "execution_count": null,
   "id": "ca525e4f-e628-46b2-a991-7344ce618e0c",
   "metadata": {},
   "outputs": [],
   "source": [
    "# 3・2・8 ： 直前の値と比べる\n",
    "stock_prices[4]-stock_prices[3]"
   ]
  },
  {
   "cell_type": "code",
   "execution_count": null,
   "id": "772f21e2-7d30-4674-aac3-bb16936be41a",
   "metadata": {},
   "outputs": [],
   "source": [
    "# 3・2・9 ： 直前との差を計算する\n",
    "for idx in range(1, 14):\n",
    "    diff = stock_prices[idx]-stock_prices[idx-1]\n",
    "    print(diff)"
   ]
  },
  {
   "cell_type": "code",
   "execution_count": null,
   "id": "e5736673-1394-47ad-8002-cf577b2dab04",
   "metadata": {},
   "outputs": [],
   "source": [
    "# 3・2・10 ： 増え方のリストに入れる\n",
    "diff_list = []  # 増え方のリストを初期化\n",
    "for idx in range(1, 14):\n",
    "    diff = stock_prices[idx]-stock_prices[idx-1]\n",
    "    diff_list = diff_list + [diff]\n",
    "diff_list"
   ]
  },
  {
   "cell_type": "code",
   "execution_count": null,
   "id": "9172cde8-54aa-461c-89b4-cf373dc6774c",
   "metadata": {},
   "outputs": [],
   "source": [
    "# 3・2・11 : リストをグラフにする\n",
    "from matplotlib import pyplot as plt\n",
    "plt.bar(range(13), diff_list)"
   ]
  },
  {
   "cell_type": "code",
   "execution_count": null,
   "id": "0a981514-cc20-4735-9263-c82f5802959e",
   "metadata": {},
   "outputs": [],
   "source": []
  }
 ],
 "metadata": {
  "kernelspec": {
   "display_name": "Python 3 (ipykernel)",
   "language": "python",
   "name": "python3"
  },
  "language_info": {
   "codemirror_mode": {
    "name": "ipython",
    "version": 3
   },
   "file_extension": ".py",
   "mimetype": "text/x-python",
   "name": "python",
   "nbconvert_exporter": "python",
   "pygments_lexer": "ipython3",
   "version": "3.12.4"
  }
 },
 "nbformat": 4,
 "nbformat_minor": 5
}
