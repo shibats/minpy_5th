{
 "cells": [
  {
   "cell_type": "markdown",
   "id": "0c8d380f-b3d2-44e1-b617-a8f88eba17b4",
   "metadata": {},
   "source": [
    "# with文とコンテとストマネージャ\n",
    "## try文のfinally句"
   ]
  },
  {
   "cell_type": "code",
   "execution_count": null,
   "id": "3de45d7f-e841-4169-ad47-f135a13e3d2b",
   "metadata": {},
   "outputs": [],
   "source": [
    "# 11・2・1\n",
    "fobj = open(\"test.txt\", \"w\")\n",
    "fobj.write(\"文字列を書き出します。\")\n",
    "fobj.close()"
   ]
  },
  {
   "cell_type": "code",
   "execution_count": null,
   "id": "dda6c6d0-6e93-45e0-a50b-3b2d04b568ab",
   "metadata": {},
   "outputs": [],
   "source": [
    "# 11・2・2\n",
    "fobj = open(\"test.txt\", \"w\")\n",
    "try:\n",
    "    fobj.write(\"文字列を書き出します。\")\n",
    "finally:\n",
    "    fobj.close()"
   ]
  },
  {
   "cell_type": "markdown",
   "id": "7324a56a-5e4a-44b4-b2f4-8a1951a1e796",
   "metadata": {},
   "source": [
    "## with文を使う"
   ]
  },
  {
   "cell_type": "code",
   "execution_count": null,
   "id": "b6e8d057-4b3d-4a85-b039-b6d82b6a9b99",
   "metadata": {},
   "outputs": [],
   "source": [
    "# 11・2・3\n",
    "with open(\"test.txt\", \"w\") as fobj:\n",
    "    fobj.write(\"文字列を書き出します。\")"
   ]
  },
  {
   "cell_type": "code",
   "execution_count": null,
   "id": "e2adad07-ce74-46e0-9402-c34b01934a7e",
   "metadata": {},
   "outputs": [],
   "source": []
  }
 ],
 "metadata": {
  "kernelspec": {
   "display_name": "Python 3 (ipykernel)",
   "language": "python",
   "name": "python3"
  },
  "language_info": {
   "codemirror_mode": {
    "name": "ipython",
    "version": 3
   },
   "file_extension": ".py",
   "mimetype": "text/x-python",
   "name": "python",
   "nbconvert_exporter": "python",
   "pygments_lexer": "ipython3",
   "version": "3.12.4"
  }
 },
 "nbformat": 4,
 "nbformat_minor": 5
}
