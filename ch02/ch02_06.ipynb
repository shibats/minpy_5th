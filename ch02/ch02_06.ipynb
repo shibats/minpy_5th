{
 "cells": [
  {
   "cell_type": "markdown",
   "id": "2c79ba46-0958-457f-a814-239535236c22",
   "metadata": {},
   "source": [
    "# 02-06 if文で条件分岐をする"
   ]
  },
  {
   "attachments": {},
   "cell_type": "markdown",
   "id": "c8336088-ed4e-4f8f-8aac-544e927c7b1b",
   "metadata": {},
   "source": [
    "## 「条件」をプログラムにする"
   ]
  },
  {
   "cell_type": "code",
   "execution_count": null,
   "id": "0dd79262-dcb8-4f24-aecd-d7319e1aedee",
   "metadata": {},
   "outputs": [],
   "source": [
    "# 2・6・1 ： 平成何年かを計算する\n",
    "year = 2006\n",
    "wareki_year = year - 1988\n",
    "print(wareki_year)"
   ]
  },
  {
   "cell_type": "code",
   "execution_count": null,
   "id": "70231d5a-6439-4bae-bba7-559e501e9858",
   "metadata": {},
   "outputs": [],
   "source": [
    "# 2・6・2 ： if文を使って平成と令和の年号を計算する\n",
    "year = 2020\n",
    "wareki_year = year - 1988\n",
    "if year > 2018:  # yearが2018より大きかったら\n",
    "    wareki_year = year - 2018\n",
    "print(wareki_year)"
   ]
  },
  {
   "cell_type": "code",
   "execution_count": null,
   "id": "07bbd797-23a3-4770-9fdb-fa53f1e1dbf3",
   "metadata": {},
   "outputs": [],
   "source": [
    "# 2・6・3 ： プログラムの実行を止めながら確認する\n",
    "year = 2020\n",
    "wareki_year = year - 1988\n",
    "input(\"エンターを押してください\")  # プログラムの実行を止める\n",
    "if year > 2018:  # yearが2018より大きかったら\n",
    "    input(\"ifの中(1)\")\n",
    "    wareki_year = year - 2018\n",
    "    input(\"ifの中(2)\")\n",
    "print(wareki_year)"
   ]
  },
  {
   "cell_type": "code",
   "execution_count": null,
   "id": "bf3770ff-507a-402e-9eb7-f49fbe2a97c3",
   "metadata": {},
   "outputs": [],
   "source": [
    "# 2・6・4 ： 和暦(昭和，平成，令和)\n",
    "year = 2020\n",
    "era_name = \"昭和\"\n",
    "wareki_year = year - 1925\n",
    "if year > 1989:\n",
    "    era_name = \"平成\"\n",
    "    wareki_year = year - 1988\n",
    "if year > 2019:\n",
    "    era_name = \"令和\"\n",
    "    wareki_year = year - 2018\n",
    "wareki = era_name+f\"{wareki_year}年\"\n",
    "print(wareki)"
   ]
  },
  {
   "cell_type": "code",
   "execution_count": null,
   "id": "6f8544f6-47e8-4b01-9fdc-36e5f2c8bd67",
   "metadata": {},
   "outputs": [],
   "source": [
    "# 2・6・5 ： 和暦(分割版1)\n",
    "year = 2020\n",
    "era_name = \"昭和\"\n",
    "wareki_year = year - 1925\n",
    "wareki = era_name+f\"{wareki_year}年\""
   ]
  },
  {
   "cell_type": "code",
   "execution_count": null,
   "id": "1f7e94e3-ed40-4a5d-a672-d2083bf8d3ed",
   "metadata": {},
   "outputs": [],
   "source": [
    "# 2・6・6 ： 和暦(分割版2)\n",
    "if year > 1989:\n",
    "    era_name = \"平成\"\n",
    "    wareki_year = year - 1988"
   ]
  },
  {
   "cell_type": "code",
   "execution_count": null,
   "id": "803e8365-a372-4f4d-9f59-da6a50155368",
   "metadata": {},
   "outputs": [],
   "source": [
    "# 2・6・7 ： 和暦(分割版3)\n",
    "if year > 2019:\n",
    "    era_name = \"令和\"\n",
    "    wareki_year = year - 2018"
   ]
  },
  {
   "cell_type": "code",
   "execution_count": null,
   "id": "8fa5c6e5-05f4-418d-97e3-7d2028057e69",
   "metadata": {},
   "outputs": [],
   "source": [
    "# 2・6・8 ： 和暦その2\n",
    "year = 2020\n",
    "era_name = \"昭和\"\n",
    "wareki_year = year - 1925\n",
    "if year < 2019:\n",
    "    era_name = \"平成\"\n",
    "    wareki_year = year - 1988\n",
    "else:\n",
    "    era_name = \"令和\"\n",
    "    wareki_year = year-2018\n",
    "wareki = f\"{era_name}{wareki_year}年\"\n",
    "print(wareki)"
   ]
  },
  {
   "cell_type": "code",
   "execution_count": null,
   "id": "d05d31ad-fd09-489c-8aed-8e427c8d8a9e",
   "metadata": {},
   "outputs": [],
   "source": [
    "# 2・6・9 ： 和暦その3\n",
    "year = 1989\n",
    "era_name = \"昭和\"\n",
    "wareki_year = year - 1925\n",
    "if 1989 <= year < 2019:\n",
    "    era_name = \"平成\"\n",
    "    wareki_year = year - 1988\n",
    "elif 2019 <= year:\n",
    "    era_name = \"令和\"\n",
    "    wareki_year = year - 2018\n",
    "wareki = f\"{era_name}{wareki_year}年\"\n",
    "print(wareki)"
   ]
  },
  {
   "cell_type": "code",
   "execution_count": null,
   "id": "cb363feb-b47e-4937-aaa3-3905a6040098",
   "metadata": {},
   "outputs": [],
   "source": []
  }
 ],
 "metadata": {
  "kernelspec": {
   "display_name": "Python 3 (ipykernel)",
   "language": "python",
   "name": "python3"
  },
  "language_info": {
   "codemirror_mode": {
    "name": "ipython",
    "version": 3
   },
   "file_extension": ".py",
   "mimetype": "text/x-python",
   "name": "python",
   "nbconvert_exporter": "python",
   "pygments_lexer": "ipython3",
   "version": "3.12.4"
  }
 },
 "nbformat": 4,
 "nbformat_minor": 5
}
