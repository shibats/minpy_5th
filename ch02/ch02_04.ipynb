{
 "cells": [
  {
   "cell_type": "markdown",
   "id": "5380349f-58dd-4b6a-b796-c8a90850fcee",
   "metadata": {},
   "source": [
    "# 02-04 関数を使う"
   ]
  },
  {
   "cell_type": "markdown",
   "id": "2c54be9b-16a7-4f95-b525-09fb1252d8c8",
   "metadata": {},
   "source": [
    "## 変数の種類"
   ]
  },
  {
   "cell_type": "code",
   "execution_count": null,
   "id": "51c0982f-e2a4-4d1e-ac95-fd888f121454",
   "metadata": {},
   "outputs": [],
   "source": [
    "# 2・4・1\n",
    "radius = 10  # 円の半径\n",
    "pi = 3.14    # 円周率\n",
    "area = radius ** 2 * pi  # 円の面積を計算\n",
    "area  # 結果を表示"
   ]
  },
  {
   "cell_type": "markdown",
   "id": "cf2c61dc-0324-43a2-adad-fe93339e5b87",
   "metadata": {},
   "source": [
    "## 関数を定義する"
   ]
  },
  {
   "cell_type": "code",
   "execution_count": null,
   "id": "60996ca5-d467-4bce-89dd-f5cfa9aed520",
   "metadata": {},
   "outputs": [],
   "source": [
    "# 2・4・2 ： 円の面積を計算する関数\n",
    "def calculate_circle_area(radius):\n",
    "    pi = 3.14    # 円周率\n",
    "    area = radius ** 2 * pi  # 円の面積を計算\n",
    "    return area"
   ]
  },
  {
   "cell_type": "code",
   "execution_count": null,
   "id": "111d9fde-de8c-4083-a5d5-2d177bc11eae",
   "metadata": {},
   "outputs": [],
   "source": [
    "# 2・4・3 ： 円の面積を計算する\n",
    "calculate_circle_area(10)"
   ]
  },
  {
   "cell_type": "code",
   "execution_count": null,
   "id": "f204e194-0ec6-455e-8481-b1a47848982b",
   "metadata": {},
   "outputs": [],
   "source": [
    "# 2・4・4 ： 円の面積を計算する(2)\n",
    "calculate_circle_area(100)"
   ]
  },
  {
   "cell_type": "code",
   "execution_count": null,
   "id": "c7c284d1-28f4-4751-aa83-d0e79351991a",
   "metadata": {},
   "outputs": [],
   "source": [
    "# 2・4・5 ： 長方形の面積を計算する関数\n",
    "def calc_rectangle_area(height, width):\n",
    "    area = height * width\n",
    "    return area"
   ]
  },
  {
   "cell_type": "code",
   "execution_count": null,
   "id": "2201c061-833c-4f52-9af9-5f3233d483e5",
   "metadata": {},
   "outputs": [],
   "source": [
    "# 2・4・6 ： 長方形の面積を計算する\n",
    "calc_rectangle_area(3, 6)"
   ]
  },
  {
   "cell_type": "markdown",
   "id": "68d7c359-4431-4958-a36e-7244266e5543",
   "metadata": {},
   "source": [
    "## 組み込み関数を使う"
   ]
  },
  {
   "cell_type": "code",
   "execution_count": null,
   "id": "7f0fc23f-8677-466c-8a3c-92aa76b505d0",
   "metadata": {},
   "outputs": [],
   "source": [
    "# 2・4・7\n",
    "pow(2, 10)"
   ]
  },
  {
   "cell_type": "code",
   "execution_count": null,
   "id": "457234bd-2e68-48b4-9946-12c3dc887ee6",
   "metadata": {},
   "outputs": [],
   "source": [
    "# 2・4・8\n",
    "max(1, 100)"
   ]
  },
  {
   "cell_type": "code",
   "execution_count": null,
   "id": "7569b77a-3c42-4a7b-a83a-b504ec817861",
   "metadata": {},
   "outputs": [],
   "source": []
  }
 ],
 "metadata": {
  "kernelspec": {
   "display_name": "Python 3 (ipykernel)",
   "language": "python",
   "name": "python3"
  },
  "language_info": {
   "codemirror_mode": {
    "name": "ipython",
    "version": 3
   },
   "file_extension": ".py",
   "mimetype": "text/x-python",
   "name": "python",
   "nbconvert_exporter": "python",
   "pygments_lexer": "ipython3",
   "version": "3.12.4"
  }
 },
 "nbformat": 4,
 "nbformat_minor": 5
}
