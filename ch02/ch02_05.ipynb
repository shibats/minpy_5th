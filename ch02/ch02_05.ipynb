{
 "cells": [
  {
   "cell_type": "markdown",
   "id": "0b854a1d-c144-422d-8733-e5c4eeadf931",
   "metadata": {},
   "source": [
    "# 02-05 文字列を使う"
   ]
  },
  {
   "cell_type": "markdown",
   "id": "5e8716f8-b96d-4815-a3dd-bebd6041e1a2",
   "metadata": {},
   "source": [
    "## データとしての文字列"
   ]
  },
  {
   "cell_type": "code",
   "execution_count": null,
   "id": "aa25532d-b0a2-435e-9e20-86aa4bf723e9",
   "metadata": {},
   "outputs": [],
   "source": [
    "# 2・5・1\n",
    "print(10)"
   ]
  },
  {
   "cell_type": "code",
   "execution_count": null,
   "id": "2e462ed2-9ba3-4b95-8a70-9b748e61c2ce",
   "metadata": {},
   "outputs": [],
   "source": [
    "# 2・5・2 ： 文字列を表示する\n",
    "print(\"みんなのPython\")"
   ]
  },
  {
   "cell_type": "code",
   "execution_count": null,
   "id": "9519f6e1-0822-40a0-8ed7-45f375255150",
   "metadata": {},
   "outputs": [],
   "source": [
    "# 2・5・3 ： 文字列を変数に代入する\n",
    "book_title = \"みんなのPython\"\n",
    "print(book_title)"
   ]
  },
  {
   "cell_type": "code",
   "execution_count": null,
   "id": "f3212c9e-2e3d-41a9-9ef9-d90af492294b",
   "metadata": {},
   "outputs": [],
   "source": [
    "# 2・5・4 ： print()に複数の引数を与える\n",
    "temperature = 23\n",
    "print(\"ただいまの気温(℃):\", temperature)"
   ]
  },
  {
   "cell_type": "code",
   "execution_count": null,
   "id": "87c9ed19-7b40-45b2-b719-c2a749c30e88",
   "metadata": {},
   "outputs": [],
   "source": [
    "# 2・5・5 : 文字列の足し算\n",
    "era_name = \"令和\"   # 元号名\n",
    "year_name = \"6年\"  # 何年か\n",
    "wareki = era_name+year_name\n",
    "print(wareki)"
   ]
  },
  {
   "cell_type": "code",
   "execution_count": null,
   "id": "a232626f-3c14-4198-a6d0-f799a59033ab",
   "metadata": {},
   "outputs": [],
   "source": [
    "# 2・5・6 : 文字列の掛け算\n",
    "delimiter = \"-\"*20  # 区切り文字列\n",
    "print(delimiter)"
   ]
  },
  {
   "cell_type": "code",
   "execution_count": null,
   "id": "a7aca824-83e5-4301-b74c-489f89e36735",
   "metadata": {},
   "outputs": [],
   "source": [
    "# 2・5・7\n",
    "year = 2025   # 西暦\n",
    "wareki_year = year-2018\n",
    "wareki_year   # 結果を確認"
   ]
  },
  {
   "cell_type": "code",
   "execution_count": null,
   "id": "2f66811e-880c-462e-ac79-28324890a44d",
   "metadata": {},
   "outputs": [],
   "source": [
    "# 2・5・8\n",
    "wareki = era_name+wareki_year+\"年\""
   ]
  },
  {
   "cell_type": "code",
   "execution_count": null,
   "id": "5fcb12f7-020a-4cb5-bdde-a3acee1b06f8",
   "metadata": {},
   "outputs": [],
   "source": [
    "# 2・5・9 ： 関数で数値を文字列に変換\n",
    "wareki_str = str(wareki_year)"
   ]
  },
  {
   "cell_type": "code",
   "execution_count": null,
   "id": "32c6c41c-4818-490d-9a91-e3174486e969",
   "metadata": {},
   "outputs": [],
   "source": [
    "# 2・5・10\n",
    "wareki = era_name+wareki_str+\"年\"\n",
    "print(wareki)"
   ]
  },
  {
   "cell_type": "code",
   "execution_count": null,
   "id": "eb4f1a8a-3c97-4757-a78b-5b9b1c9f5504",
   "metadata": {},
   "outputs": [],
   "source": [
    "# 2・5・11 ： f文字列を使う\n",
    "wareki = f\"令和{wareki_year}年\"\n",
    "print(wareki)"
   ]
  },
  {
   "cell_type": "code",
   "execution_count": null,
   "id": "029ec6e3-4ff1-4712-878a-9f3fcddd91cb",
   "metadata": {},
   "outputs": [],
   "source": [
    "# 2・5・12\n",
    "year = 2025        # 西暦\n",
    "wareki_year = year-2018\n",
    "wareki = f\"令和{wareki_year}年\"\n",
    "print(wareki)"
   ]
  },
  {
   "cell_type": "code",
   "execution_count": null,
   "id": "a8317251-5e97-43f0-a4bc-0e2929bf3f94",
   "metadata": {},
   "outputs": [],
   "source": [
    "# 2・5・13\n",
    "year_str = input(\"西暦を入力してください\")"
   ]
  },
  {
   "cell_type": "code",
   "execution_count": null,
   "id": "6b88f263-c253-4cc3-a82d-2e19047c7023",
   "metadata": {},
   "outputs": [],
   "source": [
    "# 2・5・14\n",
    "year = int(year_str)"
   ]
  },
  {
   "cell_type": "code",
   "execution_count": null,
   "id": "2c858923-334d-4991-845b-8055a5de7d4e",
   "metadata": {},
   "outputs": [],
   "source": [
    "# 2・5・15\n",
    "year_str = input(\"西暦を入力してください\")\n",
    "year = int(year_str)\n",
    "wareki_year = year-2018\n",
    "wareki = f\"令和{wareki_year}年\"\n",
    "print(wareki)"
   ]
  },
  {
   "cell_type": "code",
   "execution_count": null,
   "id": "6a113236-fffb-4fca-9c23-b9c8aee5e17e",
   "metadata": {},
   "outputs": [],
   "source": []
  }
 ],
 "metadata": {
  "kernelspec": {
   "display_name": "Python 3 (ipykernel)",
   "language": "python",
   "name": "python3"
  },
  "language_info": {
   "codemirror_mode": {
    "name": "ipython",
    "version": 3
   },
   "file_extension": ".py",
   "mimetype": "text/x-python",
   "name": "python",
   "nbconvert_exporter": "python",
   "pygments_lexer": "ipython3",
   "version": "3.12.4"
  }
 },
 "nbformat": 4,
 "nbformat_minor": 5
}
