{
 "cells": [
  {
   "cell_type": "markdown",
   "id": "e210b70e-fe90-4cbf-a4e8-199610a5047d",
   "metadata": {},
   "source": [
    "# 02-02 数値と計算"
   ]
  },
  {
   "cell_type": "markdown",
   "id": "6d367af1-ce08-4598-814b-77333405e7a1",
   "metadata": {},
   "source": [
    "## 数値を使ってみよう"
   ]
  },
  {
   "cell_type": "code",
   "execution_count": null,
   "id": "615546d7-0f92-41ee-adae-e5cb1bac1286",
   "metadata": {},
   "outputs": [],
   "source": [
    "36"
   ]
  },
  {
   "cell_type": "code",
   "execution_count": null,
   "id": "98fb01e0-9f45-4713-a1d3-ff3514f57f8a",
   "metadata": {},
   "outputs": [],
   "source": [
    "# 2・2・2 意味のある数値(月数)\n",
    "36"
   ]
  },
  {
   "cell_type": "markdown",
   "id": "14e7218c-acd3-4e43-9a96-b0e4a1ca21b8",
   "metadata": {},
   "source": [
    "## 計算をしよう"
   ]
  },
  {
   "cell_type": "code",
   "execution_count": null,
   "id": "6129c9ce-40c0-40ef-b560-ad9ad9dda82c",
   "metadata": {},
   "outputs": [],
   "source": [
    "# 2・2・3 月数×家賃(万円)\n",
    "36 * 14.5"
   ]
  },
  {
   "cell_type": "code",
   "execution_count": null,
   "id": "2ebcd001-bae2-4e6e-a33a-94d37dd75cce",
   "metadata": {},
   "outputs": [],
   "source": [
    "# 2・2・4 522万円を年利5%で3年運用\n",
    "522.0 * 1.05 ** 3"
   ]
  },
  {
   "cell_type": "code",
   "execution_count": null,
   "id": "c1f33ba4-e507-4520-9bda-6a6406885623",
   "metadata": {},
   "outputs": [],
   "source": [
    "# 2・2・5 くだものの個数(1)\n",
    "3 + 5 * 4"
   ]
  },
  {
   "cell_type": "markdown",
   "id": "e6072496-625b-49be-a9a8-f218408278b6",
   "metadata": {},
   "source": [
    "## 計算の優先順位"
   ]
  },
  {
   "cell_type": "code",
   "execution_count": null,
   "id": "82bb769d-a1f6-421d-8be2-85dc479cc955",
   "metadata": {},
   "outputs": [],
   "source": [
    "# 2・2・6 くだものの個数(2)\n",
    "(3 + 5) * 4"
   ]
  },
  {
   "cell_type": "code",
   "execution_count": null,
   "id": "fc0ea75f-fc35-4d6c-a15f-c0d641f8148d",
   "metadata": {},
   "outputs": [],
   "source": []
  }
 ],
 "metadata": {
  "kernelspec": {
   "display_name": "Python 3 (ipykernel)",
   "language": "python",
   "name": "python3"
  },
  "language_info": {
   "codemirror_mode": {
    "name": "ipython",
    "version": 3
   },
   "file_extension": ".py",
   "mimetype": "text/x-python",
   "name": "python",
   "nbconvert_exporter": "python",
   "pygments_lexer": "ipython3",
   "version": "3.12.4"
  }
 },
 "nbformat": 4,
 "nbformat_minor": 5
}
