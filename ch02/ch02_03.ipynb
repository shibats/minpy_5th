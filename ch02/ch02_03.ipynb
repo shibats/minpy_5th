{
 "cells": [
  {
   "cell_type": "markdown",
   "id": "d6d61106-c203-4f6d-822c-bd1e28a91100",
   "metadata": {},
   "source": [
    "# 02-03 変数を使う"
   ]
  },
  {
   "attachments": {},
   "cell_type": "markdown",
   "id": "89ec8996-9b12-4856-a905-66819f72a599",
   "metadata": {},
   "source": [
    "## 変数への代入"
   ]
  },
  {
   "cell_type": "code",
   "execution_count": null,
   "id": "0b0e86f2-f3b5-4dbf-b6c2-e636e23c82ab",
   "metadata": {},
   "outputs": [],
   "source": [
    "# 2・3・1 : 高さを変数で表現する\n",
    "height = 3"
   ]
  },
  {
   "attachments": {},
   "cell_type": "markdown",
   "id": "b5c2c0ce-ef64-4b55-9720-c1515aa4bd1b",
   "metadata": {},
   "source": [
    "## インスペクタで変数の中身を表示する"
   ]
  },
  {
   "cell_type": "code",
   "execution_count": null,
   "id": "7c67a457-5383-4a1c-81fa-3ff65aa681d1",
   "metadata": {},
   "outputs": [],
   "source": [
    "# 2・3・2 : 横の長さを変数で表現する\n",
    "width = 6"
   ]
  },
  {
   "attachments": {},
   "cell_type": "markdown",
   "id": "0eb7e088-bd1e-464a-a557-6e061a31b571",
   "metadata": {},
   "source": [
    "## 変数を使った計算"
   ]
  },
  {
   "cell_type": "code",
   "execution_count": null,
   "id": "f7812ae2-d497-4e3a-9615-a1a6e171d3ee",
   "metadata": {},
   "outputs": [],
   "source": [
    "# 2・3・3 : 長方形の面積を計算する\n",
    "height*width"
   ]
  },
  {
   "cell_type": "markdown",
   "id": "4d697988-3d59-42d1-82bf-f623d75c434d",
   "metadata": {},
   "source": [
    "## 計算結果の代入"
   ]
  },
  {
   "cell_type": "code",
   "execution_count": null,
   "id": "64348782-cba2-489f-8ea5-c26dc744ee99",
   "metadata": {},
   "outputs": [],
   "source": [
    "# 2・3・4 : 面積を計算して変数に代入する\n",
    "area = height*width"
   ]
  },
  {
   "cell_type": "code",
   "execution_count": null,
   "id": "ba1182bf-830b-44ce-9155-60af99cd10f6",
   "metadata": {},
   "outputs": [],
   "source": [
    "# 2・3・5 : 面積の中身を出力セルに表示\n",
    "area"
   ]
  },
  {
   "cell_type": "markdown",
   "id": "c05711dd-c653-4bc3-8125-80208ef8ac7a",
   "metadata": {},
   "source": [
    "## 計算プログラムをまとめる"
   ]
  },
  {
   "cell_type": "code",
   "execution_count": null,
   "id": "cd806e69-1fed-4f00-8b17-129fc283322b",
   "metadata": {},
   "outputs": [],
   "source": [
    "# 2・3・6\n",
    "height = 3  # 高さ\n",
    "width = 6   # 横\n",
    "area = height*width # 面積を変数に代入\n",
    "area   # 答えを表示"
   ]
  },
  {
   "cell_type": "code",
   "execution_count": null,
   "id": "81b16f01-aec7-4feb-9fc2-3eba30288821",
   "metadata": {},
   "outputs": [],
   "source": [
    "# 2・3・7\n",
    "a = 3\n",
    "b = 6\n",
    "x = a*b\n",
    "x"
   ]
  },
  {
   "cell_type": "code",
   "execution_count": null,
   "id": "eb1b7413-ac3f-4922-aef7-f0eea22277ac",
   "metadata": {},
   "outputs": [],
   "source": []
  }
 ],
 "metadata": {
  "kernelspec": {
   "display_name": "Python 3 (ipykernel)",
   "language": "python",
   "name": "python3"
  },
  "language_info": {
   "codemirror_mode": {
    "name": "ipython",
    "version": 3
   },
   "file_extension": ".py",
   "mimetype": "text/x-python",
   "name": "python",
   "nbconvert_exporter": "python",
   "pygments_lexer": "ipython3",
   "version": "3.12.4"
  }
 },
 "nbformat": 4,
 "nbformat_minor": 5
}
