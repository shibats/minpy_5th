{
 "cells": [
  {
   "cell_type": "markdown",
   "id": "69ebd523-9031-42ef-a789-46984d0eea2c",
   "metadata": {},
   "source": [
    "# モジュールの階層構造(パッケージ)\n",
    "## パッケージ = ディレクトリ(フォルダ)"
   ]
  },
  {
   "cell_type": "code",
   "execution_count": null,
   "id": "b585bb43-3f4c-45a6-b09b-cc55217db7bf",
   "metadata": {},
   "outputs": [],
   "source": [
    "# 8・3・1\n",
    "import blank_package"
   ]
  },
  {
   "cell_type": "code",
   "execution_count": null,
   "id": "27e7b9af-d704-474f-b010-5c0f88e87ba7",
   "metadata": {},
   "outputs": [],
   "source": [
    "# 8・3・2\n",
    "from test_package2.sub_module import test_func\n",
    "test_func(2)"
   ]
  },
  {
   "cell_type": "markdown",
   "id": "a2712c4a-1638-4514-914d-9059680004d4",
   "metadata": {},
   "source": [
    "# パッケージ内の__init__.py"
   ]
  },
  {
   "cell_type": "code",
   "execution_count": null,
   "id": "2af0ddc7-1722-4b98-b17e-0160f98cc3e8",
   "metadata": {},
   "outputs": [],
   "source": [
    "# 8・3・3\n",
    "from test_package2 import test_func, a, b\n",
    "test_func(a)\n",
    "print(b)"
   ]
  }
 ],
 "metadata": {
  "kernelspec": {
   "display_name": "Python 3 (ipykernel)",
   "language": "python",
   "name": "python3"
  },
  "language_info": {
   "codemirror_mode": {
    "name": "ipython",
    "version": 3
   },
   "file_extension": ".py",
   "mimetype": "text/x-python",
   "name": "python",
   "nbconvert_exporter": "python",
   "pygments_lexer": "ipython3",
   "version": "3.12.4"
  }
 },
 "nbformat": 4,
 "nbformat_minor": 5
}
