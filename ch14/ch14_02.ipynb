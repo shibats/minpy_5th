{
 "cells": [
  {
   "cell_type": "markdown",
   "id": "705b9267-c079-44e4-b4b9-58fb24bec030",
   "metadata": {},
   "source": [
    "# streamlitを使ったWebアプリの作成"
   ]
  },
  {
   "cell_type": "markdown",
   "id": "680e6ab5-916f-4030-bbde-cb5f38d6db27",
   "metadata": {},
   "source": [
    "## Streamlitを使ってみよう"
   ]
  },
  {
   "cell_type": "code",
   "execution_count": null,
   "id": "600cb15e-0bc2-4f01-9375-9fa629c7308f",
   "metadata": {},
   "outputs": [],
   "source": [
    "# 14・2・1\n",
    "!pip install streamlit -q"
   ]
  },
  {
   "cell_type": "code",
   "execution_count": null,
   "id": "0f0f5779-e05d-4dd6-829a-80b1217e318f",
   "metadata": {},
   "outputs": [],
   "source": [
    "%%writefile first_app.py\n",
    "# 14・2・2\n",
    "\n",
    "import streamlit as st  # streamlitをインポート\n",
    "import numpy as np\n",
    "import pandas as pd\n",
    "\n",
    "tokyo_latlon = [35.6895, 139.6917]\n",
    "map_data = pd.DataFrame(\n",
    "    np.random.randn(1000, 2) / [50, 50] + tokyo_latlon,\n",
    "    columns=['lat', 'lon'])\n",
    "\n",
    "st.map(map_data)\n"
   ]
  },
  {
   "cell_type": "code",
   "execution_count": null,
   "id": "d815e30b-8a64-4e18-a638-aad3732d8f5c",
   "metadata": {},
   "outputs": [],
   "source": [
    "# 14・2・3\n",
    "!streamlit run first_app.py & sleep 3 && npx localtunnel --port 8501"
   ]
  },
  {
   "cell_type": "code",
   "execution_count": null,
   "id": "99901529-9259-4ba6-b9df-c2a8b06e499c",
   "metadata": {},
   "outputs": [],
   "source": [
    "%%writefile second_app.py\n",
    "# 14・2・4\n",
    "\n",
    "import streamlit as st  # streamlitをインポート\n",
    "year = st.slider(\"気温\")\n",
    "st.write(f\"ただいまの気温 : {year}度\")"
   ]
  },
  {
   "cell_type": "code",
   "execution_count": null,
   "id": "597d6f6a-f084-48ab-86e4-b7c2c99bd293",
   "metadata": {},
   "outputs": [],
   "source": [
    "# 14・2・5\n",
    "!streamlit run second_app.py & sleep 3 && npx localtunnel --port 8501"
   ]
  },
  {
   "cell_type": "code",
   "execution_count": null,
   "id": "b65313c3-e44d-4d95-b9ac-7a0030a25df3",
   "metadata": {},
   "outputs": [],
   "source": [
    "%%writefile wigets_app.py\n",
    "# 14・2・6\n",
    "\n",
    "import streamlit as st  # streamlitをインポート\n",
    "\n",
    "# ウィジェット選択用のサイドバー\n",
    "with st.sidebar:\n",
    "    options = [\"日付\", \"時刻\", \"好きなフルーツ\"]\n",
    "    option = st.selectbox(\"選択してください\", options)\n",
    "    st.write(f\"{option}が選択されました\")\n",
    "\n",
    "if option == \"日付\":\n",
    "    date = st.date_input(\"日付を選んでください\")\n",
    "    st.write(\"選ばれた日付:\", date)\n",
    "elif option == \"時刻\":\n",
    "    time = st.time_input(\"時刻を選んでください\")\n",
    "    st.write(\"選ばれた時刻:\", time)\n",
    "elif option == \"好きなフルーツ\":\n",
    "    selections = [\"りんご\", \"バナナ\", \"ぶどう\"]\n",
    "    items = st.multiselect(\"好きなフルーツを選んでください\", selections)\n",
    "    st.write(\"選ばれたフルーツ:\", \",\".join(items))    "
   ]
  },
  {
   "cell_type": "code",
   "execution_count": null,
   "id": "ec005766-3791-4a3c-905f-783e115b3865",
   "metadata": {},
   "outputs": [],
   "source": [
    "# 14・2・7\n",
    "!streamlit run wigets_app.py & sleep 3 && npx localtunnel --port 8501"
   ]
  },
  {
   "cell_type": "code",
   "execution_count": null,
   "id": "547e69c6-7076-4da0-a733-30f33f44f451",
   "metadata": {},
   "outputs": [
    {
     "name": "stdout",
     "output_type": "stream",
     "text": [
      "Overwriting chat_app.py\n"
     ]
    }
   ],
   "source": [
    "%%writefile chat_app.py\n",
    "# 14・2・8\n",
    "\n",
    "import streamlit as st\n",
    "\n",
    "st.title(\"簡易チャットアプリ\")\n",
    "\n",
    "# セッションの初期化\n",
    "if \"chat_log\" not in st.session_state:\n",
    "    st.session_state.chat_log = []\n",
    "    st.session_state.message = \"\"\n",
    "\n",
    "with st.form(\"chat_form\", clear_on_submit=True):\n",
    "    message = st.text_input(\"メッセージを入力\", key=\"message\")\n",
    "    submitted = st.form_submit_button(\"送信\")\n",
    "    if submitted:\n",
    "        # チャット送信処理\n",
    "        message = st.session_state.get(\"message\", \"\").strip()\n",
    "        if message:\n",
    "            st.session_state.chat_log.append(message)\n",
    "\n",
    "# チャット履歴を表示\n",
    "st.markdown(\"  \\n\".join(st.session_state.chat_log))"
   ]
  },
  {
   "cell_type": "code",
   "execution_count": 47,
   "id": "a6aada3a-33fe-4a77-903c-aade29ecb46e",
   "metadata": {},
   "outputs": [
    {
     "name": "stdout",
     "output_type": "stream",
     "text": [
      "\u001b[0m\n",
      "\u001b[34m\u001b[1m  You can now view your Streamlit app in your browser.\u001b[0m\n",
      "\u001b[0m\n",
      "\u001b[34m  Local URL: \u001b[0m\u001b[1mhttp://localhost:8502\u001b[0m\n",
      "\u001b[34m  Network URL: \u001b[0m\u001b[1mhttp://192.168.0.111:8502\u001b[0m\n",
      "\u001b[0m\n",
      "\u001b[1G\u001b[0JNeed to install the following packages:\n",
      "  localtunnel@2.0.2\n",
      "Ok to proceed? (y) \u001b[20G^C\n"
     ]
    }
   ],
   "source": [
    "# 14・2・9\n",
    "!streamlit run chat_app.py & sleep 3 && npx localtunnel --port 8501"
   ]
  },
  {
   "cell_type": "code",
   "execution_count": null,
   "id": "ffa28cfc-0004-4702-a5da-576bc9b1bf8a",
   "metadata": {},
   "outputs": [],
   "source": []
  }
 ],
 "metadata": {
  "kernelspec": {
   "display_name": "base",
   "language": "python",
   "name": "python3"
  },
  "language_info": {
   "codemirror_mode": {
    "name": "ipython",
    "version": 3
   },
   "file_extension": ".py",
   "mimetype": "text/x-python",
   "name": "python",
   "nbconvert_exporter": "python",
   "pygments_lexer": "ipython3",
   "version": "3.12.4"
  }
 },
 "nbformat": 4,
 "nbformat_minor": 5
}
