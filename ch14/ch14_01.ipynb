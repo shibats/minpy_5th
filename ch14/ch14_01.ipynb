{
 "cells": [
  {
   "cell_type": "markdown",
   "id": "8e20ea66-4602-4237-9bee-95cbad88452e",
   "metadata": {},
   "source": [
    "# Webサイトへのアクセスとスクレイピング"
   ]
  },
  {
   "cell_type": "markdown",
   "id": "99edf880-ead0-46a0-a3ff-7f54df9c8c1b",
   "metadata": {},
   "source": [
    "## Webサイトの生データをPythonで読み込む"
   ]
  },
  {
   "cell_type": "code",
   "execution_count": 3,
   "id": "3ce351d8-f9cd-4a4c-8b9b-0a2dc26d5de6",
   "metadata": {},
   "outputs": [
    {
     "data": {
      "text/plain": [
       "'<!-- / ## generate at 2025-07-24 10:00:10 -->\\n\\n\\n<!DOCTYPE html>\\n<html lang=\"ja\" prefix=\"og: http://ogp.me/ns#\">\\n<head>\\n<title>日本気象協会 tenki.jp / 天気予報・地震・台風</title>\\n<meta charset=\"UTF-8\">\\n<meta name=\"ke'"
      ]
     },
     "execution_count": 3,
     "metadata": {},
     "output_type": "execute_result"
    }
   ],
   "source": [
    "# 14・1・1\n",
    "import requests\n",
    "url = 'https://tenki.jp/'  # tenki.jpのURL\n",
    "response = requests.get(url)\n",
    "response.text[:200]  # 結果の先頭200文字を表示"
   ]
  },
  {
   "cell_type": "code",
   "execution_count": 4,
   "id": "253fa0a2-1117-40b6-8edb-3886461b473a",
   "metadata": {},
   "outputs": [
    {
     "data": {
      "text/plain": [
       "'東京35/260%'"
      ]
     },
     "execution_count": 4,
     "metadata": {},
     "output_type": "execute_result"
    }
   ],
   "source": [
    "# 14・1・2\n",
    "from bs4 import BeautifulSoup\n",
    "from IPython.display import display, HTML\n",
    "# soupオブジェクトを得る\n",
    "soup = BeautifulSoup(response.text, \"html.parser\")\n",
    "section = soup.select_one((\"body > div#main-column >\"\n",
    "                           \"section > div > div#forecast-map\"\n",
    "                           \"> a#forecast-map-entry-13101\"))\n",
    "section.text  # 内容を確認"
   ]
  },
  {
   "cell_type": "markdown",
   "id": "985a3d3a-1c93-4cdc-a45f-51a7301c9c9b",
   "metadata": {},
   "source": [
    "## HTMLを必要な部分だけ理解する"
   ]
  },
  {
   "cell_type": "code",
   "execution_count": 5,
   "id": "492bda9c-3ef7-45ab-b26f-e9800d867831",
   "metadata": {},
   "outputs": [
    {
     "data": {
      "text/plain": [
       "'東京35/260%'"
      ]
     },
     "execution_count": 5,
     "metadata": {},
     "output_type": "execute_result"
    }
   ],
   "source": [
    "# 14・1・3\n",
    "a_elem = soup.find(id=\"forecast-map-entry-13101\")\n",
    "a_elem.text"
   ]
  },
  {
   "cell_type": "code",
   "execution_count": null,
   "id": "00de7d5a-ae47-41bb-a41f-50f2f5bb61c5",
   "metadata": {},
   "outputs": [],
   "source": [
    "# 14・1・4\n",
    "for elem in soup.find_all(class_=\"forecast-map-entry\"):\n",
    "    print(elem.text)"
   ]
  },
  {
   "cell_type": "markdown",
   "id": "4f5b8288-ee1a-4800-8dd0-6cd00e1f9bee",
   "metadata": {},
   "source": [
    "## BeautifulSoupについて知る"
   ]
  },
  {
   "cell_type": "code",
   "execution_count": null,
   "id": "8716f029-7547-4b4e-96c3-eb21f2d17036",
   "metadata": {},
   "outputs": [],
   "source": [
    "# 14・1・5\n",
    "a_elem = soup.find(id=\"forecast-map-entry-13101\")\n",
    "a_elem.contents[0]"
   ]
  },
  {
   "cell_type": "code",
   "execution_count": null,
   "id": "63c44df4-ceb3-4e75-a9d5-5387bc884a1d",
   "metadata": {},
   "outputs": [],
   "source": [
    "# 14・1・6\n",
    "w_list = []\n",
    "for elem in soup.find_all(class_=\"forecast-map-entry\"):\n",
    "    w_dic = {\"city\": elem.contents[0],\n",
    "             \"weather\": elem.find(\"img\").attrs[\"alt\"],\n",
    "             \"max-temp\": int(elem.find(class_=\"max-temp\").text),\n",
    "             \"min-temp\": int(elem.find(class_=\"min-temp\").text)}\n",
    "    w_list.append(w_dic)\n",
    "w_list[0]   # 札幌の天気を表示"
   ]
  },
  {
   "cell_type": "markdown",
   "id": "39914928-c887-4a94-aa75-0ef40fad7d55",
   "metadata": {},
   "source": [
    "## 大量のデータをスクレイピングする"
   ]
  },
  {
   "cell_type": "code",
   "execution_count": null,
   "id": "d829433a-d2ab-4853-a204-fa91c85d6193",
   "metadata": {},
   "outputs": [],
   "source": [
    "# 14・1・7\n",
    "url = 'https://tenki.jp/week/'  # tenki.jpのURL(2週間天気)\n",
    "response = requests.get(url)  # HTMLを取得\n",
    "# soupオブジェクトを得る\n",
    "soup = BeautifulSoup(response.text, \"html.parser\")\n",
    "table = soup.find(\"table\", class_=\"week-thisweek-table\")\n",
    "table # 結果を表示"
   ]
  },
  {
   "cell_type": "code",
   "execution_count": null,
   "id": "8b7f25c5-093b-414a-8d48-97287f691f68",
   "metadata": {},
   "outputs": [],
   "source": [
    "# 14・1・8\n",
    "# 2番目のtrを取得\n",
    "tr = table.find_all(\"tr\")[1]\n",
    "tr  # 結果を表示"
   ]
  },
  {
   "cell_type": "code",
   "execution_count": null,
   "id": "629af3d4-7180-44d8-80c0-f360947d8eb7",
   "metadata": {},
   "outputs": [],
   "source": [
    "# 14・1・8\n",
    "# 2番目のtrを取得\n",
    "hokkaido_tr = table.find_all(\"tr\")[1]\n",
    "hokkaido_tr  # 結果を表示"
   ]
  },
  {
   "cell_type": "code",
   "execution_count": null,
   "id": "2a84546c-ad7e-4428-87e7-5cf6acbfbed3",
   "metadata": {},
   "outputs": [],
   "source": [
    "# 14・1・9\n",
    "for td in hokkaido_tr.find_all(\"td\"):\n",
    "    if \"area-name\" in td.attrs[\"class\"]:\n",
    "        # 地域名を取得\n",
    "        area_name = td.text\n",
    "        print(area_name)\n",
    "    else:\n",
    "        # 天気の情報を取得\n",
    "        p_list = td.find_all(\"p\")\n",
    "        span_list = p_list[1].find_all(\"span\")\n",
    "        weather = p_list[0].text\n",
    "        max_temp = int(span_list[0].text)\n",
    "        min_temp = int(span_list[1].text)\n",
    "        percip = int(p_list[2].text.replace(\"%\", \"\"))\n",
    "        print(weather, max_temp, min_temp, percip)"
   ]
  },
  {
   "cell_type": "code",
   "execution_count": null,
   "id": "f238095e-2434-47ec-9a85-7eee35f8d429",
   "metadata": {},
   "outputs": [],
   "source": [
    "# 14・1・10\n",
    "def get_week_weather(tr):\n",
    "    # trから地域の天気，週間天気を取り出して返す関数\n",
    "    w_list = []  # 週間天気のリストを初期化\n",
    "    for td in tr.find_all(\"td\"):\n",
    "        if \"area-name\" in td.attrs[\"class\"]:\n",
    "            # 地域名を取得\n",
    "            area_name = td.text\n",
    "        else:\n",
    "            # 天気の情報を取得\n",
    "            p_list = td.find_all(\"p\")\n",
    "            span_list = p_list[1].find_all(\"span\")\n",
    "            weather = p_list[0].text\n",
    "            max_temp = int(span_list[0].text)\n",
    "            min_temp = int(span_list[1].text)\n",
    "            percip = int(p_list[2].text.replace(\"%\", \"\"))\n",
    "            w_dic = {\"weather\": weather,\n",
    "                     \"max_temp\": max_temp,\n",
    "                     \"min_temp\": min_temp,\n",
    "                     \"percip\": percip}\n",
    "            w_list.append(w_dic)\n",
    "            \n",
    "    return area_name, w_list"
   ]
  },
  {
   "cell_type": "code",
   "execution_count": null,
   "id": "abea0cf7-f870-4212-9051-47445a2bd1c5",
   "metadata": {},
   "outputs": [],
   "source": [
    "# 14・1・10\n",
    "get_week_weather(hokkaido_tr)"
   ]
  },
  {
   "cell_type": "code",
   "execution_count": null,
   "id": "238506ef-fc7e-4b82-b39d-776f64e34613",
   "metadata": {},
   "outputs": [],
   "source": [
    "# 14・1・11\n",
    "url = 'https://tenki.jp/week/'  # tenki.jpのURL(2週間天気)\n",
    "response = requests.get(url)  # HTMLを取得\n",
    "# soupオブジェクトを得る\n",
    "soup = BeautifulSoup(response.text, \"html.parser\")\n",
    "\n",
    "weathers = []  # 天気の情報用リストを初期化\n",
    "# 2つのtableをループで取得\n",
    "for table in soup.find_all(\"table\", class_=\"week-thisweek-table\"):\n",
    "    # tableの中にあるtrを使ってループ\n",
    "    for cnt, tr in enumerate(table.find_all(\"tr\")):\n",
    "        if cnt == 0:  # 最初のtrを飛ばす\n",
    "            continue\n",
    "        pname, weather_info = get_week_weather(tr)\n",
    "        weathers.append((pname, weather_info))\n",
    "weathers[3][0], weathers[3][1][:3]  # 北陸の情報を確認"
   ]
  },
  {
   "cell_type": "code",
   "execution_count": null,
   "id": "2fd67125-48c8-4d27-b3dc-4410ae88b38c",
   "metadata": {},
   "outputs": [],
   "source": []
  },
  {
   "cell_type": "code",
   "execution_count": null,
   "id": "a8f3b754-f662-4e7c-92f7-b9209eb5be85",
   "metadata": {},
   "outputs": [],
   "source": []
  }
 ],
 "metadata": {
  "kernelspec": {
   "display_name": "base",
   "language": "python",
   "name": "python3"
  },
  "language_info": {
   "codemirror_mode": {
    "name": "ipython",
    "version": 3
   },
   "file_extension": ".py",
   "mimetype": "text/x-python",
   "name": "python",
   "nbconvert_exporter": "python",
   "pygments_lexer": "ipython3",
   "version": "3.12.4"
  }
 },
 "nbformat": 4,
 "nbformat_minor": 5
}
