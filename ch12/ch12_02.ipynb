{
 "cells": [
  {
   "cell_type": "markdown",
   "id": "5bd45a7f-1876-49e6-85ff-ccc79d6e8835",
   "metadata": {},
   "source": [
    "# Pythonの関数型プログラミング"
   ]
  },
  {
   "cell_type": "markdown",
   "id": "2b80055c-3f9d-4f1d-aa19-89aaa12e1916",
   "metadata": {},
   "source": [
    "## 関数型の「関数」とはなにか"
   ]
  },
  {
   "cell_type": "code",
   "execution_count": null,
   "id": "68421539-5b2d-4eb2-8dd5-e03f14376eba",
   "metadata": {},
   "outputs": [],
   "source": [
    "# 12・2・1\n",
    "def add_item(cart, item):\n",
    "    # ショッピングカートにアイテムを追加する\n",
    "    cart.append(item)\n",
    "    return cart"
   ]
  },
  {
   "cell_type": "code",
   "execution_count": null,
   "id": "da616e53-e1f4-41f1-b417-1905c26d94c4",
   "metadata": {},
   "outputs": [],
   "source": [
    "# 12・2・2\n",
    "a_cart = []  # カートを初期化\n",
    "assert add_item(a_cart, \"えんぴつ\") == [\"えんぴつ\"]\n",
    "assert add_item(a_cart, \"けしごむ\") == [\"けしごむ\"]"
   ]
  },
  {
   "cell_type": "code",
   "execution_count": null,
   "id": "de69eca2-f8cc-4d75-bad6-3de90ece476a",
   "metadata": {},
   "outputs": [],
   "source": [
    "# 12・2・3\n",
    "def add_item_nse(cart, item):\n",
    "    return cart+(item,)\n",
    "\n",
    "a_cart = ()\n",
    "assert add_item_nse(a_cart, \"えんぴつ\") == (\"えんぴつ\",)\n",
    "assert add_item_nse(a_cart, \"けしごむ\") == (\"けしごむ\",)"
   ]
  },
  {
   "cell_type": "code",
   "execution_count": null,
   "id": "6712b242-a84f-4453-81c9-d69c168f02b3",
   "metadata": {},
   "outputs": [],
   "source": [
    "# 12・2・4\n",
    "def add_item_nse(cart:tuple, item:str) -> tuple:\n",
    "    return cart+(item,)"
   ]
  },
  {
   "cell_type": "markdown",
   "id": "39a37a27-0f0b-431d-8f80-150fd14c226b",
   "metadata": {},
   "source": [
    "## 高階関数"
   ]
  },
  {
   "cell_type": "code",
   "execution_count": null,
   "id": "4d048700-8df6-4f93-8361-fc80b1863b79",
   "metadata": {},
   "outputs": [],
   "source": [
    "# 12・2・5\n",
    "num_strs = [\"1\", \"2\", \"3\", \"4\"]\n",
    "list(map(int, num_strs))"
   ]
  },
  {
   "cell_type": "code",
   "execution_count": null,
   "id": "fa3de49f-cfd0-476c-aae2-9bdc92e86395",
   "metadata": {},
   "outputs": [],
   "source": [
    "# 12・2・6\n",
    "result = []  # 結果の処理を初期化\n",
    "for num in num_strs:\n",
    "    result.append(int(num))"
   ]
  },
  {
   "cell_type": "markdown",
   "id": "e4579eb1-f158-4b14-88f8-7db77b13bfbb",
   "metadata": {},
   "source": [
    "## lambda(ラムダ)式と無名関数"
   ]
  },
  {
   "cell_type": "code",
   "execution_count": null,
   "id": "c6ccd843-f4d9-4a91-b35a-e0a2f3bc4448",
   "metadata": {
    "scrolled": true
   },
   "outputs": [],
   "source": [
    "# 12・2・7\n",
    "# 地点情報をタプルで定義\n",
    "cities = [(\"名古屋\", 35.18, 136.91), (\"青森\", 40.82, 140.74),\n",
    "          (\"広島\", 34.39, 132.46),(\"宮崎\", 31.91, 131.42)]\n",
    "# 関数を定義\n",
    "def get_lon(t):\n",
    "    # 引数のタプル(t)から経度を返す\n",
    "    return t[2]"
   ]
  },
  {
   "cell_type": "code",
   "execution_count": null,
   "id": "50987666-5c63-458c-9e81-74f5f657038f",
   "metadata": {},
   "outputs": [],
   "source": [
    "# 12・2・8\n",
    "# 経度の小さい順にソートした結果を表示する\n",
    "sorted(cities, key=get_lon)"
   ]
  },
  {
   "cell_type": "code",
   "execution_count": null,
   "id": "fea4e34a-ea68-4605-9f21-7e29312905ae",
   "metadata": {},
   "outputs": [],
   "source": [
    "# 12・2・9\n",
    "# 経度の小さい順にソートした結果を表示する\n",
    "sorted(cities, key=lambda t: t[2])"
   ]
  },
  {
   "cell_type": "markdown",
   "id": "b22aad82-61d6-42a0-a979-31e9cb569b5a",
   "metadata": {},
   "source": [
    "## デコレータとローカル関数"
   ]
  },
  {
   "cell_type": "code",
   "execution_count": null,
   "id": "dd9cea2a-dfa4-4919-bbcb-bd08375eab30",
   "metadata": {},
   "outputs": [],
   "source": [
    "# 12・2・10\n",
    "def hello_maker(what):\n",
    "    def say_hello_to():\n",
    "        return f\"Hello {what}\"\n",
    "    return say_hello_to"
   ]
  },
  {
   "cell_type": "code",
   "execution_count": null,
   "id": "f72936e0-5135-4e9e-a690-4a07f8579694",
   "metadata": {},
   "outputs": [],
   "source": [
    "# 12・2・11\n",
    "hello_python = hello_maker(\"Python\")\n",
    "hello_python()"
   ]
  },
  {
   "cell_type": "code",
   "execution_count": null,
   "id": "ae367dbd-5c41-4cb2-891e-762f7fbd21cf",
   "metadata": {},
   "outputs": [],
   "source": [
    "# 12・2・12\n",
    "from datetime import datetime\n",
    "def show_time(func):\n",
    "    def wrapper():\n",
    "        print(datetime.now().time())\n",
    "        return func()\n",
    "    return wrapper"
   ]
  },
  {
   "cell_type": "code",
   "execution_count": null,
   "id": "d7c76072-80f8-4ebe-a201-43f3cc96ffe4",
   "metadata": {},
   "outputs": [],
   "source": [
    "# 12・2・13\n",
    "hello_python_withtime = show_time(hello_python)\n",
    "hello_python_withtime()"
   ]
  },
  {
   "cell_type": "code",
   "execution_count": null,
   "id": "655cde52-bdf6-41ba-8517-0542d3459ab3",
   "metadata": {},
   "outputs": [],
   "source": [
    "# 12・2・14\n",
    "@show_time\n",
    "def hello_world():\n",
    "    print(\"Hello Wrold!\")\n",
    "\n",
    "hello_world()"
   ]
  },
  {
   "cell_type": "code",
   "execution_count": null,
   "id": "f8710709-1106-4e73-ada4-a7f62f42bff5",
   "metadata": {},
   "outputs": [],
   "source": [
    "# 12・2・15\n",
    "hello_world = show_time(hello_world)\n",
    "hello_world()"
   ]
  },
  {
   "cell_type": "markdown",
   "id": "d1010159-4fd7-47a6-af6f-ff45d659c210",
   "metadata": {},
   "source": [
    "## イテレータ"
   ]
  },
  {
   "cell_type": "code",
   "execution_count": null,
   "id": "bb0f82d3-3d23-4724-b2d2-e1a995c695c8",
   "metadata": {},
   "outputs": [],
   "source": [
    "# 12・2・16\n",
    "iter(range(5))"
   ]
  },
  {
   "cell_type": "code",
   "execution_count": null,
   "id": "508b0e38-02e1-40fe-b008-153b5d485d2e",
   "metadata": {},
   "outputs": [],
   "source": [
    "# 12・2・17\n",
    "it = iter(range(5))"
   ]
  },
  {
   "cell_type": "code",
   "execution_count": null,
   "id": "68afbfb5-4ce5-4338-ab07-10384067de31",
   "metadata": {},
   "outputs": [],
   "source": [
    "# 12・2・18\n",
    "next(it)"
   ]
  },
  {
   "cell_type": "code",
   "execution_count": null,
   "id": "d139febd-9c1d-4971-ae04-ad0562d85b2f",
   "metadata": {},
   "outputs": [],
   "source": [
    "# 12・2・19\n",
    "str(next(it))"
   ]
  },
  {
   "cell_type": "code",
   "execution_count": null,
   "id": "4686d99c-a0fb-43f2-ad11-14211b043160",
   "metadata": {},
   "outputs": [],
   "source": [
    "# 12・2・20\n",
    "map(str, range(5))"
   ]
  },
  {
   "cell_type": "markdown",
   "id": "5c882d3e-4ef9-46e2-ae6d-a14f623a57dd",
   "metadata": {},
   "source": [
    "## ジェネレータ"
   ]
  },
  {
   "cell_type": "code",
   "execution_count": null,
   "id": "6384e6c8-2a1f-4d1a-af25-5414b4d9eda0",
   "metadata": {},
   "outputs": [],
   "source": [
    "# 12・2・21\n",
    "def generator_func():\n",
    "    yield 1\n",
    "    yield 2\n",
    "    yield 3"
   ]
  },
  {
   "cell_type": "code",
   "execution_count": null,
   "id": "bac60e7b-39f3-4c5a-978c-f6dce80a5f34",
   "metadata": {},
   "outputs": [],
   "source": [
    "# 12・2・22\n",
    "for num in generator_func():\n",
    "    print(num, end=\", \")"
   ]
  },
  {
   "cell_type": "code",
   "execution_count": null,
   "id": "f8584809-6d96-40ec-8667-6603896c1eb8",
   "metadata": {},
   "outputs": [],
   "source": [
    "# 12・2・23\n",
    "g = generator_func()\n",
    "print(next(g), end=\", \")\n",
    "print(next(g), end=\", \")\n",
    "print(next(g), end=\", \")"
   ]
  },
  {
   "cell_type": "code",
   "execution_count": null,
   "id": "f121e4df",
   "metadata": {},
   "outputs": [],
   "source": [
    "# 12・2・24\n",
    "def is_prime(n):\n",
    "    if n < 2:\n",
    "        return False\n",
    "    for i in range(2, n//2+1):\n",
    "        if n % i == 0:\n",
    "            return False\n",
    "    return True"
   ]
  },
  {
   "cell_type": "code",
   "execution_count": null,
   "id": "3922aefe-2ea4-456a-8326-df845cd749e0",
   "metadata": {},
   "outputs": [],
   "source": [
    "# 12・2・25\n",
    "def prime_generator():\n",
    "    n = 2\n",
    "    while True:\n",
    "        if is_prime(n):\n",
    "            yield n\n",
    "        n += 1"
   ]
  },
  {
   "cell_type": "code",
   "execution_count": null,
   "id": "c6716292-e886-4e7f-9c18-34509da90c16",
   "metadata": {},
   "outputs": [],
   "source": [
    "# 12・2・26\n",
    "g = prime_generator()"
   ]
  },
  {
   "cell_type": "code",
   "execution_count": null,
   "id": "89c08eda-1e6b-48c2-ad5e-60dd22ce8458",
   "metadata": {},
   "outputs": [],
   "source": [
    "# 12・2・27\n",
    "next(g)"
   ]
  },
  {
   "cell_type": "code",
   "execution_count": null,
   "id": "13cf573b-8582-4a77-a46a-89281df2a15b",
   "metadata": {},
   "outputs": [],
   "source": []
  }
 ],
 "metadata": {
  "kernelspec": {
   "display_name": "base",
   "language": "python",
   "name": "python3"
  },
  "language_info": {
   "codemirror_mode": {
    "name": "ipython",
    "version": 3
   },
   "file_extension": ".py",
   "mimetype": "text/x-python",
   "name": "python",
   "nbconvert_exporter": "python",
   "pygments_lexer": "ipython3",
   "version": "3.12.4"
  }
 },
 "nbformat": 4,
 "nbformat_minor": 5
}
