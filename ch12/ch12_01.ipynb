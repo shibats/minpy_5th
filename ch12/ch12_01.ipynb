{
 "cells": [
  {
   "cell_type": "markdown",
   "id": "0f201864-3f31-44a4-be44-5818271f9cf2",
   "metadata": {},
   "source": [
    "# 関数型プログラミング"
   ]
  },
  {
   "cell_type": "markdown",
   "id": "1da77d0b-3030-43be-adb3-abe1d9a140cb",
   "metadata": {},
   "source": [
    "## プログラムのテストをする"
   ]
  },
  {
   "cell_type": "code",
   "execution_count": null,
   "id": "c9dac618-639f-4109-ac08-a11470b30479",
   "metadata": {},
   "outputs": [],
   "source": [
    "# 12・1・1\n",
    "for cnt in range(1, 21):\n",
    "    if cnt % 3 == 0:\n",
    "        print(\"Fizz\")\n",
    "    if cnt % 5 == 0:\n",
    "        print(\"Buzz\")\n",
    "    if cnt % 15 == 0:\n",
    "        print(\"FizzBuzz\")\n",
    "    if cnt % 3 and cnt % 5:\n",
    "        print(str(cnt))"
   ]
  },
  {
   "cell_type": "code",
   "execution_count": null,
   "id": "9c381efc-f92f-47b7-b002-b2386890e787",
   "metadata": {},
   "outputs": [],
   "source": [
    "# 12・1・2\n",
    "def fizzbuzz(cnt):\n",
    "    if cnt % 3 == 0:\n",
    "        return \"Fizz\"\n",
    "    if cnt % 5 == 0:\n",
    "        return \"Buzz\"\n",
    "    if cnt % 15 == 0:\n",
    "        return \"FizzBuzz\"\n",
    "    if cnt % 3 and cnt % 5:\n",
    "        return str(cnt)"
   ]
  },
  {
   "cell_type": "code",
   "execution_count": null,
   "id": "4af3aa8b-ef7e-4cbe-bce4-4f349925ce0b",
   "metadata": {},
   "outputs": [],
   "source": [
    "# 12・1・3\n",
    "fizzbuzz(1)"
   ]
  },
  {
   "cell_type": "code",
   "execution_count": null,
   "id": "139916fb-80aa-4ebc-b612-f09d8051d715",
   "metadata": {},
   "outputs": [],
   "source": [
    "# 12・1・4\n",
    "fizzbuzz(15)"
   ]
  },
  {
   "cell_type": "code",
   "execution_count": null,
   "id": "27ce80da-466a-4822-bdab-7a7e532ffd45",
   "metadata": {},
   "outputs": [],
   "source": [
    "# 12・1・5\n",
    "def fizzbuzz2(cnt):\n",
    "    if cnt % 15 == 0:\n",
    "        return \"FizzBuzz\"\n",
    "    elif cnt % 3 == 0:\n",
    "        return \"Fizz\"\n",
    "    elif cnt % 5 == 0:\n",
    "        return \"Buzz\"\n",
    "    else:\n",
    "        return str(cnt)"
   ]
  },
  {
   "cell_type": "code",
   "execution_count": null,
   "id": "4590cb04-3fa5-460c-b4af-93d8adb7ca50",
   "metadata": {},
   "outputs": [],
   "source": [
    "# 12・1・6\n",
    "fizzbuzz2(15)"
   ]
  },
  {
   "cell_type": "markdown",
   "id": "cd6ac7e4-b1ed-43ca-8450-f27bec23145c",
   "metadata": {},
   "source": [
    "## assert文を使ったテスト"
   ]
  },
  {
   "cell_type": "code",
   "execution_count": null,
   "id": "0082dbf3-e1b0-4a54-b673-58b34562945c",
   "metadata": {},
   "outputs": [],
   "source": [
    "# 12・1・7\n",
    "assert fizzbuzz(15) == \"FizzBuzz\""
   ]
  },
  {
   "cell_type": "code",
   "execution_count": null,
   "id": "e7e3e06c-9782-418e-a2f4-412ac13c89e2",
   "metadata": {},
   "outputs": [],
   "source": [
    "# 12・1・8\n",
    "assert fizzbuzz2(1) == \"1\"\n",
    "assert fizzbuzz2(3) == \"Fizz\"\n",
    "assert fizzbuzz2(5) == \"Buzz\"\n",
    "assert fizzbuzz2(15) == \"FizzBuzz\"\n",
    "assert fizzbuzz2(16) == \"16\""
   ]
  },
  {
   "cell_type": "markdown",
   "id": "e77a9ab3-f3d2-4131-9003-b5b4668a81e2",
   "metadata": {},
   "source": [
    "## 副作用"
   ]
  },
  {
   "cell_type": "code",
   "execution_count": null,
   "id": "e505e586-e189-44a5-961b-298cc218fee0",
   "metadata": {},
   "outputs": [],
   "source": [
    "# 12・1・9\n",
    "for cnt in range(1, 21):\n",
    "    print(fizzbuzz2(cnt))"
   ]
  },
  {
   "cell_type": "code",
   "execution_count": null,
   "id": "45582283-3c0f-4ff1-be00-3f397c9f8af8",
   "metadata": {},
   "outputs": [],
   "source": [
    "# 12・1・10\n",
    "def fizzbuzz_list(start, end):\n",
    "    result = []  # 戻り値になるリストを初期化\n",
    "    for cnt in range(start, end+1):\n",
    "        result.append(fizzbuzz(cnt))\n",
    "    return result"
   ]
  },
  {
   "cell_type": "code",
   "execution_count": null,
   "id": "b47a720f-82f2-4910-82d4-f15f2c7270f9",
   "metadata": {},
   "outputs": [],
   "source": [
    "# 12・1・11\n",
    "expected_list = [\"Fizz\", \"13\", \"14\", \"FizzBuzz\", \"16\", \"17\"]\n",
    "assert fizzbuzz_list(12, 17) == expected_list"
   ]
  },
  {
   "cell_type": "markdown",
   "id": "ead58255-76d5-4cee-bda1-09ef588bf676",
   "metadata": {},
   "source": [
    "## 関数を引数にする"
   ]
  },
  {
   "cell_type": "code",
   "execution_count": null,
   "id": "a167a372-64e0-4bd8-be03-0068a7f7fd23",
   "metadata": {},
   "outputs": [],
   "source": [
    "# 12・1・12\n",
    "def fizzbuzz_list(start, end, fizzbuzz_func):\n",
    "    return [fizzbuzz_func(cnt)\n",
    "               for cnt in range(start, end+1)]"
   ]
  },
  {
   "cell_type": "code",
   "execution_count": null,
   "id": "c5468321-82c1-43c2-932b-d8c6a8ee93d2",
   "metadata": {},
   "outputs": [],
   "source": [
    "# 12・1・13\n",
    "assert fizzbuzz_list(12, 17, fizzbuzz2) == expected_list"
   ]
  },
  {
   "cell_type": "code",
   "execution_count": null,
   "id": "850e3cb0-0c56-4c54-91a9-5d8ff4dd8131",
   "metadata": {},
   "outputs": [],
   "source": [
    "# 12・1・14\n",
    "print(\"\\n\".join(fizzbuzz_list(1, 20, fizzbuzz2)))"
   ]
  },
  {
   "cell_type": "code",
   "execution_count": null,
   "id": "4bcc8232-dd13-4f0e-baad-8def3317dfb4",
   "metadata": {},
   "outputs": [],
   "source": []
  }
 ],
 "metadata": {
  "kernelspec": {
   "display_name": "base",
   "language": "python",
   "name": "python3"
  },
  "language_info": {
   "codemirror_mode": {
    "name": "ipython",
    "version": 3
   },
   "file_extension": ".py",
   "mimetype": "text/x-python",
   "name": "python",
   "nbconvert_exporter": "python",
   "pygments_lexer": "ipython3",
   "version": "3.12.4"
  }
 },
 "nbformat": 4,
 "nbformat_minor": 5
}
