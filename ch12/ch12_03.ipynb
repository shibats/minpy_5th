{
 "cells": [
  {
   "cell_type": "markdown",
   "id": "66e19f2c-0106-4676-a6e8-86751a447133",
   "metadata": {},
   "source": [
    "# 関数型プログラミングに挑戦しよう"
   ]
  },
  {
   "cell_type": "markdown",
   "id": "1b65b541-c1e9-45b8-ae2e-a4bb16aba4d6",
   "metadata": {},
   "source": [
    "## 普通のプログラム"
   ]
  },
  {
   "cell_type": "code",
   "execution_count": null,
   "id": "03ed642d-73be-4810-a66a-85c88d5329d9",
   "metadata": {},
   "outputs": [],
   "source": [
    "# 12・3・1\n",
    "temps = [22.5, 24.0, -999.0, 25.1, 26.0, 27.2, -999.0, 26.8, 25.4]\n",
    "total = 0\n",
    "for t in temps:\n",
    "    total += t\n",
    "avg = total / len(temps)\n",
    "print(avg)"
   ]
  },
  {
   "cell_type": "code",
   "execution_count": null,
   "id": "29e5fb91-c2e7-4623-a162-cb37c4dd18ed",
   "metadata": {},
   "outputs": [],
   "source": [
    "# 12・3・2\n",
    "def average(lst):\n",
    "    return sum(lst) / len(lst)"
   ]
  },
  {
   "cell_type": "code",
   "execution_count": null,
   "id": "4310ca3b-0c9b-4641-9a46-6cc4ec69d9cb",
   "metadata": {},
   "outputs": [],
   "source": [
    "# 12・3・3\n",
    "print(average(temps))"
   ]
  },
  {
   "cell_type": "code",
   "execution_count": null,
   "id": "974a3397-df57-4698-9d5e-689e7a059ebc",
   "metadata": {},
   "outputs": [],
   "source": [
    "# 12・3・4\n",
    "temps = [22.5, 24.0, -999.0, 25.1, 26.0, 27.2, -999.0, 26.8, 25.4]"
   ]
  },
  {
   "cell_type": "code",
   "execution_count": null,
   "id": "4759fa98-8891-45a4-a57e-cee826316ad5",
   "metadata": {},
   "outputs": [],
   "source": [
    "# 12・3・5\n",
    "def exclude_outliers(lst):\n",
    "    return [t for t in lst if t >= 0]"
   ]
  },
  {
   "cell_type": "code",
   "execution_count": null,
   "id": "49a877be-8ce5-4017-ad01-c748d7669a9f",
   "metadata": {},
   "outputs": [],
   "source": [
    "# 12・3・6\n",
    "exclude_outliers(temps)"
   ]
  },
  {
   "cell_type": "code",
   "execution_count": null,
   "id": "5773f4c3-62f9-426d-ae29-2fc1a36d11c0",
   "metadata": {},
   "outputs": [],
   "source": [
    "# 12・3・7\n",
    "average(exclude_outliers(temps))"
   ]
  },
  {
   "cell_type": "code",
   "execution_count": null,
   "id": "c854d7c5-84aa-4160-b990-12df747b26a8",
   "metadata": {},
   "outputs": [],
   "source": []
  }
 ],
 "metadata": {
  "kernelspec": {
   "display_name": "Python 3 (ipykernel)",
   "language": "python",
   "name": "python3"
  },
  "language_info": {
   "codemirror_mode": {
    "name": "ipython",
    "version": 3
   },
   "file_extension": ".py",
   "mimetype": "text/x-python",
   "name": "python",
   "nbconvert_exporter": "python",
   "pygments_lexer": "ipython3",
   "version": "3.12.4"
  }
 },
 "nbformat": 4,
 "nbformat_minor": 5
}
