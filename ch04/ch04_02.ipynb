{
 "cells": [
  {
   "cell_type": "markdown",
   "id": "be54d939-335b-4f4c-8304-9a5b93fabf61",
   "metadata": {},
   "source": [
    "# 02 オブジェクトとしての組み込み型"
   ]
  },
  {
   "cell_type": "markdown",
   "id": "74f1fc8d-5ad0-485b-865f-547c243bfe0f",
   "metadata": {},
   "source": [
    "## 複雑なプログラムはどう作られるか"
   ]
  },
  {
   "cell_type": "code",
   "execution_count": null,
   "id": "cc3f9318-03dc-4f07-a3d9-fa1946710374",
   "metadata": {},
   "outputs": [],
   "source": [
    "# 4・2・1\n",
    "numbers = [5, 3, 8, 1, 4]\n",
    "\n",
    "n = len(numbers)   # リストの長さを得る\n",
    "# ソートを行う\n",
    "for i in range(n):\n",
    "    for j in range(n - 1 - i):\n",
    "        if numbers[j] > numbers[j + 1]:\n",
    "            # 値を交換\n",
    "            temp = numbers[j]\n",
    "            numbers[j] = numbers[j + 1]\n",
    "            numbers[j + 1] = temp\n",
    "numbers  # 結果を確認"
   ]
  },
  {
   "cell_type": "code",
   "execution_count": null,
   "id": "a94a2839-1277-4d3f-8f8f-7900c7d67aba",
   "metadata": {},
   "outputs": [],
   "source": [
    "# 4・2・2\n",
    "numbers = [5, 3, 8, 1, 4]\n",
    "numbers.sort()  # ソートを行う\n",
    "numbers # 結果を確認"
   ]
  },
  {
   "cell_type": "markdown",
   "id": "5dc7bac3-974a-4643-8ad9-8566c18f325b",
   "metadata": {},
   "source": [
    "## 「オブジェクト」早分かり"
   ]
  },
  {
   "cell_type": "code",
   "execution_count": null,
   "id": "25716d4e-8ccb-458b-830b-1886b090eef6",
   "metadata": {},
   "outputs": [],
   "source": [
    "# 4・2・3\n",
    "quote_by_bacon = \"knowledge is power.\"\n",
    "quote_by_bacon.capitalize()"
   ]
  },
  {
   "cell_type": "markdown",
   "id": "9a4d7513-f16b-4fbc-8688-91bf96e985f9",
   "metadata": {},
   "source": [
    "## メソッドと引数"
   ]
  },
  {
   "cell_type": "code",
   "execution_count": null,
   "id": "253c2e97-8adb-4e7c-9673-b46930516598",
   "metadata": {},
   "outputs": [],
   "source": [
    "# 4・2・4\n",
    "quote_by_bacon.replace(\"power\", \"wealth\")"
   ]
  },
  {
   "cell_type": "code",
   "execution_count": null,
   "id": "3455edb5-33de-4a1d-89f1-6a249905ae80",
   "metadata": {},
   "outputs": [],
   "source": []
  }
 ],
 "metadata": {
  "kernelspec": {
   "display_name": "Python 3 (ipykernel)",
   "language": "python",
   "name": "python3"
  },
  "language_info": {
   "codemirror_mode": {
    "name": "ipython",
    "version": 3
   },
   "file_extension": ".py",
   "mimetype": "text/x-python",
   "name": "python",
   "nbconvert_exporter": "python",
   "pygments_lexer": "ipython3",
   "version": "3.12.4"
  }
 },
 "nbformat": 4,
 "nbformat_minor": 5
}
