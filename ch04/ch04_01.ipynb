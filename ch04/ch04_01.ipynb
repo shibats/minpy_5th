{
 "cells": [
  {
   "cell_type": "markdown",
   "id": "497b64b4-62ae-45ff-82e5-b54e1fae49ad",
   "metadata": {},
   "source": [
    "# 数値型を使いこなす"
   ]
  },
  {
   "attachments": {},
   "cell_type": "markdown",
   "id": "892e0fa8-47aa-4ea9-8d92-926a091d67f7",
   "metadata": {},
   "source": [
    "## int(整数)型とfloat(浮動小数点)型"
   ]
  },
  {
   "cell_type": "code",
   "execution_count": null,
   "id": "39c942cb-0d3d-4a01-8704-cc9e263e295c",
   "metadata": {},
   "outputs": [],
   "source": [
    "# 4・1・1\n",
    "hours = 3   # 時間\n",
    "kilometers = 10  # 距離(Km)"
   ]
  },
  {
   "cell_type": "code",
   "execution_count": null,
   "id": "10379193-551d-48c7-9d3e-10dcd18bc48d",
   "metadata": {},
   "outputs": [],
   "source": [
    "# 4・1・2\n",
    "speed = kilometers / hours  # 時速を計算"
   ]
  },
  {
   "cell_type": "markdown",
   "id": "35e320a2-1051-45de-8c5f-40c760fb7682",
   "metadata": {},
   "source": [
    "## 複合演算子"
   ]
  },
  {
   "cell_type": "code",
   "execution_count": null,
   "id": "b7c80ae7-43a1-4057-ba8c-11113e0293bd",
   "metadata": {},
   "outputs": [],
   "source": [
    "# 4・1・3\n",
    "age = 12"
   ]
  },
  {
   "cell_type": "code",
   "execution_count": null,
   "id": "887c02c8-3ceb-4126-a7a6-8454675d4562",
   "metadata": {},
   "outputs": [],
   "source": [
    "# 4・1・4\n",
    "age = age + 1   # 13歳になる"
   ]
  },
  {
   "cell_type": "code",
   "execution_count": null,
   "id": "b0fbe6ce-354e-440f-944e-1c681d1ba86d",
   "metadata": {},
   "outputs": [],
   "source": [
    "# 4・1・5\n",
    "age += 1   # 14歳になる"
   ]
  },
  {
   "cell_type": "code",
   "execution_count": null,
   "id": "fa0aced4-8786-4306-9f4d-aedd9633cd45",
   "metadata": {},
   "outputs": [],
   "source": [
    "# 4・1・6\n",
    "temperature -= 5  # エアコンをつけて涼しくなった"
   ]
  },
  {
   "cell_type": "markdown",
   "id": "a5c6a784-e55f-4a47-8ea0-61a5099e036b",
   "metadata": {},
   "source": [
    "## 数値型と組み合わせて使う関数"
   ]
  },
  {
   "cell_type": "code",
   "execution_count": null,
   "id": "abbd35bd-fed7-4ee8-a581-72c6ec6b55ad",
   "metadata": {},
   "outputs": [],
   "source": [
    "# 4・1・7\n",
    "10 / 2"
   ]
  },
  {
   "cell_type": "code",
   "execution_count": null,
   "id": "8b6a7c5e-06ed-4651-b741-a58fb2c0902f",
   "metadata": {},
   "outputs": [],
   "source": [
    "# 4・1・8\n",
    "int(10 / 2)"
   ]
  },
  {
   "cell_type": "code",
   "execution_count": null,
   "id": "0fcb60f6-d271-4c27-91e7-b722633e2fe9",
   "metadata": {},
   "outputs": [],
   "source": [
    "# 4・1・9\n",
    "round(5.5)"
   ]
  },
  {
   "cell_type": "code",
   "execution_count": null,
   "id": "027334cc-3357-41de-a21f-dbb5748b95c4",
   "metadata": {},
   "outputs": [],
   "source": [
    "# 4・1・10\n",
    "round(5.536, 2)"
   ]
  },
  {
   "cell_type": "markdown",
   "id": "8c7e2ed3-1830-4779-bab5-00ab18fb4461",
   "metadata": {},
   "source": [
    "## 数値型とf文字列"
   ]
  },
  {
   "cell_type": "code",
   "execution_count": 1,
   "id": "8aaf9511-d07a-42cb-953c-c539244ac5a2",
   "metadata": {},
   "outputs": [
    {
     "name": "stdout",
     "output_type": "stream",
     "text": [
      "室温は23.45℃です。\n"
     ]
    }
   ],
   "source": [
    "# 4・1・11\n",
    "temperature = 23.45\n",
    "message = f\"室温は{temperature}℃です。\"\n",
    "print(message)"
   ]
  },
  {
   "cell_type": "code",
   "execution_count": 2,
   "id": "bd68f8ab-93f4-410b-91f3-67ac1f39ef97",
   "metadata": {},
   "outputs": [
    {
     "name": "stdout",
     "output_type": "stream",
     "text": [
      "室温は23.4℃です。\n"
     ]
    }
   ],
   "source": [
    "# 4・1・12\n",
    "message = f\"室温は{temperature:.1f}℃です。\"\n",
    "print(message)"
   ]
  },
  {
   "cell_type": "markdown",
   "id": "99f70a0e-1da7-49fd-829e-ae8286b39bc1",
   "metadata": {},
   "source": [
    "## bool型"
   ]
  },
  {
   "cell_type": "code",
   "execution_count": null,
   "id": "bb4971e7-75e3-4093-bcb4-64609cb88c11",
   "metadata": {},
   "outputs": [],
   "source": [
    "# 4・1・13\n",
    "bnum = 0b1000   # 変数に2進数を代入\n",
    "bnum == 8       # ifの条件をむき出しで書く"
   ]
  },
  {
   "cell_type": "code",
   "execution_count": null,
   "id": "a61cae6f-a359-436d-a271-ff9ef2047cef",
   "metadata": {},
   "outputs": [],
   "source": [
    "# 4・1・14\n",
    "hnum = 0x1000   # 変数に16進数を代入\n",
    "hnum == 1000"
   ]
  },
  {
   "cell_type": "markdown",
   "id": "f1f5a9e4-70a1-46b9-aa48-08e0ca470505",
   "metadata": {},
   "source": [
    "## 論理演算"
   ]
  },
  {
   "cell_type": "code",
   "execution_count": null,
   "id": "181509c8-8c09-4559-86fc-24943b90acdf",
   "metadata": {},
   "outputs": [],
   "source": [
    "# 4・1・15\n",
    "year = 1996\n",
    "if 1989 <= year < 2019:\n",
    "    if year % 4 == 0:\n",
    "        print(\"真\")\n",
    "    else:\n",
    "        print(\"偽\")"
   ]
  },
  {
   "cell_type": "code",
   "execution_count": null,
   "id": "f9e08fab-4f61-4e6b-a6b5-a5019582a5fa",
   "metadata": {},
   "outputs": [],
   "source": [
    "# 4・1・16\n",
    "year = 1996\n",
    "if 1989 <= year < 2019 and year % 4 == 0:\n",
    "    print(\"真\")\n",
    "else:\n",
    "    print(\"偽\")"
   ]
  },
  {
   "cell_type": "code",
   "execution_count": null,
   "id": "60307626-d453-425a-886d-7bf621224a86",
   "metadata": {},
   "outputs": [],
   "source": [
    "# 4・1・17\n",
    "year = 1904\n",
    "if 1989 <= year < 2019 or year % 4 == 0:\n",
    "    print(\"真\")\n",
    "else:\n",
    "    print(\"偽\")"
   ]
  },
  {
   "cell_type": "code",
   "execution_count": null,
   "id": "3d2bc713-1452-4d1a-b314-f15b7d3389fd",
   "metadata": {},
   "outputs": [],
   "source": [
    "# 4・1・18\n",
    "year = 1904\n",
    "if 1989 <= year < 2019 or \\\n",
    "    ((year % 4 == 0 and year % 100 != 0) or (year % 400 == 0)):\n",
    "    print(\"真\")\n",
    "else:\n",
    "    print(\"偽\")"
   ]
  },
  {
   "cell_type": "code",
   "execution_count": null,
   "id": "93072fce-5f0c-4f25-8681-0e69bb745d58",
   "metadata": {},
   "outputs": [],
   "source": []
  }
 ],
 "metadata": {
  "kernelspec": {
   "display_name": "Python 3 (ipykernel)",
   "language": "python",
   "name": "python3"
  },
  "language_info": {
   "codemirror_mode": {
    "name": "ipython",
    "version": 3
   },
   "file_extension": ".py",
   "mimetype": "text/x-python",
   "name": "python",
   "nbconvert_exporter": "python",
   "pygments_lexer": "ipython3",
   "version": "3.12.4"
  }
 },
 "nbformat": 4,
 "nbformat_minor": 5
}
