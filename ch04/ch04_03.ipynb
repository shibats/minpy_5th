{
 "cells": [
  {
   "cell_type": "markdown",
   "id": "8291aa78-af16-4b20-b967-dfec007043b7",
   "metadata": {},
   "source": [
    "# 文字列型を使いこなす"
   ]
  },
  {
   "cell_type": "markdown",
   "id": "b5c5e8c9-c719-440c-88f9-8ef6a08357a7",
   "metadata": {},
   "source": [
    "## シングルクオーテーション(一重引用符)で囲む"
   ]
  },
  {
   "cell_type": "code",
   "execution_count": null,
   "id": "4ceab14d-f798-4f74-834f-ca00eafb2373",
   "metadata": {},
   "outputs": [],
   "source": [
    "# 4・3・1\n",
    "message = '今日の天気は快晴です'"
   ]
  },
  {
   "cell_type": "markdown",
   "id": "a97046e8-cd2f-4e2b-88e5-c2c0dc29ab37",
   "metadata": {},
   "source": [
    "## 三重引用符で囲む"
   ]
  },
  {
   "cell_type": "code",
   "execution_count": null,
   "id": "95e48dba-4e1b-4ae4-a8d5-213a123bbe1a",
   "metadata": {},
   "outputs": [],
   "source": [
    "# 4・3・2\n",
    "long_message = \"\"\"祇園精舍の鐘の声\n",
    "諸行無常の響きあり\"\"\""
   ]
  },
  {
   "attachments": {},
   "cell_type": "markdown",
   "id": "54942a2a-85fa-4d8e-baa8-6e1bb13f4e2f",
   "metadata": {},
   "source": [
    "## エスケープシーケンスで特殊な文字を扱う"
   ]
  },
  {
   "cell_type": "code",
   "execution_count": null,
   "id": "dfd93845-567b-4bec-abd5-02566ba428b8",
   "metadata": {},
   "outputs": [],
   "source": [
    "# 4・3・3\n",
    "escaped = \"祇園精舍の鐘の声\\n諸行無常の響きあり\"\n",
    "print(escaped)   # 文字列を表示する"
   ]
  },
  {
   "cell_type": "markdown",
   "id": "85221814-6a4c-46f9-a652-5b9208140f56",
   "metadata": {},
   "source": [
    "## if文と文字列"
   ]
  },
  {
   "cell_type": "code",
   "execution_count": null,
   "id": "f5102146-9daa-4801-9665-10c2440dbc21",
   "metadata": {},
   "outputs": [],
   "source": [
    "# 4・3・4\n",
    "if long_message == escaped:\n",
    "    print(\"2つは同じ文字列です\")"
   ]
  },
  {
   "cell_type": "code",
   "execution_count": null,
   "id": "b750a4dc-c730-468e-9c1c-45ddda7c1605",
   "metadata": {},
   "outputs": [],
   "source": [
    "# 4・3・5\n",
    "if \"200\" > \"100\":\n",
    "    print(\"200の方が100より大きい\")"
   ]
  },
  {
   "cell_type": "code",
   "execution_count": null,
   "id": "61f8ac95-6521-44c5-8d12-9b4442eba7c1",
   "metadata": {},
   "outputs": [],
   "source": [
    "# 4・3・6\n",
    "if \"1000\" > \"200\":\n",
    "    print(\"1000の方が200より大きい\")\n",
    "else:\n",
    "    print(\"200の方が1000より大きい\")"
   ]
  },
  {
   "cell_type": "code",
   "execution_count": null,
   "id": "2caebabf-3de5-486e-a44a-a46b63d4f76b",
   "metadata": {},
   "outputs": [],
   "source": [
    "# 4・3・7\n",
    "if int(\"1000\") > int(\"200\"):\n",
    "    print(\"1000の方が200より大きい\")\n",
    "else:\n",
    "    print(\"200の方が1000より大きい\")"
   ]
  },
  {
   "cell_type": "code",
   "execution_count": null,
   "id": "f70f335f-d448-4305-80a6-f7710869fcd0",
   "metadata": {},
   "outputs": [],
   "source": [
    "# 4・3・8\n",
    "filename = \"art.png\"\n",
    "if \".png\" in filename:\n",
    "    print(\"これはPNGファイルです\")\n",
    "elif \".jpg\" in filename:\n",
    "    print(\"これはJPEGファイルです\")    "
   ]
  },
  {
   "cell_type": "markdown",
   "id": "99b77f1b-5533-4c09-8006-ed3cf8ed9867",
   "metadata": {},
   "source": [
    "## 文字列を加工するメソッド"
   ]
  },
  {
   "cell_type": "code",
   "execution_count": null,
   "id": "2ddd3a53-96dd-436d-85d6-46186b70ab65",
   "metadata": {},
   "outputs": [],
   "source": [
    "# 4・3・9\n",
    "num_str = \"100,000\""
   ]
  },
  {
   "cell_type": "code",
   "execution_count": null,
   "id": "88399335-8f84-444e-abc6-2dab6a9f9203",
   "metadata": {},
   "outputs": [],
   "source": [
    "# 4・3・10\n",
    "num_str.replace(\",\", \"\")"
   ]
  },
  {
   "cell_type": "code",
   "execution_count": null,
   "id": "7d265ba5-3f6b-485a-aa3c-e5b4b182012a",
   "metadata": {},
   "outputs": [],
   "source": [
    "# 4・3・11\n",
    "num = int(num_str.replace(\",\", \"\"))"
   ]
  },
  {
   "cell_type": "code",
   "execution_count": null,
   "id": "c09ecaa6-92ba-45a0-9ea3-611221d01f42",
   "metadata": {},
   "outputs": [],
   "source": [
    "# 4・3・12\n",
    "csv_line = \"12.34 34.26  10.52\"\n",
    "numstr_list = csv_line.split()\n",
    "numstr_list # 結果を確認"
   ]
  },
  {
   "cell_type": "code",
   "execution_count": null,
   "id": "e211c579-1254-4e41-a695-1027bf366b01",
   "metadata": {},
   "outputs": [],
   "source": [
    "# 4・3・13\n",
    "num_list = []  # 数値のリストを初期化\n",
    "for num in numstr_list:\n",
    "    num_list += [float(num)]\n",
    "num_list  # 結果を表示"
   ]
  },
  {
   "cell_type": "code",
   "execution_count": null,
   "id": "c384168c-9a15-4493-a06f-9fe445b180a3",
   "metadata": {},
   "outputs": [],
   "source": [
    "# 4・3・14\n",
    "numstr = \"¥10000\"\n",
    "if numstr.startswith(\"¥\"):\n",
    "    numstr = numstr.replace(\"¥\", \"\")\n",
    "num = int(numstr)\n",
    "num   # 結果を確認"
   ]
  },
  {
   "cell_type": "code",
   "execution_count": null,
   "id": "84b3e1aa-b98b-4a71-bd64-08a2fb753acf",
   "metadata": {},
   "outputs": [],
   "source": [
    "# 4・3・15\n",
    "filename = \"picture.png.jpg\"\n",
    "if \".png\" in filename:\n",
    "    print(\"これはPNGファイルです\")\n",
    "elif \".jpg\" in filename:\n",
    "    print(\"これはJPGファイルです\")    "
   ]
  },
  {
   "cell_type": "code",
   "execution_count": null,
   "id": "ac03e29d-f50f-48e9-9778-f03b8c78b4db",
   "metadata": {},
   "outputs": [],
   "source": [
    "# 4・3・16\n",
    "filename = \"picture.png.jpg\"\n",
    "if filename.endswith(\".png\"):\n",
    "    print(\"これはPNGファイルです\")\n",
    "elif filename.endswith(\".jpg\"):\n",
    "    print(\"これはJPGファイルです\")    "
   ]
  },
  {
   "cell_type": "code",
   "execution_count": null,
   "id": "af5a5efb-b188-450e-bbde-853d22cd2016",
   "metadata": {},
   "outputs": [],
   "source": [
    "# 4・3・17\n",
    "bin_str = \"1000\"\n",
    "num = int(bin_str, 2)  # 2進数の文字列をint型に変換\n",
    "num  # 変数を確認"
   ]
  },
  {
   "cell_type": "code",
   "execution_count": null,
   "id": "fa65aaef-b83e-46f2-ada0-b10e8dc21ee9",
   "metadata": {},
   "outputs": [],
   "source": [
    "# 4・3・18\n",
    "hex_str = \"1000\"\n",
    "num = int(hex_str, 16)  # 16進数の文字列をint型に変換\n",
    "num  # 変数を確認"
   ]
  },
  {
   "cell_type": "code",
   "execution_count": null,
   "id": "a67f1856-1442-4102-962c-27f503f45164",
   "metadata": {},
   "outputs": [],
   "source": [
    "# 4・3・19\n",
    "bin(8)    # 十進数の8に相当する2進数を文字列にする"
   ]
  },
  {
   "cell_type": "code",
   "execution_count": null,
   "id": "78a7cfeb-1e2c-4606-a913-6f6e9154147b",
   "metadata": {},
   "outputs": [],
   "source": [
    "# 4・3・20\n",
    "long_message = \"祇園精舍の鐘の声諸行無常の響きあり\"\n",
    "print(f\"{long_message:.10}…\")"
   ]
  },
  {
   "cell_type": "code",
   "execution_count": null,
   "id": "7c22d71d-212f-4622-835d-eea2d9088b9b",
   "metadata": {},
   "outputs": [],
   "source": []
  }
 ],
 "metadata": {
  "kernelspec": {
   "display_name": "Python 3 (ipykernel)",
   "language": "python",
   "name": "python3"
  },
  "language_info": {
   "codemirror_mode": {
    "name": "ipython",
    "version": 3
   },
   "file_extension": ".py",
   "mimetype": "text/x-python",
   "name": "python",
   "nbconvert_exporter": "python",
   "pygments_lexer": "ipython3",
   "version": "3.12.4"
  }
 },
 "nbformat": 4,
 "nbformat_minor": 5
}
