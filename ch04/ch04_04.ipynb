{
 "cells": [
  {
   "cell_type": "markdown",
   "id": "71f221c5-3e50-4904-a251-d7763acef973",
   "metadata": {},
   "source": [
    "# リスト型，タプル型を使いこなす"
   ]
  },
  {
   "cell_type": "markdown",
   "id": "00a9855c-b86f-4070-966e-c994cf1bc688",
   "metadata": {},
   "source": [
    "## 要素を取り出す"
   ]
  },
  {
   "cell_type": "code",
   "execution_count": null,
   "id": "c4f80266-f5c4-456c-b99d-2e05584e1782",
   "metadata": {},
   "outputs": [],
   "source": [
    "# 4・4・1\n",
    "# 東京(2023年)の平均気温\n",
    "avg_temp_2023 = [6.7, 7.0, 12.0, 16.7, 20.3, 23.2,\n",
    "                 27.8, 29.0, 25.5, 19.3, 13.9, 9.3]"
   ]
  },
  {
   "cell_type": "code",
   "execution_count": null,
   "id": "07e53d73-a143-4343-a10a-88ed29b612b1",
   "metadata": {},
   "outputs": [],
   "source": [
    "# 4・4・2\n",
    "avg_temp_2023[2]  # 3月の平均気温を取り出す"
   ]
  },
  {
   "cell_type": "code",
   "execution_count": null,
   "id": "259234f9-d856-45e0-ab53-3761bf37afaa",
   "metadata": {},
   "outputs": [],
   "source": [
    "# 4・4・3\n",
    "max_temp = max(avg_temp_2023)\n",
    "min_temp = min(avg_temp_2023)\n",
    "print(f\"最高気温:{max_temp} 最低気温:{min_temp}\")"
   ]
  },
  {
   "cell_type": "code",
   "execution_count": null,
   "id": "a47cc392-a3f3-422a-95de-f9b78f745e88",
   "metadata": {},
   "outputs": [],
   "source": [
    "# 4・4・4\n",
    "max_idx = avg_temp_2023.index(max_temp)\n",
    "min_idx = avg_temp_2023.index(min_temp)\n",
    "print(f\"最高:{max_idx+1}月 最低:{min_idx+1}月\")"
   ]
  },
  {
   "cell_type": "markdown",
   "id": "3fdda825-d21b-419b-a58c-ce3189068030",
   "metadata": {},
   "source": [
    "## スライス"
   ]
  },
  {
   "cell_type": "code",
   "execution_count": null,
   "id": "005b80f1-ad61-45ac-a9c3-1896bccf0a94",
   "metadata": {},
   "outputs": [],
   "source": [
    "# 4・4・5\n",
    "summer_sum = avg_temp_2023[5]+avg_temp_2023[6] + avg_temp_2023[7]\n",
    "summer_avg = summer_sum / 3\n",
    "summer_avg   # 結果を表示"
   ]
  },
  {
   "cell_type": "code",
   "execution_count": null,
   "id": "37971e54-95a7-4abc-90c3-8aa05cd4bf2b",
   "metadata": {},
   "outputs": [],
   "source": [
    "# 4・4・6\n",
    "summer_temps = avg_temp_2023[5:8]\n",
    "summer_avg = sum(summer_temps) / 3\n",
    "summer_avg   # 結果を表示"
   ]
  },
  {
   "cell_type": "code",
   "execution_count": null,
   "id": "1c38256a-95e9-44ea-95ab-c7de0b95f4a7",
   "metadata": {},
   "outputs": [],
   "source": [
    "# 4・4・7\n",
    "summer_temps"
   ]
  },
  {
   "cell_type": "code",
   "execution_count": null,
   "id": "ff4f645a-f336-487e-9737-fb3c382909d4",
   "metadata": {},
   "outputs": [],
   "source": [
    "# 4・4・8\n",
    "avg_temp_2023[:6]   # 前半半年の平均気温"
   ]
  },
  {
   "cell_type": "code",
   "execution_count": null,
   "id": "5b87e87c-3a08-4def-8cd8-c079c3a05709",
   "metadata": {},
   "outputs": [],
   "source": [
    "# 4・4・9\n",
    "avg_temp_2023[6:]   # 後半半年の平均気温"
   ]
  },
  {
   "cell_type": "code",
   "execution_count": null,
   "id": "e76ed467-d9db-4e4a-8679-784bfb7822d9",
   "metadata": {},
   "outputs": [],
   "source": [
    "# 4・4・10\n",
    "avg_temp_2023[1::2]"
   ]
  },
  {
   "cell_type": "code",
   "execution_count": null,
   "id": "0454c9e4-8c55-4215-aba1-7bd83fca6697",
   "metadata": {},
   "outputs": [],
   "source": [
    "# 4・4・11\n",
    "avg_temp_2023[0::2]"
   ]
  },
  {
   "cell_type": "code",
   "execution_count": null,
   "id": "03a9fff5-57fc-40fc-ad9d-4dadbcbd97f0",
   "metadata": {},
   "outputs": [],
   "source": [
    "# 4・4・12\n",
    "avg_temp_2023[4:5]   # 5月の平均気温を取り出す"
   ]
  },
  {
   "cell_type": "code",
   "execution_count": null,
   "id": "8f5a0fbd-4ad5-4672-ae8c-9281c6bb905b",
   "metadata": {},
   "outputs": [],
   "source": [
    "# 4・4・13\n",
    "summer_temps = avg_temp_2023[5:8]\n",
    "summer_avg = sum(summer_temps) / len(summer_temps)\n",
    "summer_avg   # 結果を表示"
   ]
  },
  {
   "cell_type": "markdown",
   "id": "ab265805-bced-46d4-a0c4-ddc814a5c02d",
   "metadata": {},
   "source": [
    "## スライスと要素の代入"
   ]
  },
  {
   "cell_type": "code",
   "execution_count": null,
   "id": "de1d43e0-5cbd-4b1c-bb1d-8c42cede8179",
   "metadata": {},
   "outputs": [],
   "source": [
    "# 4・4・14\n",
    "# 東京(1876年)の平均気温\n",
    "avg_temp_1876 = [2.1, 4.2, 7.2, 12.4, 16.8, 21.3,\n",
    "                 25.0, 25.4, 22.0, 16.9, 10.4, 5.5]"
   ]
  },
  {
   "cell_type": "code",
   "execution_count": null,
   "id": "73b21d57-74b7-4da7-a295-247072503b1f",
   "metadata": {},
   "outputs": [],
   "source": [
    "# 4・4・15\n",
    "avg_temp_1876[0] = 2.7"
   ]
  },
  {
   "cell_type": "code",
   "execution_count": null,
   "id": "11a67176-2c17-4b0b-a73c-e5e01dd217d0",
   "metadata": {},
   "outputs": [],
   "source": [
    "# 4・4・16\n",
    "avg_temp_1876[1:4] = [4.1, 7.1, 12.3]"
   ]
  },
  {
   "cell_type": "code",
   "execution_count": null,
   "id": "f87758a1-14e4-40b5-a79b-fc8ebeaa0618",
   "metadata": {},
   "outputs": [],
   "source": [
    "# 4・4・17\n",
    "# 緯度経度をタプルに代入\n",
    "latlon = (35.64, 139.84)"
   ]
  },
  {
   "cell_type": "code",
   "execution_count": null,
   "id": "878bce0c-bf09-4fe2-bddc-f883f68787e8",
   "metadata": {},
   "outputs": [],
   "source": [
    "# 4・4・18\n",
    "latlon[0] = 36.25"
   ]
  },
  {
   "cell_type": "code",
   "execution_count": null,
   "id": "fcc73c1e-d940-4fde-afbf-f12e7cf4debc",
   "metadata": {},
   "outputs": [],
   "source": [
    "# 4・4・19\n",
    "tokyo_location = (\"東京\", ) + latlon"
   ]
  },
  {
   "cell_type": "code",
   "execution_count": null,
   "id": "b72a8258-b46b-40be-98ac-da62f095a78c",
   "metadata": {},
   "outputs": [],
   "source": [
    "# 4・4・20\n",
    "tokyo_location = \"東京\", 35.64, 139.84"
   ]
  },
  {
   "cell_type": "markdown",
   "id": "ca297e91-e848-4f12-9e35-cb5452e55b27",
   "metadata": {},
   "source": [
    "## リスト型のメソッド"
   ]
  },
  {
   "cell_type": "code",
   "execution_count": null,
   "id": "71e24bc6-ce12-44b6-8c83-f1592c4d3130",
   "metadata": {},
   "outputs": [],
   "source": [
    "# 4・4・21\n",
    "capitals = [\"那覇市\", \"鹿児島市\", \"宮崎市\", \"長崎市\", ]"
   ]
  },
  {
   "cell_type": "code",
   "execution_count": null,
   "id": "9ffc6bc0-3c7b-4e0b-a319-3bfc6ad04be8",
   "metadata": {},
   "outputs": [],
   "source": [
    "# 4・4・22\n",
    "capitals.append(\"熊本市\")\n",
    "capitals   # リストを確認"
   ]
  },
  {
   "cell_type": "code",
   "execution_count": null,
   "id": "69c0c94d-9f57-43eb-95c2-d118a2692cba",
   "metadata": {},
   "outputs": [],
   "source": [
    "# 4・4・23\n",
    "capitals.extend([\"大分市\", \"佐賀市\"])\n",
    "capitals[4:]   # リストを確認"
   ]
  },
  {
   "cell_type": "code",
   "execution_count": null,
   "id": "8a6df3c9-2c36-4113-9849-e17360db0145",
   "metadata": {},
   "outputs": [],
   "source": [
    "# 4・4・24\n",
    "kyushu_capitals = capitals.remove(\"那覇市\")"
   ]
  },
  {
   "cell_type": "code",
   "execution_count": null,
   "id": "0a2d2214-2658-477e-8ec1-d4f66f32b33b",
   "metadata": {},
   "outputs": [],
   "source": [
    "# 4・4・25\n",
    "kyushu_capitals"
   ]
  },
  {
   "cell_type": "markdown",
   "id": "364f89f4-92f4-4f8a-9cae-3ef857444b72",
   "metadata": {},
   "source": [
    "## if文とリスト，タプル"
   ]
  },
  {
   "cell_type": "code",
   "execution_count": null,
   "id": "3e31138c-3466-42cf-845a-c8cca1b84920",
   "metadata": {},
   "outputs": [],
   "source": [
    "# 4・4・26\n",
    "# 20までの素数のリストを定義\n",
    "primes = [2, 3, 5, 7, 11, 13, 17, 19]\n",
    "if 13 in primes:\n",
    "    print(\"13は素数です\")"
   ]
  },
  {
   "cell_type": "markdown",
   "id": "4692df8c-7179-4270-bd1a-5f06ab1e2304",
   "metadata": {},
   "source": [
    "## リストの要素を並べ変える(ソート)"
   ]
  },
  {
   "cell_type": "code",
   "execution_count": null,
   "id": "4aed87c7-9036-4e7c-8d14-86353f62c0ad",
   "metadata": {},
   "outputs": [],
   "source": [
    "# 4・4・27\n",
    "lons = [35.18, 40.82, 34.39, 35.44, 31.91, 37.90]"
   ]
  },
  {
   "cell_type": "code",
   "execution_count": null,
   "id": "ea95bd1e-d224-4e76-be21-7dd1fdf7c13c",
   "metadata": {},
   "outputs": [],
   "source": [
    "# 4・4・28\n",
    "lons.sort()\n",
    "lons    # 結果を表示"
   ]
  },
  {
   "cell_type": "code",
   "execution_count": null,
   "id": "f2d207b7-d920-4b2e-ab3b-5f0ad1313fbc",
   "metadata": {},
   "outputs": [],
   "source": [
    "# 4・4・29\n",
    "lons.reverse()\n",
    "lons    # 結果を表示"
   ]
  },
  {
   "cell_type": "code",
   "execution_count": null,
   "id": "cc19ecf5-d154-4569-bd5d-133df6846060",
   "metadata": {},
   "outputs": [],
   "source": [
    "# 4・4・30\n",
    "cities = [(\"名古屋\", 35.18, 136.91), (\"青森\", 40.82, 140.74),\n",
    "          (\"広島\", 34.39, 132.46), (\"横浜\", 35.44, 139.64),\n",
    "          (\"宮崎\", 31.91, 131.42), (\"新潟\", 37.90, 139.02)]"
   ]
  },
  {
   "cell_type": "code",
   "execution_count": null,
   "id": "6935bb26-a1bf-4284-8f57-76909ad2e44b",
   "metadata": {},
   "outputs": [],
   "source": [
    "# 4・4・31\n",
    "def get_lat(t):\n",
    "    # 引数のタプル(t)から緯度を返す\n",
    "    return t[1]"
   ]
  },
  {
   "cell_type": "code",
   "execution_count": null,
   "id": "4b01cd77-dace-4094-887e-a18b554ff827",
   "metadata": {},
   "outputs": [],
   "source": [
    "# 4・4・32\n",
    "get_lat(cities[0])"
   ]
  },
  {
   "cell_type": "code",
   "execution_count": null,
   "id": "eef4e1f2-4286-4c72-bee6-231024eff50b",
   "metadata": {},
   "outputs": [],
   "source": [
    "# 4・4・33\n",
    "cities.sort(key=get_lat)\n",
    "cities    # 結果を確認"
   ]
  },
  {
   "cell_type": "code",
   "execution_count": null,
   "id": "f155bac6-c2e1-4709-81fd-6eb47bf40ae0",
   "metadata": {},
   "outputs": [],
   "source": []
  }
 ],
 "metadata": {
  "kernelspec": {
   "display_name": "base",
   "language": "python",
   "name": "python3"
  },
  "language_info": {
   "codemirror_mode": {
    "name": "ipython",
    "version": 3
   },
   "file_extension": ".py",
   "mimetype": "text/x-python",
   "name": "python",
   "nbconvert_exporter": "python",
   "pygments_lexer": "ipython3",
   "version": "3.12.4"
  }
 },
 "nbformat": 4,
 "nbformat_minor": 5
}
