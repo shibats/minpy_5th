{
 "cells": [
  {
   "cell_type": "markdown",
   "id": "4512f152-3cc8-40c2-ae35-b4dadc870ff6",
   "metadata": {},
   "source": [
    "# スコープ\n",
    "## スコープによる名前の上書き"
   ]
  },
  {
   "cell_type": "code",
   "execution_count": null,
   "id": "20de32bb-5d42-4f96-8338-718bf94156b3",
   "metadata": {},
   "outputs": [],
   "source": [
    "# 10・2・1\n",
    "str = \"文字列\"\n",
    "num_str = str(100)"
   ]
  },
  {
   "cell_type": "markdown",
   "id": "d219709e-4486-4c51-b093-bd32247dbbb7",
   "metadata": {},
   "source": [
    "## スコープの昇格 – global文とnonlocal文"
   ]
  },
  {
   "cell_type": "code",
   "execution_count": null,
   "id": "c8ae60af-541e-4ec9-9b1f-553a93ad01dd",
   "metadata": {},
   "outputs": [],
   "source": [
    "# 10・2・2\n",
    "num1 = 10\n",
    "def test_func1():\n",
    "    num1 = 100\n",
    "    print(num1)"
   ]
  },
  {
   "cell_type": "code",
   "execution_count": null,
   "id": "0274a2bf-cd96-461b-8d4c-d50d8755afaf",
   "metadata": {},
   "outputs": [],
   "source": [
    "# 10・2・3\n",
    "test_func1()\n",
    "print(num1)"
   ]
  },
  {
   "cell_type": "code",
   "execution_count": 2,
   "id": "3660538a-51d9-4b90-9ddb-4298fb3ac61c",
   "metadata": {},
   "outputs": [],
   "source": [
    "# 10・2・4\n",
    "num2 = 10\n",
    "def test_func2():\n",
    "    global num2\n",
    "    num2 = 1000\n",
    "    print(num2)"
   ]
  },
  {
   "cell_type": "code",
   "execution_count": 4,
   "id": "33e2c4b9-df79-4442-97a3-1346d0b83817",
   "metadata": {},
   "outputs": [
    {
     "name": "stdout",
     "output_type": "stream",
     "text": [
      "1000\n",
      "1000\n"
     ]
    }
   ],
   "source": [
    "# 10・2・5\n",
    "test_func2()\n",
    "print(num2)"
   ]
  },
  {
   "cell_type": "markdown",
   "id": "3d5d2d0a-b812-4cf0-bae3-b5b4be83a644",
   "metadata": {},
   "source": [
    "## nonlocal文"
   ]
  },
  {
   "cell_type": "code",
   "execution_count": null,
   "id": "f966d229-848a-4286-ac01-c166f0efc5b2",
   "metadata": {},
   "outputs": [],
   "source": [
    "# 10・2・6\n",
    "def test_func3(arg):\n",
    "    def inner():\n",
    "        arg = 10\n",
    "        print(arg)\n",
    "    inner()\n",
    "    print(arg)"
   ]
  },
  {
   "cell_type": "code",
   "execution_count": null,
   "id": "5575c2f5-d7f5-439e-a642-b50dc47562bb",
   "metadata": {},
   "outputs": [],
   "source": [
    "# 10・2・7\n",
    "test_func3(1)"
   ]
  },
  {
   "cell_type": "code",
   "execution_count": null,
   "id": "826e958a-a1bf-42ab-b106-f2274de26bb3",
   "metadata": {},
   "outputs": [],
   "source": [
    "# 10・2・8\n",
    "def test_func4(arg):\n",
    "    def inner():\n",
    "        nonlocal arg\n",
    "        arg = 10\n",
    "        print(arg)\n",
    "    inner()\n",
    "    print(arg)"
   ]
  },
  {
   "cell_type": "code",
   "execution_count": null,
   "id": "0048604d-c1aa-46b3-ba8e-d36c4c5c00ab",
   "metadata": {},
   "outputs": [],
   "source": [
    "# 10・2・9\n",
    "test_func4(1)"
   ]
  },
  {
   "cell_type": "code",
   "execution_count": null,
   "id": "bdd4d370-7d13-4c8a-b68b-a8c8180771fd",
   "metadata": {},
   "outputs": [],
   "source": []
  }
 ],
 "metadata": {
  "kernelspec": {
   "display_name": "Python 3 (ipykernel)",
   "language": "python",
   "name": "python3"
  },
  "language_info": {
   "codemirror_mode": {
    "name": "ipython",
    "version": 3
   },
   "file_extension": ".py",
   "mimetype": "text/x-python",
   "name": "python",
   "nbconvert_exporter": "python",
   "pygments_lexer": "ipython3",
   "version": "3.12.4"
  }
 },
 "nbformat": 4,
 "nbformat_minor": 5
}
