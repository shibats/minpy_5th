{
 "cells": [
  {
   "cell_type": "markdown",
   "id": "071c6b4f-7747-4188-a439-a4d00eb955d0",
   "metadata": {},
   "source": [
    "# 例外処理\n",
    "# Pythonの例外処理\n",
    "## 例外とトレースバック"
   ]
  },
  {
   "cell_type": "code",
   "execution_count": null,
   "id": "fb3ab4eb-0ee8-4212-9c68-3f467c632a76",
   "metadata": {},
   "outputs": [],
   "source": [
    "# 10・1・1\n",
    "from datetime import date\n",
    "leapday = date(2025, 2, 29)"
   ]
  },
  {
   "cell_type": "markdown",
   "id": "b3f661c6-2179-4c0a-a5dc-c1671299033c",
   "metadata": {},
   "source": [
    "## try 〜 exceptで例外を捕まえる"
   ]
  },
  {
   "cell_type": "code",
   "execution_count": null,
   "id": "7b5413d4-40a5-47a3-bd01-60a000a57892",
   "metadata": {},
   "outputs": [],
   "source": [
    "# 10・1・2\n",
    "# 数値を二つ入力して割り算の結果を表示する\n",
    "num1 = int(input(\"数値1を入力してください:\"))\n",
    "num2 = int(input(\"数値2を入力してください:\"))\n",
    "answer = num1/num2\n",
    "print(f\"{num1}÷{num2}の答えは{answer}です。\")"
   ]
  },
  {
   "cell_type": "code",
   "execution_count": null,
   "id": "1dd05667-4c6a-4a76-9bb3-8e10143e7635",
   "metadata": {},
   "outputs": [],
   "source": [
    "# 10・1・3\n",
    "# 数値を二つ入力して割り算の結果を表示する\n",
    "try:\n",
    "    num1 = int(input(\"数値1を入力してください:\"))\n",
    "    num2 = int(input(\"数値2を入力してください:\"))\n",
    "    answer = num1/num2\n",
    "    print(f\"{num1}÷{num2}の答えは{num1/num2}です。\")\n",
    "except:\n",
    "    print(\"警告:数字を入力してください。\")"
   ]
  },
  {
   "cell_type": "code",
   "execution_count": null,
   "id": "8bb0d018-32a4-43ed-bb65-035f1d1baa39",
   "metadata": {},
   "outputs": [],
   "source": [
    "# 10・1・4\n",
    "# 数値を二つ入力して割り算の結果を表示する\n",
    "try:\n",
    "    num1 = int(input(\"数値1を入力してください:\"))\n",
    "    num2 = int(input(\"数値2を入力してください:\"))\n",
    "    answer = num1/num2\n",
    "    print(f\"{num1}÷{num2}の答えは{num1/num2}です。\")\n",
    "except ValueError:\n",
    "    print(\"警告:数字を入力してください。\")\n",
    "except ZeroDivisionError:\n",
    "    print(\"警告:0で割ることはできません\")"
   ]
  },
  {
   "cell_type": "code",
   "execution_count": null,
   "id": "c9c92ed0-eaab-42e8-8a28-fa2ba14bac14",
   "metadata": {},
   "outputs": [],
   "source": [
    "# 10・1・5\n",
    "str2 = input(\"数値2を入力してください:\")\n",
    "if not str2.isdecimal():\n",
    "    print(\"警告:数字を入力してください。\")\n",
    "else:\n",
    "    num2 = int(str2)\n",
    "    if num2 == 0:\n",
    "        print(\"警告:0で割ることはできません\")"
   ]
  },
  {
   "cell_type": "code",
   "execution_count": null,
   "id": "b85d5523-8ef9-4404-bcb5-412db61c119c",
   "metadata": {},
   "outputs": [],
   "source": [
    "# 10・1・6\n",
    "raise SyntaxError(\"これは人為的に発生させた文法エラーです。\")"
   ]
  },
  {
   "cell_type": "markdown",
   "id": "fd19226c-bcd2-4334-88bf-b04d721dd41d",
   "metadata": {},
   "source": [
    "## 例外オブジェクトを発生(raise)させる"
   ]
  },
  {
   "cell_type": "code",
   "execution_count": null,
   "id": "93a6400f-067c-492c-9498-16ac81bcac1d",
   "metadata": {},
   "outputs": [],
   "source": [
    "# 10・1・7\n",
    "try:\n",
    "    1/0\n",
    "except ZeroDivisionError as eobj:\n",
    "    print(eobj.args)"
   ]
  }
 ],
 "metadata": {
  "kernelspec": {
   "display_name": "Python 3 (ipykernel)",
   "language": "python",
   "name": "python3"
  },
  "language_info": {
   "codemirror_mode": {
    "name": "ipython",
    "version": 3
   },
   "file_extension": ".py",
   "mimetype": "text/x-python",
   "name": "python",
   "nbconvert_exporter": "python",
   "pygments_lexer": "ipython3",
   "version": "3.12.4"
  }
 },
 "nbformat": 4,
 "nbformat_minor": 5
}
