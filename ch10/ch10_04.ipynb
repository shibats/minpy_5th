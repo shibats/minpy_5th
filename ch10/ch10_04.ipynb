{
 "cells": [
  {
   "cell_type": "markdown",
   "id": "c724dc12-01a8-4815-b7b0-6804099c7567",
   "metadata": {},
   "source": [
    "# クラスと名前空間\n",
    "## クラスとアトリビュート"
   ]
  },
  {
   "cell_type": "code",
   "execution_count": null,
   "id": "53673a82-01c5-4293-82aa-a8870ffcea8f",
   "metadata": {},
   "outputs": [],
   "source": [
    "# 10・4・1\n",
    "class TestClass:\n",
    "    attr1 = 100\n",
    "    def __init__(self):\n",
    "        self.attr2 = 200"
   ]
  },
  {
   "cell_type": "code",
   "execution_count": null,
   "id": "5664672a-e8e5-43bb-84f7-45b39ff9da28",
   "metadata": {},
   "outputs": [],
   "source": [
    "# 10・4・2\n",
    "TestClass.attr1"
   ]
  },
  {
   "cell_type": "code",
   "execution_count": null,
   "id": "f2fe6414-8b23-4ac9-a639-554804149dff",
   "metadata": {},
   "outputs": [],
   "source": [
    "# 10・4・3\n",
    "repr(TestClass.__init__)"
   ]
  },
  {
   "cell_type": "code",
   "execution_count": null,
   "id": "945ac49a-55f8-40fb-8b69-8011f0447775",
   "metadata": {},
   "outputs": [],
   "source": [
    "# 10・4・4\n",
    "testobj = TestClass()\n",
    "testobj.attr2"
   ]
  },
  {
   "cell_type": "code",
   "execution_count": null,
   "id": "d4ea9ece-6a99-47f7-a731-5622c807aecc",
   "metadata": {},
   "outputs": [],
   "source": [
    "# 10・4・5\n",
    "testobj.attr1"
   ]
  },
  {
   "cell_type": "code",
   "execution_count": null,
   "id": "e314ad98-67f8-4291-bbdd-d0734e4c7f8a",
   "metadata": {},
   "outputs": [],
   "source": [
    "# 10・4・6\n",
    "testobj.attr1 = 10 # オブジェクトアトリビュートに代入\n",
    "TestClass.attr1 # クラスアトリビュートを表示"
   ]
  },
  {
   "cell_type": "code",
   "execution_count": null,
   "id": "80c0fcf4-0ffb-4cc0-a68a-39ab148aa016",
   "metadata": {},
   "outputs": [],
   "source": [
    "# 10・4・7\n",
    "def test_method(self, arg1):\n",
    "    self.attr2 = arg1\n",
    "\n",
    "TestClass.test_method = test_method"
   ]
  },
  {
   "cell_type": "code",
   "execution_count": null,
   "id": "4075b2bf-27a4-4f52-8065-236982325599",
   "metadata": {},
   "outputs": [],
   "source": [
    "# 10・4・8\n",
    "testobj.test_method(200)\n",
    "testobj.attr2"
   ]
  },
  {
   "cell_type": "markdown",
   "id": "5332c9de-cfab-4290-a89d-907f12e73f82",
   "metadata": {},
   "source": [
    "## アトリビュートの隠蔽"
   ]
  },
  {
   "cell_type": "code",
   "execution_count": null,
   "id": "e58606c7-e4e1-4100-b17b-5b7ec6aee17e",
   "metadata": {},
   "outputs": [],
   "source": [
    "# 10・4・9\n",
    "class TestClass2:\n",
    "    __hidden_attribute = 10\n",
    "    def test(self):\n",
    "        print(self.__hidden_attribute)"
   ]
  },
  {
   "cell_type": "code",
   "execution_count": null,
   "id": "2c89c240-3b28-467b-889a-72d8def8cbc2",
   "metadata": {},
   "outputs": [],
   "source": [
    "# 10・4・10\n",
    "TestClass2.__hidden_attribute"
   ]
  },
  {
   "cell_type": "code",
   "execution_count": null,
   "id": "dbc0dedc-e4e8-4c50-a7ef-7a82455fa402",
   "metadata": {},
   "outputs": [],
   "source": [
    "# 10・4・11\n",
    "TestClass2._TestClass2__hidden_attribute"
   ]
  },
  {
   "cell_type": "code",
   "execution_count": null,
   "id": "88d278e4-d5f4-4da5-bbda-90a66e1d1882",
   "metadata": {},
   "outputs": [],
   "source": [
    "# 10・4・12\n",
    "obj = TestClass2()\n",
    "obj.test()"
   ]
  },
  {
   "cell_type": "markdown",
   "id": "7c6c4d05-7a59-4ec0-8305-5e257028b6a5",
   "metadata": {},
   "source": [
    "## クラスメソッドとスタティックメソッド"
   ]
  },
  {
   "cell_type": "code",
   "execution_count": null,
   "id": "b0f062ae-990f-499e-b635-0e3f5f4fa0ca",
   "metadata": {},
   "outputs": [],
   "source": [
    "# 10・4・13\n",
    "class EmptyClass:\n",
    "    @classmethod\n",
    "    def test_method(cls):\n",
    "        print(cls)"
   ]
  },
  {
   "cell_type": "code",
   "execution_count": null,
   "id": "1c04a521-de76-49de-8b4a-48028162a6af",
   "metadata": {},
   "outputs": [],
   "source": [
    "# 10・4・14\n",
    "eobj = EmptyClass()\n",
    "eobj.test_method()"
   ]
  },
  {
   "cell_type": "code",
   "execution_count": null,
   "id": "190a9451-0f0c-4208-91d3-a47c11e3e8c0",
   "metadata": {},
   "outputs": [],
   "source": [
    "# 10・4・15\n",
    "EmptyClass.test_method()"
   ]
  },
  {
   "cell_type": "code",
   "execution_count": null,
   "id": "82a20d49-53ea-4dfe-9c56-49e3eef5cc2e",
   "metadata": {},
   "outputs": [],
   "source": []
  }
 ],
 "metadata": {
  "kernelspec": {
   "display_name": "Python 3 (ipykernel)",
   "language": "python",
   "name": "python3"
  },
  "language_info": {
   "codemirror_mode": {
    "name": "ipython",
    "version": 3
   },
   "file_extension": ".py",
   "mimetype": "text/x-python",
   "name": "python",
   "nbconvert_exporter": "python",
   "pygments_lexer": "ipython3",
   "version": "3.12.4"
  }
 },
 "nbformat": 4,
 "nbformat_minor": 5
}
