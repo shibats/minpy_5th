{
 "cells": [
  {
   "cell_type": "markdown",
   "id": "c7af3ed9",
   "metadata": {},
   "source": [
    "# Pythonという異世界"
   ]
  },
  {
   "cell_type": "code",
   "execution_count": null,
   "id": "42357e4c",
   "metadata": {},
   "outputs": [],
   "source": [
    "# 1・1・1\n",
    "apple = 1 # リンゴを1つ出現させる\n",
    "apple = apple + 1 # リンゴを1つ増やす\n",
    "print(apple) # リンゴの状態を表示する"
   ]
  },
  {
   "cell_type": "code",
   "execution_count": null,
   "id": "f38f9cde",
   "metadata": {},
   "outputs": [],
   "source": [
    "# 最初にこのプログラムを実行してください\n",
    "tokyo_avg_temp = [5.2, 6.1, 9.4, 14.7, 19.3, 22.5,\n",
    "26.4, 27.7, 24.1, 18.3, 13.0, 8.4]\n",
    "sapporo_avg_temp = [-3.6, -2.6, 1.2, 7.9, 13.2, 17.0,\n",
    "21.3, 22.9, 18.1, 11.4, 4.5, -1.4]"
   ]
  },
  {
   "cell_type": "code",
   "execution_count": null,
   "id": "b6d09f51",
   "metadata": {},
   "outputs": [],
   "source": [
    "# 1・1・2\n",
    "import matplotlib.pyplot as plt\n",
    "months = list(range(1, 13))\n",
    "plt.plot(months, tokyo_avg_temp, label=\"Tokyo\", linestyle = \"dashed\")\n",
    "plt.plot(months, sapporo_avg_temp, label=\"Sapporo\", linestyle = \"dotted\")\n",
    "plt.legend()\n",
    "# 注:紙面の都合上，書籍に掲載してあるプログラムに「linestyle = \"dashed\"」が追加してあります"
   ]
  },
  {
   "cell_type": "code",
   "execution_count": null,
   "id": "a88a6ae5",
   "metadata": {},
   "outputs": [],
   "source": [
    "# このプログラムを実行してください\n",
    "okinawa_avg_temp = [17.0, 17.2, 18.9, 21.6, 24.6, 27.4,\n",
    "28.9, 28.7, 27.5, 25.0, 22.1, 18.7]"
   ]
  },
  {
   "cell_type": "code",
   "execution_count": null,
   "id": "cb694bff",
   "metadata": {},
   "outputs": [],
   "source": [
    "# 1・1・3\n",
    "import matplotlib.pyplot as plt\n",
    "months = list(range(1, 13))\n",
    "plt.plot(months, tokyo_avg_temp, label=\"Tokyo\", linestyle = \"dashed\")\n",
    "plt.plot(months, sapporo_avg_temp, label=\"Sapporo\", linestyle = \"dotted\")\n",
    "plt.plot(months, okinawa_avg_temp, label=\"Okinawa\", linestyle = \"dashdot\")\n",
    "plt.legend()\n",
    "# 注:紙面の都合上，書籍に掲載してあるプログラムに「linestyle = \"dashed\"」が追加してあります"
   ]
  },
  {
   "cell_type": "code",
   "execution_count": null,
   "id": "c4d7b2ce",
   "metadata": {},
   "outputs": [],
   "source": []
  }
 ],
 "metadata": {
  "kernelspec": {
   "display_name": "base",
   "language": "python",
   "name": "python3"
  },
  "language_info": {
   "codemirror_mode": {
    "name": "ipython",
    "version": 3
   },
   "file_extension": ".py",
   "mimetype": "text/x-python",
   "name": "python",
   "nbconvert_exporter": "python",
   "pygments_lexer": "ipython3",
   "version": "3.12.4"
  }
 },
 "nbformat": 4,
 "nbformat_minor": 5
}
